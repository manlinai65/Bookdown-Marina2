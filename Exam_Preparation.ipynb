{
  "nbformat": 4,
  "nbformat_minor": 0,
  "metadata": {
    "colab": {
      "name": "Exam Preparation.ipynb",
      "provenance": [],
      "collapsed_sections": [],
      "authorship_tag": "ABX9TyO/HRN3qVUHVCSK8+bTUd1S",
      "include_colab_link": true
    },
    "kernelspec": {
      "name": "python3",
      "display_name": "Python 3"
    }
  },
  "cells": [
    {
      "cell_type": "markdown",
      "metadata": {
        "id": "view-in-github",
        "colab_type": "text"
      },
      "source": [
        "<a href=\"https://colab.research.google.com/github/manlinai65/Bookdown-Marina2/blob/master/Exam_Preparation.ipynb\" target=\"_parent\"><img src=\"https://colab.research.google.com/assets/colab-badge.svg\" alt=\"Open In Colab\"/></a>"
      ]
    },
    {
      "cell_type": "markdown",
      "metadata": {
        "id": "YFa2fQqD2kM_",
        "colab_type": "text"
      },
      "source": [
        "#Exam Preparation"
      ]
    },
    {
      "cell_type": "markdown",
      "metadata": {
        "id": "0ZviCmkE2xnc",
        "colab_type": "text"
      },
      "source": [
        "## Unit1 \"Setting up\"\n"
      ]
    },
    {
      "cell_type": "code",
      "metadata": {
        "id": "p3nXOQ3K23dl",
        "colab_type": "code",
        "colab": {}
      },
      "source": [
        "!pip install pandas as pd\n",
        "!pip install numpy as np\n",
        "import numpy as np\n",
        "import pandas as pd\n",
        "#Read the csv file and store it in the variable \"myData\". Note: this file is hostes in a GitHub repository.\n",
        "myData=pd.read_csv(filepath_or_buffer=\"https://raw.githubusercontent.com/bachmannpatrick/Python-Class/master/data/transactions.csv\", sep=\",\")\n",
        "print(myData)"
      ],
      "execution_count": null,
      "outputs": []
    },
    {
      "cell_type": "markdown",
      "metadata": {
        "id": "hZP-Y8YlBoYB",
        "colab_type": "text"
      },
      "source": [
        "We can also explicitly import modules (certain functions/classes) of a package:\n"
      ]
    },
    {
      "cell_type": "code",
      "metadata": {
        "id": "DNBXkrm5BsNW",
        "colab_type": "code",
        "colab": {}
      },
      "source": [
        "from numpy import sum"
      ],
      "execution_count": null,
      "outputs": []
    },
    {
      "cell_type": "markdown",
      "metadata": {
        "id": "giejeLw9CCP_",
        "colab_type": "text"
      },
      "source": [
        "To uninstall the package"
      ]
    },
    {
      "cell_type": "code",
      "metadata": {
        "id": "ZWTLTzvMCGCj",
        "colab_type": "code",
        "colab": {}
      },
      "source": [
        "!pip uninstall numpy"
      ],
      "execution_count": null,
      "outputs": []
    },
    {
      "cell_type": "markdown",
      "metadata": {
        "id": "h5yADcZN2_8t",
        "colab_type": "text"
      },
      "source": [
        "###In case of calling help"
      ]
    },
    {
      "cell_type": "markdown",
      "metadata": {
        "id": "cR2czmw9_6FS",
        "colab_type": "text"
      },
      "source": [
        "help(packagename.functionname)"
      ]
    },
    {
      "cell_type": "code",
      "metadata": {
        "id": "qw14xjcH3CNo",
        "colab_type": "code",
        "colab": {}
      },
      "source": [
        "help(np.sum)"
      ],
      "execution_count": null,
      "outputs": []
    },
    {
      "cell_type": "markdown",
      "metadata": {
        "id": "CCVm8mnuA2vY",
        "colab_type": "text"
      },
      "source": [
        "Notebooks are based on the read-eval-print loop (REPL) technique\n",
        "R= read\n",
        "E=Evaluate\n",
        "P=Print"
      ]
    },
    {
      "cell_type": "markdown",
      "metadata": {
        "id": "QToGr5WX3k07",
        "colab_type": "text"
      },
      "source": [
        "###Excercise 1"
      ]
    },
    {
      "cell_type": "code",
      "metadata": {
        "id": "QeqdGk5D3tpG",
        "colab_type": "code",
        "colab": {}
      },
      "source": [
        "#Find and use a Python command to list all installed packages.\n",
        "!pip list"
      ],
      "execution_count": null,
      "outputs": []
    },
    {
      "cell_type": "markdown",
      "metadata": {
        "id": "yz-zxsuRC4UK",
        "colab_type": "text"
      },
      "source": [
        "Differentiate two types of function arguments:\n",
        "▪ **No default** if parameter is not specified, error is returned ▪ **Default** if parameter is not specified, default is used"
      ]
    },
    {
      "cell_type": "markdown",
      "metadata": {
        "id": "wvp4NK0BDUX_",
        "colab_type": "text"
      },
      "source": [
        "To find the current working directory use"
      ]
    },
    {
      "cell_type": "code",
      "metadata": {
        "id": "3-ajSEb8Dbst",
        "colab_type": "code",
        "colab": {}
      },
      "source": [
        "import os\n",
        "os.getcwd()"
      ],
      "execution_count": null,
      "outputs": []
    },
    {
      "cell_type": "markdown",
      "metadata": {
        "id": "oloAtrG43-Z6",
        "colab_type": "text"
      },
      "source": [
        "# Unit2 \"Basic techniques for investigating data objects\""
      ]
    },
    {
      "cell_type": "markdown",
      "metadata": {
        "id": "82kwAhcp4HZB",
        "colab_type": "text"
      },
      "source": [
        "###2-1 Look at the data "
      ]
    },
    {
      "cell_type": "code",
      "metadata": {
        "id": "S03kGN9N4FDQ",
        "colab_type": "code",
        "colab": {
          "base_uri": "https://localhost:8080/",
          "height": 133
        },
        "outputId": "8106baf3-e9f2-49ab-abe5-d77f2a2aa5c3"
      },
      "source": [
        "myData.head(n=3)\n",
        "myData.tail(n=3)"
      ],
      "execution_count": null,
      "outputs": [
        {
          "output_type": "execute_result",
          "data": {
            "text/html": [
              "<div>\n",
              "<style scoped>\n",
              "    .dataframe tbody tr th:only-of-type {\n",
              "        vertical-align: middle;\n",
              "    }\n",
              "\n",
              "    .dataframe tbody tr th {\n",
              "        vertical-align: top;\n",
              "    }\n",
              "\n",
              "    .dataframe thead th {\n",
              "        text-align: right;\n",
              "    }\n",
              "</style>\n",
              "<table border=\"1\" class=\"dataframe\">\n",
              "  <thead>\n",
              "    <tr style=\"text-align: right;\">\n",
              "      <th></th>\n",
              "      <th>Customer</th>\n",
              "      <th>TransDate</th>\n",
              "      <th>Quantity</th>\n",
              "      <th>PurchAmount</th>\n",
              "      <th>Cost</th>\n",
              "      <th>TransID</th>\n",
              "    </tr>\n",
              "  </thead>\n",
              "  <tbody>\n",
              "    <tr>\n",
              "      <th>223188</th>\n",
              "      <td>199998</td>\n",
              "      <td>17.09.2012</td>\n",
              "      <td>1</td>\n",
              "      <td>29.95</td>\n",
              "      <td>13.80</td>\n",
              "      <td>132481154</td>\n",
              "    </tr>\n",
              "    <tr>\n",
              "      <th>223189</th>\n",
              "      <td>199999</td>\n",
              "      <td>17.09.2012</td>\n",
              "      <td>1</td>\n",
              "      <td>179.95</td>\n",
              "      <td>109.99</td>\n",
              "      <td>132481165</td>\n",
              "    </tr>\n",
              "    <tr>\n",
              "      <th>223190</th>\n",
              "      <td>199542</td>\n",
              "      <td>17.09.2012</td>\n",
              "      <td>1</td>\n",
              "      <td>39.95</td>\n",
              "      <td>10.50</td>\n",
              "      <td>131973368</td>\n",
              "    </tr>\n",
              "  </tbody>\n",
              "</table>\n",
              "</div>"
            ],
            "text/plain": [
              "        Customer   TransDate  Quantity  PurchAmount    Cost    TransID\n",
              "223188    199998  17.09.2012         1        29.95   13.80  132481154\n",
              "223189    199999  17.09.2012         1       179.95  109.99  132481165\n",
              "223190    199542  17.09.2012         1        39.95   10.50  131973368"
            ]
          },
          "metadata": {
            "tags": []
          },
          "execution_count": 14
        }
      ]
    },
    {
      "cell_type": "code",
      "metadata": {
        "id": "HorjrXu84PEZ",
        "colab_type": "code",
        "colab": {
          "base_uri": "https://localhost:8080/",
          "height": 131
        },
        "outputId": "d2b2f6f0-102c-442d-f5dc-cc30a2a08fab"
      },
      "source": [
        "myData.dtypes"
      ],
      "execution_count": null,
      "outputs": [
        {
          "output_type": "execute_result",
          "data": {
            "text/plain": [
              "Customer         int64\n",
              "TransDate       object\n",
              "Quantity         int64\n",
              "PurchAmount    float64\n",
              "Cost           float64\n",
              "TransID          int64\n",
              "dtype: object"
            ]
          },
          "metadata": {
            "tags": []
          },
          "execution_count": 8
        }
      ]
    },
    {
      "cell_type": "markdown",
      "metadata": {
        "id": "3FJROMN74WZc",
        "colab_type": "text"
      },
      "source": [
        "###Format the data"
      ]
    },
    {
      "cell_type": "code",
      "metadata": {
        "id": "4IFhWSo64LFt",
        "colab_type": "code",
        "colab": {}
      },
      "source": [
        "#note: you will not see an output for this line\n",
        "myData[\"TransDate\"]=pd.to_datetime(myData[\"TransDate\"], format=\"%d.%m.%Y\", utc=True)\n",
        "#therefore we check again with dtypes. Note the \"TransDate\" variable.\n",
        "myData.dtypes"
      ],
      "execution_count": null,
      "outputs": []
    },
    {
      "cell_type": "markdown",
      "metadata": {
        "id": "qe91RDWc4Y0v",
        "colab_type": "text"
      },
      "source": [
        "###ummary of the statistics"
      ]
    },
    {
      "cell_type": "code",
      "metadata": {
        "id": "Rgoo8UPC4dMD",
        "colab_type": "code",
        "colab": {
          "base_uri": "https://localhost:8080/",
          "height": 277
        },
        "outputId": "cd1a2110-35f2-476a-cc9c-be472190326b"
      },
      "source": [
        "myData.describe()"
      ],
      "execution_count": null,
      "outputs": [
        {
          "output_type": "execute_result",
          "data": {
            "text/html": [
              "<div>\n",
              "<style scoped>\n",
              "    .dataframe tbody tr th:only-of-type {\n",
              "        vertical-align: middle;\n",
              "    }\n",
              "\n",
              "    .dataframe tbody tr th {\n",
              "        vertical-align: top;\n",
              "    }\n",
              "\n",
              "    .dataframe thead th {\n",
              "        text-align: right;\n",
              "    }\n",
              "</style>\n",
              "<table border=\"1\" class=\"dataframe\">\n",
              "  <thead>\n",
              "    <tr style=\"text-align: right;\">\n",
              "      <th></th>\n",
              "      <th>Customer</th>\n",
              "      <th>Quantity</th>\n",
              "      <th>PurchAmount</th>\n",
              "      <th>Cost</th>\n",
              "      <th>TransID</th>\n",
              "    </tr>\n",
              "  </thead>\n",
              "  <tbody>\n",
              "    <tr>\n",
              "      <th>count</th>\n",
              "      <td>223191.000000</td>\n",
              "      <td>223191.000000</td>\n",
              "      <td>223191.000000</td>\n",
              "      <td>223191.000000</td>\n",
              "      <td>2.231910e+05</td>\n",
              "    </tr>\n",
              "    <tr>\n",
              "      <th>mean</th>\n",
              "      <td>148366.708384</td>\n",
              "      <td>1.037009</td>\n",
              "      <td>84.164615</td>\n",
              "      <td>39.013295</td>\n",
              "      <td>1.279955e+08</td>\n",
              "    </tr>\n",
              "    <tr>\n",
              "      <th>std</th>\n",
              "      <td>28657.866956</td>\n",
              "      <td>0.336899</td>\n",
              "      <td>105.864308</td>\n",
              "      <td>57.145100</td>\n",
              "      <td>2.188099e+06</td>\n",
              "    </tr>\n",
              "    <tr>\n",
              "      <th>min</th>\n",
              "      <td>100001.000000</td>\n",
              "      <td>1.000000</td>\n",
              "      <td>0.000000</td>\n",
              "      <td>0.000000</td>\n",
              "      <td>1.234568e+08</td>\n",
              "    </tr>\n",
              "    <tr>\n",
              "      <th>25%</th>\n",
              "      <td>123563.000000</td>\n",
              "      <td>1.000000</td>\n",
              "      <td>34.950000</td>\n",
              "      <td>14.030000</td>\n",
              "      <td>1.259722e+08</td>\n",
              "    </tr>\n",
              "    <tr>\n",
              "      <th>50%</th>\n",
              "      <td>148635.000000</td>\n",
              "      <td>1.000000</td>\n",
              "      <td>59.950000</td>\n",
              "      <td>24.000000</td>\n",
              "      <td>1.282728e+08</td>\n",
              "    </tr>\n",
              "    <tr>\n",
              "      <th>75%</th>\n",
              "      <td>172467.000000</td>\n",
              "      <td>1.000000</td>\n",
              "      <td>99.950000</td>\n",
              "      <td>45.000000</td>\n",
              "      <td>1.291887e+08</td>\n",
              "    </tr>\n",
              "    <tr>\n",
              "      <th>max</th>\n",
              "      <td>199999.000000</td>\n",
              "      <td>70.000000</td>\n",
              "      <td>5000.000000</td>\n",
              "      <td>3100.000000</td>\n",
              "      <td>1.324812e+08</td>\n",
              "    </tr>\n",
              "  </tbody>\n",
              "</table>\n",
              "</div>"
            ],
            "text/plain": [
              "            Customer       Quantity    PurchAmount           Cost       TransID\n",
              "count  223191.000000  223191.000000  223191.000000  223191.000000  2.231910e+05\n",
              "mean   148366.708384       1.037009      84.164615      39.013295  1.279955e+08\n",
              "std     28657.866956       0.336899     105.864308      57.145100  2.188099e+06\n",
              "min    100001.000000       1.000000       0.000000       0.000000  1.234568e+08\n",
              "25%    123563.000000       1.000000      34.950000      14.030000  1.259722e+08\n",
              "50%    148635.000000       1.000000      59.950000      24.000000  1.282728e+08\n",
              "75%    172467.000000       1.000000      99.950000      45.000000  1.291887e+08\n",
              "max    199999.000000      70.000000    5000.000000    3100.000000  1.324812e+08"
            ]
          },
          "metadata": {
            "tags": []
          },
          "execution_count": 9
        }
      ]
    },
    {
      "cell_type": "markdown",
      "metadata": {
        "id": "JZKy2OLC4hpO",
        "colab_type": "text"
      },
      "source": [
        "### Write data as CSV"
      ]
    },
    {
      "cell_type": "code",
      "metadata": {
        "id": "uumuHQfN4mFT",
        "colab_type": "code",
        "colab": {}
      },
      "source": [
        "myData.to_csv(path_or_buf=\"file.csv\", \tsep=\",\" ,...)"
      ],
      "execution_count": null,
      "outputs": []
    },
    {
      "cell_type": "markdown",
      "metadata": {
        "id": "FDq6K9kr4wZ3",
        "colab_type": "text"
      },
      "source": [
        "###2-2 Creating basic plots"
      ]
    },
    {
      "cell_type": "markdown",
      "metadata": {
        "id": "NY_TulK441Gn",
        "colab_type": "text"
      },
      "source": [
        "###Preparation"
      ]
    },
    {
      "cell_type": "code",
      "metadata": {
        "id": "8b3T3lh342bd",
        "colab_type": "code",
        "colab": {
          "base_uri": "https://localhost:8080/",
          "height": 265
        },
        "outputId": "ebf4dea5-70fb-4660-e1a6-e6c638c15e88"
      },
      "source": [
        "#load matplotlib and pyplot as plt\n",
        "import matplotlib.pyplot as plt\n",
        "#generate the plot\n",
        "plt.hist(x=myData[\"PurchAmount\"])\n",
        "#show the plot\n",
        "plt.show()"
      ],
      "execution_count": null,
      "outputs": [
        {
          "output_type": "display_data",
          "data": {
            "image/png": "[encoded data removed]",
            "text/plain": [
              "<Figure size 432x288 with 1 Axes>"
            ]
          },
          "metadata": {
            "tags": [],
            "needs_background": "light"
          }
        }
      ]
    },
    {
      "cell_type": "markdown",
      "metadata": {
        "id": "wSlfjnEi47Kc",
        "colab_type": "text"
      },
      "source": [
        "###Scatter plot"
      ]
    },
    {
      "cell_type": "code",
      "metadata": {
        "id": "ENcJ15hN48wC",
        "colab_type": "code",
        "colab": {
          "base_uri": "https://localhost:8080/",
          "height": 295
        },
        "outputId": "d4a7b2d4-744d-421e-e814-4ceae9e4017b"
      },
      "source": [
        "plt.plot(myData[\"PurchAmount\"], myData[\"Cost\"],\"o\") #\"s\" is square\n",
        "plt.xlabel(\"Purchase Amount\")\n",
        "plt.ylabel(\"Cost\")\n",
        "plt.title(\"Costs by Purchase Amount\")\n",
        "plt.xlim(-100,6000)\n",
        "plt.ylim(-100,3500)\n",
        "plt.show()"
      ],
      "execution_count": null,
      "outputs": [
        {
          "output_type": "display_data",
          "data": {
            "image/png": "[encoded data removed]",
            "text/plain": [
              "<Figure size 432x288 with 1 Axes>"
            ]
          },
          "metadata": {
            "tags": [],
            "needs_background": "light"
          }
        }
      ]
    },
    {
      "cell_type": "markdown",
      "metadata": {
        "id": "2loNI-Dq5aUh",
        "colab_type": "text"
      },
      "source": [
        "###Changing everything"
      ]
    },
    {
      "cell_type": "code",
      "metadata": {
        "id": "PBCRrb8S5Igg",
        "colab_type": "code",
        "colab": {
          "base_uri": "https://localhost:8080/",
          "height": 303
        },
        "outputId": "8cd85574-ae37-40f1-e854-5a79be5ab01d"
      },
      "source": [
        "plt.scatter(x=myData[\"PurchAmount\"], \ty=myData[\"Cost\"])\n",
        "plt.xlabel(\"Purchase Amount\", size=20, fontweight=\"bold\", \tcolor=\"green\")\n",
        "plt.ylabel(\"Cost\", size=20, fontweight=\"bold\", \tcolor=\"blue\")\n",
        "plt.title(\"Costs by Purchase Amount\", style=\"italic\", color=\"red\")\n",
        "plt.xlim(0,6000)\n",
        "plt.ylim(0,3500)\n",
        "plt.show()"
      ],
      "execution_count": null,
      "outputs": [
        {
          "output_type": "display_data",
          "data": {
            "image/png": "[encoded data removed]",
            "text/plain": [
              "<Figure size 432x288 with 1 Axes>"
            ]
          },
          "metadata": {
            "tags": [],
            "needs_background": "light"
          }
        }
      ]
    },
    {
      "cell_type": "markdown",
      "metadata": {
        "id": "fIg1c8_D5oUb",
        "colab_type": "text"
      },
      "source": [
        "###Additional elements"
      ]
    },
    {
      "cell_type": "code",
      "metadata": {
        "id": "Vbm-2Zw75rhL",
        "colab_type": "code",
        "colab": {}
      },
      "source": [
        "plt.plot(myData[\"PurchAmount\"], myData[\"Cost\"], \"o\")\n",
        "fit = np.polyfit(x=myData[\"PurchAmount\"], y=myData[\"Cost\"], deg=1)\n",
        "plt.plot(myData[\"PurchAmount\"], fit[0] * myData[\"PurchAmount\"] +\n",
        "fit[1],\"-\", color=\"green\")\n",
        "\n",
        "plt.axhline(y=0, xmin=min(myData[\"PurchAmount\"]),\n",
        "xmax=max(myData[\"PurchAmount\"]), linewidth=0.5, color = 'k')\n",
        "plt.text(4000,3300, \"max costs\")\n",
        "plt.plot(4500, 3100, \"o\", color=\"red\", markersize=10)\n",
        "plt.show()"
      ],
      "execution_count": null,
      "outputs": []
    },
    {
      "cell_type": "markdown",
      "metadata": {
        "id": "ew0_pbNoJjJ2",
        "colab_type": "text"
      },
      "source": [
        "Fitting Linear regression could be 1)slope 2)intercept"
      ]
    },
    {
      "cell_type": "code",
      "metadata": {
        "id": "YNn7UBjkJd6X",
        "colab_type": "code",
        "colab": {}
      },
      "source": [
        "plt.plot(myData[\"PurchAmount\"], myData[\"Cost\"], \"o\")\n",
        "fit = np.polyfit(x=myData[\"PurchAmount\"], y=myData[\"Cost\"], deg=1) plt.plot(myData[\"PurchAmount\"], fit[0] * myData[\"PurchAmount\"] + fit[1],\"-\", color=\"green\")\n",
        "plt.show()"
      ],
      "execution_count": null,
      "outputs": []
    },
    {
      "cell_type": "markdown",
      "metadata": {
        "id": "QCJ5kSqIJ_-z",
        "colab_type": "text"
      },
      "source": [
        "axhline() to add to add horizontal lines "
      ]
    },
    {
      "cell_type": "code",
      "metadata": {
        "id": "P_NlKhPtJyt0",
        "colab_type": "code",
        "colab": {}
      },
      "source": [
        "plt.axhline(y=0, xmin=min(myData[\"PurchAmount\"]), xmax=max(myData[\"PurchAmount\"]), linewidth=0.5, color = 'k') \n",
        "plt.text(4000,3300, \"max costs\") \n",
        "plt.plot(4500, 3100, \"o\", color=\"red\", markersize=10)"
      ],
      "execution_count": null,
      "outputs": []
    },
    {
      "cell_type": "markdown",
      "metadata": {
        "id": "mcnYdbul5wk5",
        "colab_type": "text"
      },
      "source": [
        "###To plot multiple in one image "
      ]
    },
    {
      "cell_type": "code",
      "metadata": {
        "id": "XAntsXaH6KbU",
        "colab_type": "code",
        "colab": {}
      },
      "source": [
        "plt.subplot(1,2,1)  #(row,column,plot#)\n",
        "plt.hist(myData[\"PurchAmount\"],color=\"green\")\n",
        "plt.title(\"Hist PurchAmount\")\n",
        "plt.xlabel(\"Purchase Amount\")\n",
        "plt.ylabel(\"Frequency\")\n",
        "\n",
        "plt.subplot(1,2,2)\n",
        "plt.plot(myData[\"PurchAmount\"],\n",
        "\tmyData[\"Cost\"], \"o\")\n",
        "plt.title(\"Cost on PurchAmount\")\n",
        "plt.xlabel(\"Purchase Amount\")\n",
        "plt.ylabel(\"Frequency\")\n",
        "plt.suptitle(\"Multiple graphs\")  #Common title \n",
        "plt.show()"
      ],
      "execution_count": null,
      "outputs": []
    },
    {
      "cell_type": "markdown",
      "metadata": {
        "id": "eCoHXSsJ6OuJ",
        "colab_type": "text"
      },
      "source": [
        "###Save the plot "
      ]
    },
    {
      "cell_type": "code",
      "metadata": {
        "id": "j8yjZyf26Tdh",
        "colab_type": "code",
        "colab": {}
      },
      "source": [
        "plt.plot(myData[\"PurchAmount\"],myData[\"Cost\"], \"o\")\n",
        "plt.title(\"Cost on PurchAmount\")\n",
        "plt.savefig(\"Output.png\")"
      ],
      "execution_count": null,
      "outputs": []
    },
    {
      "cell_type": "markdown",
      "metadata": {
        "id": "iWIlJ97m6c63",
        "colab_type": "text"
      },
      "source": [
        "### Unit2 Exercises"
      ]
    },
    {
      "cell_type": "code",
      "metadata": {
        "id": "dqnd3ky16cmA",
        "colab_type": "code",
        "colab": {}
      },
      "source": [
        "# Preparations\n",
        "#load pandas\n",
        "import pandas as pd\n",
        "myData=pd.read_csv(\"https://raw.githubusercontent.com/bachmannpatrick/Python-Class/master/data/transactions.csv\")"
      ],
      "execution_count": null,
      "outputs": []
    },
    {
      "cell_type": "markdown",
      "metadata": {
        "id": "n9l5UMC-6ua4",
        "colab_type": "text"
      },
      "source": [
        "###Use pandas' to_datetime()-function to format the TransDate column."
      ]
    },
    {
      "cell_type": "code",
      "metadata": {
        "id": "fvtZTpJ06mYf",
        "colab_type": "code",
        "colab": {}
      },
      "source": [
        "myData[\"TransDate\"]  = pd.to_datetime(myData[\"TransDate\"],format=\"%d.%m.%Y\",utc=True)"
      ],
      "execution_count": null,
      "outputs": []
    },
    {
      "cell_type": "markdown",
      "metadata": {
        "id": "rmGAWu_L64Gg",
        "colab_type": "text"
      },
      "source": [
        "###Use dtypes() to see if the change was made correctly. (How can you tell?)"
      ]
    },
    {
      "cell_type": "code",
      "metadata": {
        "id": "nZorDmVO67K2",
        "colab_type": "code",
        "colab": {
          "base_uri": "https://localhost:8080/",
          "height": 133
        },
        "outputId": "bc5f093e-fda5-4af2-aa25-ee0b2a0cb166"
      },
      "source": [
        "myData.dtypes\n",
        "myData.head(n=3)"
      ],
      "execution_count": null,
      "outputs": [
        {
          "output_type": "execute_result",
          "data": {
            "text/html": [
              "<div>\n",
              "<style scoped>\n",
              "    .dataframe tbody tr th:only-of-type {\n",
              "        vertical-align: middle;\n",
              "    }\n",
              "\n",
              "    .dataframe tbody tr th {\n",
              "        vertical-align: top;\n",
              "    }\n",
              "\n",
              "    .dataframe thead th {\n",
              "        text-align: right;\n",
              "    }\n",
              "</style>\n",
              "<table border=\"1\" class=\"dataframe\">\n",
              "  <thead>\n",
              "    <tr style=\"text-align: right;\">\n",
              "      <th></th>\n",
              "      <th>Customer</th>\n",
              "      <th>TransDate</th>\n",
              "      <th>Quantity</th>\n",
              "      <th>PurchAmount</th>\n",
              "      <th>Cost</th>\n",
              "      <th>TransID</th>\n",
              "    </tr>\n",
              "  </thead>\n",
              "  <tbody>\n",
              "    <tr>\n",
              "      <th>0</th>\n",
              "      <td>149332</td>\n",
              "      <td>2005-11-15 00:00:00+00:00</td>\n",
              "      <td>1</td>\n",
              "      <td>199.95</td>\n",
              "      <td>107.0</td>\n",
              "      <td>127998739</td>\n",
              "    </tr>\n",
              "    <tr>\n",
              "      <th>1</th>\n",
              "      <td>172951</td>\n",
              "      <td>2008-08-29 00:00:00+00:00</td>\n",
              "      <td>1</td>\n",
              "      <td>199.95</td>\n",
              "      <td>108.0</td>\n",
              "      <td>128888288</td>\n",
              "    </tr>\n",
              "    <tr>\n",
              "      <th>2</th>\n",
              "      <td>120621</td>\n",
              "      <td>2007-10-19 00:00:00+00:00</td>\n",
              "      <td>1</td>\n",
              "      <td>99.95</td>\n",
              "      <td>49.0</td>\n",
              "      <td>125375247</td>\n",
              "    </tr>\n",
              "  </tbody>\n",
              "</table>\n",
              "</div>"
            ],
            "text/plain": [
              "   Customer                 TransDate  Quantity  PurchAmount   Cost    TransID\n",
              "0    149332 2005-11-15 00:00:00+00:00         1       199.95  107.0  127998739\n",
              "1    172951 2008-08-29 00:00:00+00:00         1       199.95  108.0  128888288\n",
              "2    120621 2007-10-19 00:00:00+00:00         1        99.95   49.0  125375247"
            ]
          },
          "metadata": {
            "tags": []
          },
          "execution_count": 17
        }
      ]
    },
    {
      "cell_type": "code",
      "metadata": {
        "id": "hDeU0VwR6-90",
        "colab_type": "code",
        "colab": {}
      },
      "source": [
        "###Use describe() to get the summary statistics."
      ],
      "execution_count": null,
      "outputs": []
    },
    {
      "cell_type": "code",
      "metadata": {
        "id": "VebXepSI7Bok",
        "colab_type": "code",
        "colab": {}
      },
      "source": [
        "myData.describe()"
      ],
      "execution_count": null,
      "outputs": []
    },
    {
      "cell_type": "markdown",
      "metadata": {
        "id": "viq77lXq7DpV",
        "colab_type": "text"
      },
      "source": [
        "###Save the DataFrame object to a csv-file with the name\u000b \"transactions_students_backup.csv\"."
      ]
    },
    {
      "cell_type": "code",
      "metadata": {
        "id": "6mSJLyO57FwA",
        "colab_type": "code",
        "colab": {}
      },
      "source": [
        "myData.to_csv(\"transactions_students_backup.csv\")"
      ],
      "execution_count": null,
      "outputs": []
    },
    {
      "cell_type": "markdown",
      "metadata": {
        "id": "7cYShDHV7HQD",
        "colab_type": "text"
      },
      "source": [
        "###2-2 Creating basic plots\n",
        "Create a boxplot for the variable PurchAmount(x)."
      ]
    },
    {
      "cell_type": "code",
      "metadata": {
        "id": "IrcGhJEl7M1x",
        "colab_type": "code",
        "colab": {}
      },
      "source": [
        "import matplotlib.pyplot as plt\n",
        "plt.boxplot(x=myData[\"PurchAmount\"])\n",
        "plt.show()"
      ],
      "execution_count": null,
      "outputs": []
    },
    {
      "cell_type": "markdown",
      "metadata": {
        "id": "yilxNsoF7Rhl",
        "colab_type": "text"
      },
      "source": [
        "###Create a scatter plot for the variables Quantity(x) and PurchAmount(y). Can you observe any correlation?"
      ]
    },
    {
      "cell_type": "code",
      "metadata": {
        "id": "dy1vP16K7V1y",
        "colab_type": "code",
        "colab": {}
      },
      "source": [
        "plt.scatter(x=myData[\"Quantity\"], y=myData[\"PurchAmount\"])\n",
        "plt.show()"
      ],
      "execution_count": null,
      "outputs": []
    },
    {
      "cell_type": "markdown",
      "metadata": {
        "id": "IqlOTeq47UgD",
        "colab_type": "text"
      },
      "source": [
        "###Format your earlier scatter plots in an appealing way. Choose appropriate limits for the axes. Consider changing colors, sizes, and fonts for data points and text labels."
      ]
    },
    {
      "cell_type": "code",
      "metadata": {
        "id": "Bbjeh_Nn7d4n",
        "colab_type": "code",
        "colab": {}
      },
      "source": [
        "# Plot 1\n",
        "plt.boxplot(x=myData[\"PurchAmount\"])\n",
        "plt.title(\"Boxplot of variable Purchase Amount\")\n",
        "plt.xlabel(\"Purchase Amount\", size=10,fontweight='bold')\n",
        "plt.ylabel(\"Frequency\", size=10,fontweight='bold')\n",
        "plt.show()"
      ],
      "execution_count": null,
      "outputs": []
    },
    {
      "cell_type": "markdown",
      "metadata": {
        "id": "bPpFmg327f5w",
        "colab_type": "text"
      },
      "source": [
        "###2-3 - Adding further features to plots\n",
        "Plot (a) the scatter plot of Cost and Purchase Amount and (b) a historgram of Purchase Amount and in the same graph."
      ]
    },
    {
      "cell_type": "code",
      "metadata": {
        "id": "qjThnw7j7i7j",
        "colab_type": "code",
        "colab": {}
      },
      "source": [
        "plt.subplot(1,2,1) \n",
        "plt.hist(myData[\"PurchAmount\"], color=\"green\")\n",
        "plt.title(\"Hist PurchAmount\")\n",
        "plt.subplot(1,2,2)\n",
        "plt.plot(myData[\"PurchAmount\"],myData[\"Quantity\"], \"o\")\n",
        "plt.title(\"Quantity by PurchAmount\")\n",
        "plt.show()"
      ],
      "execution_count": null,
      "outputs": []
    },
    {
      "cell_type": "markdown",
      "metadata": {
        "id": "ZFwrPx4D7ofB",
        "colab_type": "text"
      },
      "source": [
        "# Unit 3 creating very nice plots\n"
      ]
    },
    {
      "cell_type": "markdown",
      "metadata": {
        "id": "Et683ehN8BcW",
        "colab_type": "text"
      },
      "source": [
        "Preparation"
      ]
    },
    {
      "cell_type": "code",
      "metadata": {
        "id": "JAv13vHk7_vA",
        "colab_type": "code",
        "colab": {}
      },
      "source": [
        "#load the Pandas package\n",
        "import pandas as pd\n",
        "#Read the csv file and store it in the variable \"myData\". Note: this file is hostes in a GitHub repository.\n",
        "myData=pd.read_csv(filepath_or_buffer=\"https://raw.githubusercontent.com/bachmannpatrick/Python-Class/master/data/transactions.csv\", sep=\",\")\n",
        "#load matplotlib and pyplot as plt\n",
        "import matplotlib.pyplot as plt\n",
        "#load the package numpy as np\n",
        "import numpy as np\n",
        "#load the package seaborn as sbn\n",
        "import seaborn as sns"
      ],
      "execution_count": null,
      "outputs": []
    },
    {
      "cell_type": "markdown",
      "metadata": {
        "id": "CL4fPK5g8EJt",
        "colab_type": "text"
      },
      "source": [
        "### 3-1 - Creating advanced plots"
      ]
    },
    {
      "cell_type": "markdown",
      "metadata": {
        "id": "SkVy3CO68bH4",
        "colab_type": "text"
      },
      "source": [
        "###Histogram (from a single variable)"
      ]
    },
    {
      "cell_type": "code",
      "metadata": {
        "id": "OnDY58YT8N2q",
        "colab_type": "code",
        "colab": {}
      },
      "source": [
        "#load the package seaborn as sbn\n",
        "import seaborn as sns\n",
        "sns.distplot(myData[\"PurchAmount\"], kde=False)\n",
        "plt.title(\"Histogram of Purchase Amount\")\n",
        "plt.xlabel(\"Purchase Amount\")\n",
        "plt.show()"
      ],
      "execution_count": null,
      "outputs": []
    },
    {
      "cell_type": "markdown",
      "metadata": {
        "id": "uRittwfALqSZ",
        "colab_type": "text"
      },
      "source": [
        "vertical=True #to flip the graph"
      ]
    },
    {
      "cell_type": "markdown",
      "metadata": {
        "id": "2ekB5kK58NeI",
        "colab_type": "text"
      },
      "source": [
        "### Scatterplot"
      ]
    },
    {
      "cell_type": "code",
      "metadata": {
        "id": "TchmBqMD8gF2",
        "colab_type": "code",
        "colab": {}
      },
      "source": [
        "sns.lmplot(x=\"PurchAmount\", y=\"Cost\", data=myData, fit_reg=False)\n",
        "plt.title(\"Costs by Purchase Amount\")\n",
        "plt.xlabel(\"Purchase Amount\")\n",
        "plt.ylabel(\"Cost\")\n",
        "plt.show()"
      ],
      "execution_count": null,
      "outputs": []
    },
    {
      "cell_type": "markdown",
      "metadata": {
        "id": "mTKxBDLh8nS3",
        "colab_type": "text"
      },
      "source": [
        "### Color palettes "
      ]
    },
    {
      "cell_type": "code",
      "metadata": {
        "id": "tbNpGOWn8kAn",
        "colab_type": "code",
        "colab": {}
      },
      "source": [
        "#plot1\n",
        "points=plt.scatter(myData[\"PurchAmount\"], myData[\"Cost\"], c=myData[\"Cost\"], cmap=\"plasma\")\n",
        "plt.colorbar(points)\n",
        "plt.xlabel(\"Purchase Amount\")\n",
        "plt.ylabel(\"Cost\")\n",
        "plt.show()"
      ],
      "execution_count": null,
      "outputs": []
    },
    {
      "cell_type": "markdown",
      "metadata": {
        "id": "JnOHs_8p8t9D",
        "colab_type": "text"
      },
      "source": [
        "### 3rd Dimension"
      ]
    },
    {
      "cell_type": "code",
      "metadata": {
        "id": "o5eLgoFh82JA",
        "colab_type": "code",
        "colab": {}
      },
      "source": [
        "sns.lmplot(\"PurchAmount\", \"Cost\", data=myData, fit_reg=False, \n",
        "hue=\"Quantity\", palette=\"PuBuGn_d\")\n",
        "plt.plot()"
      ],
      "execution_count": null,
      "outputs": []
    },
    {
      "cell_type": "markdown",
      "metadata": {
        "id": "pMf5uID-85np",
        "colab_type": "text"
      },
      "source": [
        "### Defined themes"
      ]
    },
    {
      "cell_type": "code",
      "metadata": {
        "id": "JLpR4p2w886r",
        "colab_type": "code",
        "colab": {}
      },
      "source": [
        "sns.set_style(\"darkgrid\")"
      ],
      "execution_count": null,
      "outputs": []
    },
    {
      "cell_type": "code",
      "metadata": {
        "id": "M25Fl9K89Gx_",
        "colab_type": "code",
        "colab": {}
      },
      "source": [
        "#use sns.set_style() to change settings\n",
        "sns.set_style(\"darkgrid\", {\"grid.color\": \"grey\", \"grid.linestyle\": \"-\",\u000b \"ytick.color\":\".80\" })"
      ],
      "execution_count": null,
      "outputs": []
    },
    {
      "cell_type": "markdown",
      "metadata": {
        "id": "BfV3SQNY9KsS",
        "colab_type": "text"
      },
      "source": [
        "### Advanced plots "
      ]
    },
    {
      "cell_type": "markdown",
      "metadata": {
        "id": "4M6hquz_-BFf",
        "colab_type": "text"
      },
      "source": [
        "Overlay plots on the same axes"
      ]
    },
    {
      "cell_type": "code",
      "metadata": {
        "id": "BEzt6WIz9MwV",
        "colab_type": "code",
        "colab": {}
      },
      "source": [
        "fig, ax = plt.subplots()\n",
        "sns.regplot(x=\"PurchAmount\", y=\"Cost\", data=myData, fit_reg=False, ax=ax)\n",
        "sns.regplot(x=\"PurchAmount\", y=\"Cost\", data=myData, order=2, scatter=False, ax=ax)\n"
      ],
      "execution_count": null,
      "outputs": []
    },
    {
      "cell_type": "markdown",
      "metadata": {
        "id": "1KShu5g--Ppl",
        "colab_type": "text"
      },
      "source": [
        "## With facets you can plot up to four dimensions in one single figure\u000b"
      ]
    },
    {
      "cell_type": "code",
      "metadata": {
        "id": "2Ob3DkGH-UbE",
        "colab_type": "code",
        "colab": {}
      },
      "source": [
        "#in order to create a plot for every year, we need to extract the year in myData first and store in a new column.\n",
        "myData[\"Year\"] = pd.DatetimeIndex(myData[\"TransDate\"]).year"
      ],
      "execution_count": null,
      "outputs": []
    },
    {
      "cell_type": "code",
      "metadata": {
        "id": "5mo8bH-U-b7V",
        "colab_type": "code",
        "colab": {}
      },
      "source": [
        "g = sns.FacetGrid(myData, col=\"Year\", hue=\"Quantity\", col_wrap=3)\n",
        "g.map(plt.scatter, \"PurchAmount\", \"Cost\")\n",
        "g.add_legend();"
      ],
      "execution_count": null,
      "outputs": []
    },
    {
      "cell_type": "markdown",
      "metadata": {
        "id": "GVpQSpYG-juG",
        "colab_type": "text"
      },
      "source": [
        "### Save your plot with savefig()or via the point-and-click method"
      ]
    },
    {
      "cell_type": "code",
      "metadata": {
        "id": "FlTUPHpn-ciT",
        "colab_type": "code",
        "colab": {}
      },
      "source": [
        "fig.savefig(\"myplot.png\")"
      ],
      "execution_count": null,
      "outputs": []
    },
    {
      "cell_type": "markdown",
      "metadata": {
        "id": "UhJkqr9j-zst",
        "colab_type": "text"
      },
      "source": [
        "## Exercises"
      ]
    },
    {
      "cell_type": "code",
      "metadata": {
        "id": "9qZ6MgeD-39w",
        "colab_type": "code",
        "colab": {}
      },
      "source": [
        "#Preparation\n",
        "#%% Import relevant modules\n",
        "import pandas as pd\n",
        "import numpy as np\n",
        "import seaborn as sns\n",
        "import matplotlib.pyplot as plt\n",
        "# Read in data\n",
        "myData=pd.read_csv(\"https://raw.githubusercontent.com/bachmannpatrick/Python-Class/master/data/transactions.csv\")\n",
        "#fix the Date format\n",
        "myData[\"TransDate\"]  = pd.to_datetime(myData[\"TransDate\"])"
      ],
      "execution_count": null,
      "outputs": []
    },
    {
      "cell_type": "markdown",
      "metadata": {
        "id": "s5OzKIjL-8wF",
        "colab_type": "text"
      },
      "source": [
        "### Create a scatter plot with regression line of order two for the variables PurchAmount(x) and Cost(y) in seaborn. Hint: Specify fit_reg=True"
      ]
    },
    {
      "cell_type": "code",
      "metadata": {
        "id": "u-fxzdWJ-zaH",
        "colab_type": "code",
        "colab": {}
      },
      "source": [
        "#load the package seaborn as sbn\n",
        "import seaborn as sns\n",
        "#plot\n",
        "sns.lmplot(x=\"PurchAmount\", y=\"Cost\",data=myData, fit_reg=True)\n",
        "plt.show()"
      ],
      "execution_count": null,
      "outputs": []
    },
    {
      "cell_type": "markdown",
      "metadata": {
        "id": "VL-9BQub_Era",
        "colab_type": "text"
      },
      "source": [
        "### Add a title to your plot, name your axes, change point size to \"150\", and point color to \"green"
      ]
    },
    {
      "cell_type": "code",
      "metadata": {
        "id": "F-zpf058_EWY",
        "colab_type": "code",
        "colab": {}
      },
      "source": [
        "sns.lmplot(x=\"PurchAmount\", y=\"Cost\", data=myData, fit_reg=True, scatter_kws={\"s\": 150, \"color\": \"green\"})\n",
        "plt.title(\"Costs by Purchase Amount\")\n",
        "plt.xlabel(\"Purchase Amount\")\n",
        "plt.ylabel(\"Cost\")\n",
        "plt.show()"
      ],
      "execution_count": null,
      "outputs": []
    },
    {
      "cell_type": "markdown",
      "metadata": {
        "id": "ZnQemdr4_S6i",
        "colab_type": "text"
      },
      "source": [
        "### Color palettes, themes, and style\n",
        "Apply theme dark() to your plot from Exercise 2 form the last section (3-1)."
      ]
    },
    {
      "cell_type": "code",
      "metadata": {
        "id": "_u-dH4ag-mFy",
        "colab_type": "code",
        "colab": {}
      },
      "source": [
        "sns.set_style(\"dark\")\n",
        "sns.lmplot(x=\"PurchAmount\", y=\"Cost\", data=myData, fit_reg=True, scatter_kws={\"s\": 150, \"color\": \"green\"})\n",
        "plt.title(\"Costs by Purchase Amount\")\n",
        "plt.xlabel(\"Purchase Amount\")\n",
        "plt.ylabel(\"Cost\")\n",
        "plt.show()"
      ],
      "execution_count": null,
      "outputs": []
    },
    {
      "cell_type": "markdown",
      "metadata": {
        "id": "Yj8nNcv5_d1Y",
        "colab_type": "text"
      },
      "source": [
        "### 2. Add the parameter hue=\"Quantity\" and use the palette \"prism\" to illustrate this dimension. *Caution:* Make sure you use lmplot().\n"
      ]
    },
    {
      "cell_type": "code",
      "metadata": {
        "id": "4CQEF-do_gn8",
        "colab_type": "code",
        "colab": {}
      },
      "source": [
        "sns.lmplot(\"PurchAmount\", \"Cost\", data=myData, fit_reg=False, hue=\"Quantity\", palette=\"prism\")\n",
        "plt.plot()"
      ],
      "execution_count": null,
      "outputs": []
    },
    {
      "cell_type": "markdown",
      "metadata": {
        "id": "WqywJWWG_lWm",
        "colab_type": "text"
      },
      "source": [
        "### 3.Format your earlier scatter plots in an appealing way. Choose appropriate limits for the axes. Consider changing colors, sizes, and fonts for data points and text labels."
      ]
    },
    {
      "cell_type": "code",
      "metadata": {
        "id": "kfsBY56S_qor",
        "colab_type": "code",
        "colab": {}
      },
      "source": [
        "# Plot 1\n",
        "plt.boxplot(x=myData[\"PurchAmount\"])\n",
        "plt.title(\"Boxplot of variable Purchase Amount\")\n",
        "plt.xlabel(\"Purchase Amount\", size=10,fontweight='bold')\n",
        "plt.ylabel(\"Frequency\", size=10,fontweight='bold')\n",
        "plt.show()"
      ],
      "execution_count": null,
      "outputs": []
    },
    {
      "cell_type": "markdown",
      "metadata": {
        "id": "UpGNhDk1d039",
        "colab_type": "text"
      },
      "source": [
        "## Unit 4"
      ]
    },
    {
      "cell_type": "code",
      "metadata": {
        "id": "4g9n2Pf4d_k-",
        "colab_type": "code",
        "colab": {}
      },
      "source": [
        "#Preparation\n",
        "#load the Pandas package\n",
        "import pandas as pd\n",
        "#Read the csv file and store it in the variable \"myData\". Note: this file is hostes in a GitHub repository.\n",
        "myData=pd.read_csv(filepath_or_buffer=\"https://raw.githubusercontent.com/bachmannpatrick/Python-Class/master/data/transactions.csv\", sep=\",\")\n",
        "# Adjust the format of column \"TransDate\" to datetime\n",
        "myData[\"TransDate\"]  = pd.to_datetime(myData[\"TransDate\"])"
      ],
      "execution_count": null,
      "outputs": []
    },
    {
      "cell_type": "markdown",
      "metadata": {
        "id": "b__lPKgIeDET",
        "colab_type": "text"
      },
      "source": [
        "### Selecting rows"
      ]
    },
    {
      "cell_type": "markdown",
      "metadata": {
        "id": "V14P83tVeIFK",
        "colab_type": "text"
      },
      "source": [
        "### Selecting the first row"
      ]
    },
    {
      "cell_type": "code",
      "metadata": {
        "id": "CG-NsdZHeMYh",
        "colab_type": "code",
        "colab": {}
      },
      "source": [
        "#get a series as output\n",
        "myData.iloc [0, ]"
      ],
      "execution_count": null,
      "outputs": []
    },
    {
      "cell_type": "markdown",
      "metadata": {
        "id": "UjZi1f5veVSX",
        "colab_type": "text"
      },
      "source": [
        "###get a DataFrame as output\n"
      ]
    },
    {
      "cell_type": "code",
      "metadata": {
        "id": "1_PQG0X7OMNy",
        "colab_type": "code",
        "colab": {}
      },
      "source": [
        "myData.iloc [[0], ]"
      ],
      "execution_count": null,
      "outputs": []
    },
    {
      "cell_type": "markdown",
      "metadata": {
        "id": "2KgrZr8geb5a",
        "colab_type": "text"
      },
      "source": [
        "### Selecting rows by row numbers\u000b - Select the first 3 rows"
      ]
    },
    {
      "cell_type": "code",
      "metadata": {
        "id": "WA67lMr8efVe",
        "colab_type": "code",
        "colab": {}
      },
      "source": [
        "myData.iloc[0:3, ]"
      ],
      "execution_count": null,
      "outputs": []
    },
    {
      "cell_type": "markdown",
      "metadata": {
        "id": "1f-TK0ZNekgH",
        "colab_type": "text"
      },
      "source": [
        "###  Selecting rows by row numbers\u000b - Select the first 3 and the 5th row"
      ]
    },
    {
      "cell_type": "code",
      "metadata": {
        "id": "CMXWpzXZel0-",
        "colab_type": "code",
        "colab": {}
      },
      "source": [
        "myData.iloc[[0,1,2,4], ]"
      ],
      "execution_count": null,
      "outputs": []
    },
    {
      "cell_type": "markdown",
      "metadata": {
        "id": "3v4S0eK2epPs",
        "colab_type": "text"
      },
      "source": [
        "### Dimensions of the data frame"
      ]
    },
    {
      "cell_type": "code",
      "metadata": {
        "id": "1V13w0Bmerkg",
        "colab_type": "code",
        "colab": {}
      },
      "source": [
        "#Number of rows\n",
        "myData.shape[0]"
      ],
      "execution_count": null,
      "outputs": []
    },
    {
      "cell_type": "code",
      "metadata": {
        "id": "qf8f7bU9ev7U",
        "colab_type": "code",
        "colab": {}
      },
      "source": [
        "#Number of columns\n",
        "\u000bmyData.shape[1]"
      ],
      "execution_count": null,
      "outputs": []
    },
    {
      "cell_type": "code",
      "metadata": {
        "id": "XzatDPrPe4vs",
        "colab_type": "code",
        "colab": {}
      },
      "source": [
        "#Length of a vector\n",
        "\u000blen([2,3,5])"
      ],
      "execution_count": null,
      "outputs": []
    },
    {
      "cell_type": "code",
      "metadata": {
        "id": "k_t0qlqPe8Gb",
        "colab_type": "code",
        "colab": {}
      },
      "source": [
        "#Length of string:\n",
        "len(\"hello\")"
      ],
      "execution_count": null,
      "outputs": []
    },
    {
      "cell_type": "markdown",
      "metadata": {
        "id": "JhVFMLXJfAh9",
        "colab_type": "text"
      },
      "source": [
        "### Selecting the last row"
      ]
    },
    {
      "cell_type": "code",
      "metadata": {
        "id": "c5G4_UJ-fHiV",
        "colab_type": "code",
        "colab": {}
      },
      "source": [
        "#Variant 1\n",
        "#To obtain the last one we have to correct our index by- 1 (reason: zero-based indexing\n",
        "myData.iloc[[len(myData)-1], ]"
      ],
      "execution_count": null,
      "outputs": []
    },
    {
      "cell_type": "code",
      "metadata": {
        "id": "gAhbwiFpfQVW",
        "colab_type": "code",
        "colab": {}
      },
      "source": [
        "#Variant 2\n",
        "myData.tail(1)"
      ],
      "execution_count": null,
      "outputs": []
    },
    {
      "cell_type": "markdown",
      "metadata": {
        "id": "Er2sEN0RfT0O",
        "colab_type": "text"
      },
      "source": [
        "### Sorting the Data frame "
      ]
    },
    {
      "cell_type": "code",
      "metadata": {
        "id": "UWrFUCrafZoD",
        "colab_type": "code",
        "colab": {}
      },
      "source": [
        "#To sort your DataFrame according to transaction dates (increasing) use\n",
        "\u000bmyData.sort_values([\"TransDate\"])"
      ],
      "execution_count": null,
      "outputs": []
    },
    {
      "cell_type": "code",
      "metadata": {
        "id": "Vwqy4HaofeG7",
        "colab_type": "code",
        "colab": {}
      },
      "source": [
        "#Order first according to transaction dates and then according to customers\n",
        "\u000bmyData.sort_values([\"TransDate\", \"Customer\"])"
      ],
      "execution_count": null,
      "outputs": []
    },
    {
      "cell_type": "code",
      "metadata": {
        "id": "VmkM_SKsflYt",
        "colab_type": "code",
        "colab": {
          "base_uri": "https://localhost:8080/",
          "height": 391
        },
        "outputId": "dfd92bc1-b6a9-4685-9a14-2d281e22e845"
      },
      "source": [
        "#Order decreasing\n",
        "myData.sort_values([\"TransDate\", \"Customer\"], ascending=[0,0]) #increase [1,1]"
      ],
      "execution_count": null,
      "outputs": [
        {
          "output_type": "execute_result",
          "data": {
            "text/html": [
              "<div>\n",
              "<style scoped>\n",
              "    .dataframe tbody tr th:only-of-type {\n",
              "        vertical-align: middle;\n",
              "    }\n",
              "\n",
              "    .dataframe tbody tr th {\n",
              "        vertical-align: top;\n",
              "    }\n",
              "\n",
              "    .dataframe thead th {\n",
              "        text-align: right;\n",
              "    }\n",
              "</style>\n",
              "<table border=\"1\" class=\"dataframe\">\n",
              "  <thead>\n",
              "    <tr style=\"text-align: right;\">\n",
              "      <th></th>\n",
              "      <th>Customer</th>\n",
              "      <th>TransDate</th>\n",
              "      <th>Quantity</th>\n",
              "      <th>PurchAmount</th>\n",
              "      <th>Cost</th>\n",
              "      <th>TransID</th>\n",
              "    </tr>\n",
              "  </thead>\n",
              "  <tbody>\n",
              "    <tr>\n",
              "      <th>33827</th>\n",
              "      <td>100287</td>\n",
              "      <td>2004-12-16 00:00:00+00:00</td>\n",
              "      <td>1</td>\n",
              "      <td>59.95</td>\n",
              "      <td>22.00</td>\n",
              "      <td>124284041</td>\n",
              "    </tr>\n",
              "    <tr>\n",
              "      <th>44156</th>\n",
              "      <td>100288</td>\n",
              "      <td>2004-12-16 00:00:00+00:00</td>\n",
              "      <td>1</td>\n",
              "      <td>99.95</td>\n",
              "      <td>49.98</td>\n",
              "      <td>124284512</td>\n",
              "    </tr>\n",
              "    <tr>\n",
              "      <th>44168</th>\n",
              "      <td>100289</td>\n",
              "      <td>2004-12-16 00:00:00+00:00</td>\n",
              "      <td>1</td>\n",
              "      <td>129.95</td>\n",
              "      <td>58.25</td>\n",
              "      <td>124284670</td>\n",
              "    </tr>\n",
              "    <tr>\n",
              "      <th>44169</th>\n",
              "      <td>100289</td>\n",
              "      <td>2004-12-16 00:00:00+00:00</td>\n",
              "      <td>1</td>\n",
              "      <td>35.95</td>\n",
              "      <td>17.50</td>\n",
              "      <td>124284670</td>\n",
              "    </tr>\n",
              "    <tr>\n",
              "      <th>44170</th>\n",
              "      <td>100289</td>\n",
              "      <td>2004-12-16 00:00:00+00:00</td>\n",
              "      <td>1</td>\n",
              "      <td>69.95</td>\n",
              "      <td>31.25</td>\n",
              "      <td>124284670</td>\n",
              "    </tr>\n",
              "    <tr>\n",
              "      <th>...</th>\n",
              "      <td>...</td>\n",
              "      <td>...</td>\n",
              "      <td>...</td>\n",
              "      <td>...</td>\n",
              "      <td>...</td>\n",
              "      <td>...</td>\n",
              "    </tr>\n",
              "    <tr>\n",
              "      <th>223055</th>\n",
              "      <td>199512</td>\n",
              "      <td>2012-12-09 00:00:00+00:00</td>\n",
              "      <td>1</td>\n",
              "      <td>149.95</td>\n",
              "      <td>75.13</td>\n",
              "      <td>131969590</td>\n",
              "    </tr>\n",
              "    <tr>\n",
              "      <th>223056</th>\n",
              "      <td>199513</td>\n",
              "      <td>2012-12-09 00:00:00+00:00</td>\n",
              "      <td>1</td>\n",
              "      <td>29.95</td>\n",
              "      <td>12.23</td>\n",
              "      <td>131969667</td>\n",
              "    </tr>\n",
              "    <tr>\n",
              "      <th>147618</th>\n",
              "      <td>199514</td>\n",
              "      <td>2012-12-09 00:00:00+00:00</td>\n",
              "      <td>1</td>\n",
              "      <td>59.95</td>\n",
              "      <td>30.00</td>\n",
              "      <td>131969858</td>\n",
              "    </tr>\n",
              "    <tr>\n",
              "      <th>223072</th>\n",
              "      <td>199515</td>\n",
              "      <td>2012-12-09 00:00:00+00:00</td>\n",
              "      <td>1</td>\n",
              "      <td>39.95</td>\n",
              "      <td>12.86</td>\n",
              "      <td>131970025</td>\n",
              "    </tr>\n",
              "    <tr>\n",
              "      <th>220233</th>\n",
              "      <td>199516</td>\n",
              "      <td>2012-12-09 00:00:00+00:00</td>\n",
              "      <td>1</td>\n",
              "      <td>59.95</td>\n",
              "      <td>25.00</td>\n",
              "      <td>131970040</td>\n",
              "    </tr>\n",
              "  </tbody>\n",
              "</table>\n",
              "<p>223191 rows × 6 columns</p>\n",
              "</div>"
            ],
            "text/plain": [
              "        Customer                 TransDate  ...   Cost    TransID\n",
              "33827     100287 2004-12-16 00:00:00+00:00  ...  22.00  124284041\n",
              "44156     100288 2004-12-16 00:00:00+00:00  ...  49.98  124284512\n",
              "44168     100289 2004-12-16 00:00:00+00:00  ...  58.25  124284670\n",
              "44169     100289 2004-12-16 00:00:00+00:00  ...  17.50  124284670\n",
              "44170     100289 2004-12-16 00:00:00+00:00  ...  31.25  124284670\n",
              "...          ...                       ...  ...    ...        ...\n",
              "223055    199512 2012-12-09 00:00:00+00:00  ...  75.13  131969590\n",
              "223056    199513 2012-12-09 00:00:00+00:00  ...  12.23  131969667\n",
              "147618    199514 2012-12-09 00:00:00+00:00  ...  30.00  131969858\n",
              "223072    199515 2012-12-09 00:00:00+00:00  ...  12.86  131970025\n",
              "220233    199516 2012-12-09 00:00:00+00:00  ...  25.00  131970040\n",
              "\n",
              "[223191 rows x 6 columns]"
            ]
          },
          "metadata": {
            "tags": []
          },
          "execution_count": 19
        }
      ]
    },
    {
      "cell_type": "code",
      "metadata": {
        "id": "MijLVgj3-KGU",
        "colab_type": "code",
        "colab": {
          "base_uri": "https://localhost:8080/",
          "height": 391
        },
        "outputId": "35433d4f-6f08-4dcb-820f-6176fc7d0010"
      },
      "source": [
        "myData.sort_values(\"TransDate\", ascending=True) #increase [1,1]"
      ],
      "execution_count": null,
      "outputs": [
        {
          "output_type": "execute_result",
          "data": {
            "text/html": [
              "<div>\n",
              "<style scoped>\n",
              "    .dataframe tbody tr th:only-of-type {\n",
              "        vertical-align: middle;\n",
              "    }\n",
              "\n",
              "    .dataframe tbody tr th {\n",
              "        vertical-align: top;\n",
              "    }\n",
              "\n",
              "    .dataframe thead th {\n",
              "        text-align: right;\n",
              "    }\n",
              "</style>\n",
              "<table border=\"1\" class=\"dataframe\">\n",
              "  <thead>\n",
              "    <tr style=\"text-align: right;\">\n",
              "      <th></th>\n",
              "      <th>Customer</th>\n",
              "      <th>TransDate</th>\n",
              "      <th>Quantity</th>\n",
              "      <th>PurchAmount</th>\n",
              "      <th>Cost</th>\n",
              "      <th>TransID</th>\n",
              "    </tr>\n",
              "  </thead>\n",
              "  <tbody>\n",
              "    <tr>\n",
              "      <th>44171</th>\n",
              "      <td>100289</td>\n",
              "      <td>2004-12-16</td>\n",
              "      <td>1</td>\n",
              "      <td>21.95</td>\n",
              "      <td>10.00</td>\n",
              "      <td>124284670</td>\n",
              "    </tr>\n",
              "    <tr>\n",
              "      <th>44127</th>\n",
              "      <td>173470</td>\n",
              "      <td>2004-12-16</td>\n",
              "      <td>1</td>\n",
              "      <td>49.95</td>\n",
              "      <td>23.50</td>\n",
              "      <td>130656050</td>\n",
              "    </tr>\n",
              "    <tr>\n",
              "      <th>40883</th>\n",
              "      <td>100292</td>\n",
              "      <td>2004-12-16</td>\n",
              "      <td>1</td>\n",
              "      <td>49.95</td>\n",
              "      <td>24.00</td>\n",
              "      <td>124285052</td>\n",
              "    </tr>\n",
              "    <tr>\n",
              "      <th>11237</th>\n",
              "      <td>144478</td>\n",
              "      <td>2004-12-16</td>\n",
              "      <td>1</td>\n",
              "      <td>59.95</td>\n",
              "      <td>24.50</td>\n",
              "      <td>127833251</td>\n",
              "    </tr>\n",
              "    <tr>\n",
              "      <th>40882</th>\n",
              "      <td>100292</td>\n",
              "      <td>2004-12-16</td>\n",
              "      <td>1</td>\n",
              "      <td>59.95</td>\n",
              "      <td>27.00</td>\n",
              "      <td>124285052</td>\n",
              "    </tr>\n",
              "    <tr>\n",
              "      <th>...</th>\n",
              "      <td>...</td>\n",
              "      <td>...</td>\n",
              "      <td>...</td>\n",
              "      <td>...</td>\n",
              "      <td>...</td>\n",
              "      <td>...</td>\n",
              "    </tr>\n",
              "    <tr>\n",
              "      <th>183001</th>\n",
              "      <td>157039</td>\n",
              "      <td>2012-09-17</td>\n",
              "      <td>1</td>\n",
              "      <td>69.95</td>\n",
              "      <td>26.40</td>\n",
              "      <td>131973369</td>\n",
              "    </tr>\n",
              "    <tr>\n",
              "      <th>223189</th>\n",
              "      <td>199999</td>\n",
              "      <td>2012-09-17</td>\n",
              "      <td>1</td>\n",
              "      <td>179.95</td>\n",
              "      <td>109.99</td>\n",
              "      <td>132481165</td>\n",
              "    </tr>\n",
              "    <tr>\n",
              "      <th>177256</th>\n",
              "      <td>192254</td>\n",
              "      <td>2012-09-17</td>\n",
              "      <td>1</td>\n",
              "      <td>69.95</td>\n",
              "      <td>28.57</td>\n",
              "      <td>131973243</td>\n",
              "    </tr>\n",
              "    <tr>\n",
              "      <th>18342</th>\n",
              "      <td>187155</td>\n",
              "      <td>2012-09-17</td>\n",
              "      <td>1</td>\n",
              "      <td>79.95</td>\n",
              "      <td>32.00</td>\n",
              "      <td>130062663</td>\n",
              "    </tr>\n",
              "    <tr>\n",
              "      <th>223190</th>\n",
              "      <td>199542</td>\n",
              "      <td>2012-09-17</td>\n",
              "      <td>1</td>\n",
              "      <td>39.95</td>\n",
              "      <td>10.50</td>\n",
              "      <td>131973368</td>\n",
              "    </tr>\n",
              "  </tbody>\n",
              "</table>\n",
              "<p>223191 rows × 6 columns</p>\n",
              "</div>"
            ],
            "text/plain": [
              "        Customer  TransDate  Quantity  PurchAmount    Cost    TransID\n",
              "44171     100289 2004-12-16         1        21.95   10.00  124284670\n",
              "44127     173470 2004-12-16         1        49.95   23.50  130656050\n",
              "40883     100292 2004-12-16         1        49.95   24.00  124285052\n",
              "11237     144478 2004-12-16         1        59.95   24.50  127833251\n",
              "40882     100292 2004-12-16         1        59.95   27.00  124285052\n",
              "...          ...        ...       ...          ...     ...        ...\n",
              "183001    157039 2012-09-17         1        69.95   26.40  131973369\n",
              "223189    199999 2012-09-17         1       179.95  109.99  132481165\n",
              "177256    192254 2012-09-17         1        69.95   28.57  131973243\n",
              "18342     187155 2012-09-17         1        79.95   32.00  130062663\n",
              "223190    199542 2012-09-17         1        39.95   10.50  131973368\n",
              "\n",
              "[223191 rows x 6 columns]"
            ]
          },
          "metadata": {
            "tags": []
          },
          "execution_count": 13
        }
      ]
    },
    {
      "cell_type": "markdown",
      "metadata": {
        "id": "MVDMoctWf8uJ",
        "colab_type": "text"
      },
      "source": [
        "### Selecting rows by condition\u000b - Identify transactions greater than $100"
      ]
    },
    {
      "cell_type": "code",
      "metadata": {
        "id": "8xWdFGHpgEEi",
        "colab_type": "code",
        "colab": {}
      },
      "source": [
        "myData.loc[myData[\"PurchAmount\"] > 100, ]"
      ],
      "execution_count": null,
      "outputs": []
    },
    {
      "cell_type": "markdown",
      "metadata": {
        "id": "mrij7_cbgMcj",
        "colab_type": "text"
      },
      "source": [
        "### Selecting rows by condition\u000b - Select the transactions of a single customer"
      ]
    },
    {
      "cell_type": "code",
      "metadata": {
        "id": "5kuoJgKGgLzJ",
        "colab_type": "code",
        "colab": {}
      },
      "source": [
        "myData.loc[myData[\"Customer\"] == 149332, ]"
      ],
      "execution_count": null,
      "outputs": []
    },
    {
      "cell_type": "markdown",
      "metadata": {
        "id": "YhL1EANtgTF2",
        "colab_type": "text"
      },
      "source": [
        "### Selecting rows by condition\u000bSelect the transactions of multiple customers"
      ]
    },
    {
      "cell_type": "code",
      "metadata": {
        "id": "4s8PuqflgWQu",
        "colab_type": "code",
        "colab": {}
      },
      "source": [
        "myData.loc[myData[\"Customer\"].isin([149332, 172951]), ]"
      ],
      "execution_count": null,
      "outputs": []
    },
    {
      "cell_type": "markdown",
      "metadata": {
        "id": "3AJpq9p7gdYJ",
        "colab_type": "text"
      },
      "source": [
        "### Tilde operator (~) precedes an index vector to negate the condition"
      ]
    },
    {
      "cell_type": "code",
      "metadata": {
        "id": "5Yri_-YtgfrS",
        "colab_type": "code",
        "colab": {}
      },
      "source": [
        "myData.loc[~ myData[\"Customer\"].isin([149332, 172951]), ]"
      ],
      "execution_count": null,
      "outputs": []
    },
    {
      "cell_type": "markdown",
      "metadata": {
        "id": "DIbb0LOlgnD6",
        "colab_type": "text"
      },
      "source": [
        "###Combining conditions"
      ]
    },
    {
      "cell_type": "code",
      "metadata": {
        "id": "tUmfItm4go1_",
        "colab_type": "code",
        "colab": {}
      },
      "source": [
        "myData.loc[(myData[\"TransDate\"]>\u000b\tpd.to_datetime(\"2007-10-24\")) & (myData[\"PurchAmount\"]>100), ]"
      ],
      "execution_count": null,
      "outputs": []
    },
    {
      "cell_type": "markdown",
      "metadata": {
        "id": "qHBSBW3Mg4Ui",
        "colab_type": "text"
      },
      "source": [
        "## Selecting Columns"
      ]
    },
    {
      "cell_type": "markdown",
      "metadata": {
        "id": "3wIOx7BRg8Q8",
        "colab_type": "text"
      },
      "source": [
        "### Select a single column by column name/number "
      ]
    },
    {
      "cell_type": "code",
      "metadata": {
        "id": "08IegvKcg_J7",
        "colab_type": "code",
        "colab": {}
      },
      "source": [
        "#by name  # : means \"all rows\"\n",
        "myData.loc[ : , \"TransDate\"]"
      ],
      "execution_count": null,
      "outputs": []
    },
    {
      "cell_type": "code",
      "metadata": {
        "id": "qootBmFNhAZG",
        "colab_type": "code",
        "colab": {}
      },
      "source": [
        "#by number #Selecting the second column \n",
        "myData.iloc[ : , 1]"
      ],
      "execution_count": null,
      "outputs": []
    },
    {
      "cell_type": "code",
      "metadata": {
        "id": "OqomS58ehG1h",
        "colab_type": "code",
        "colab": {}
      },
      "source": [
        "#by name \n",
        "myData[\"TransDate\"]"
      ],
      "execution_count": null,
      "outputs": []
    },
    {
      "cell_type": "code",
      "metadata": {
        "id": "aEDkgA9IhK-G",
        "colab_type": "code",
        "colab": {}
      },
      "source": [
        "#by name (compare the output to the previous slide!)\n",
        "#Turn the output into array\n",
        "myData.loc[ : , \"TransDate\"].values"
      ],
      "execution_count": null,
      "outputs": []
    },
    {
      "cell_type": "code",
      "metadata": {
        "id": "1t9wBRxnhP_R",
        "colab_type": "code",
        "colab": {
          "base_uri": "https://localhost:8080/",
          "height": 82
        },
        "outputId": "5cc37baa-f985-4f20-c21e-bb6cf074775f"
      },
      "source": [
        "#by number (compare the output to the previous slide!)\n",
        "myData.iloc[ : , 1].values"
      ],
      "execution_count": null,
      "outputs": [
        {
          "output_type": "execute_result",
          "data": {
            "text/plain": [
              "array(['2005-11-15T00:00:00.000000000', '2008-08-29T00:00:00.000000000',\n",
              "       '2007-10-19T00:00:00.000000000', ...,\n",
              "       '2012-09-17T00:00:00.000000000', '2012-09-17T00:00:00.000000000',\n",
              "       '2012-09-17T00:00:00.000000000'], dtype='datetime64[ns]')"
            ]
          },
          "metadata": {
            "tags": []
          },
          "execution_count": 9
        }
      ]
    },
    {
      "cell_type": "code",
      "metadata": {
        "id": "yJxQ3aU4hSBj",
        "colab_type": "code",
        "colab": {}
      },
      "source": [
        "#by name (for lazy people) (Compare the output to the previous slide!)\n",
        "myData [\"TransDate\"].values"
      ],
      "execution_count": null,
      "outputs": []
    },
    {
      "cell_type": "markdown",
      "metadata": {
        "id": "qDCbkLZWhTmS",
        "colab_type": "text"
      },
      "source": [
        "## Select multiple columns by column name/number"
      ]
    },
    {
      "cell_type": "code",
      "metadata": {
        "id": "u0C7rqfjhWo_",
        "colab_type": "code",
        "colab": {}
      },
      "source": [
        "#by name\n",
        "myData.loc[ : , [\"Customer\", \"TransDate\", \"PurchAmount\"]]"
      ],
      "execution_count": null,
      "outputs": []
    },
    {
      "cell_type": "code",
      "metadata": {
        "id": "w_WTQEovhepO",
        "colab_type": "code",
        "colab": {}
      },
      "source": [
        "#by number\n",
        "myData.iloc[ : , [0,1,3]]"
      ],
      "execution_count": null,
      "outputs": []
    },
    {
      "cell_type": "code",
      "metadata": {
        "id": "Jb8OzSXoh2cC",
        "colab_type": "code",
        "colab": {}
      },
      "source": [
        "#by name \n",
        "myData[[\"Customer\", \"TransDate\", \"PurchAmount\"]]"
      ],
      "execution_count": null,
      "outputs": []
    },
    {
      "cell_type": "markdown",
      "metadata": {
        "id": "QpRBQc4lh56F",
        "colab_type": "text"
      },
      "source": [
        "### Find out the column names"
      ]
    },
    {
      "cell_type": "code",
      "metadata": {
        "id": "qRvF_JHzh8-8",
        "colab_type": "code",
        "colab": {}
      },
      "source": [
        "myData.columns.values"
      ],
      "execution_count": null,
      "outputs": []
    },
    {
      "cell_type": "markdown",
      "metadata": {
        "id": "LrWkWN1Oiw6K",
        "colab_type": "text"
      },
      "source": [
        "###  Combine operations to select by rows and columns"
      ]
    },
    {
      "cell_type": "code",
      "metadata": {
        "id": "Ab0S74Wwi6kX",
        "colab_type": "code",
        "colab": {}
      },
      "source": [
        "#Variante 1:\n",
        "myData.loc[ myData[\"PurchAmount\"]>100 , [\"TransDate\",\"Cost\"]]"
      ],
      "execution_count": null,
      "outputs": []
    },
    {
      "cell_type": "code",
      "metadata": {
        "id": "fTdAJQi5jFBM",
        "colab_type": "code",
        "colab": {}
      },
      "source": [
        "#Variant 2:\n",
        "myData[[\"TransDate\",\"Cost\"]].loc[ myData[\"PurchAmount\"]>100 ,]"
      ],
      "execution_count": null,
      "outputs": []
    },
    {
      "cell_type": "markdown",
      "metadata": {
        "id": "Q874-GHLjKX3",
        "colab_type": "text"
      },
      "source": [
        "### Appending and updating rows and columns"
      ]
    },
    {
      "cell_type": "markdown",
      "metadata": {
        "id": "JB3gozI4jOOR",
        "colab_type": "text"
      },
      "source": [
        "### Appending rows into DataFrame"
      ]
    },
    {
      "cell_type": "code",
      "metadata": {
        "id": "heGln-lIjRqW",
        "colab_type": "code",
        "colab": {}
      },
      "source": [
        "myData.append(pd.DataFrame([[199332, pd.to_datetime(\"2011-11-18\"),\n",
        "\t\t\t1,99.95,47.00, 197923739]],\n",
        "\t\t\tcolumns=myData.columns.values),\n",
        "\tignore_index=True) #Ensures that the row index is automatically increased by one"
      ],
      "execution_count": null,
      "outputs": []
    },
    {
      "cell_type": "markdown",
      "metadata": {
        "id": "zqaRUhafjh_m",
        "colab_type": "text"
      },
      "source": [
        "### Adding columns to a DataFrame"
      ]
    },
    {
      "cell_type": "code",
      "metadata": {
        "id": "xIDDdn0RjkSB",
        "colab_type": "code",
        "colab": {}
      },
      "source": [
        "myData[\"NewCol\"] = myData[\"Cost\"].round()"
      ],
      "execution_count": null,
      "outputs": []
    },
    {
      "cell_type": "markdown",
      "metadata": {
        "id": "X0Sxj8z7jmYU",
        "colab_type": "text"
      },
      "source": [
        "###By default DataFrame changes are made by reference"
      ]
    },
    {
      "cell_type": "code",
      "metadata": {
        "id": "cUAubMc7jqDI",
        "colab_type": "code",
        "colab": {}
      },
      "source": [
        "myData.head(3)"
      ],
      "execution_count": null,
      "outputs": []
    },
    {
      "cell_type": "code",
      "metadata": {
        "id": "72VR607fjr2X",
        "colab_type": "code",
        "colab": {}
      },
      "source": [
        "myData_modified=myData\n",
        "myData_modified[\"NewCol2\"] = myData[\"Cost\"].round()\n",
        "myData_modified.head(10)"
      ],
      "execution_count": null,
      "outputs": []
    },
    {
      "cell_type": "markdown",
      "metadata": {
        "id": "k8seHQd0j1LH",
        "colab_type": "text"
      },
      "source": [
        "### reset the dataset by reading it again"
      ]
    },
    {
      "cell_type": "code",
      "metadata": {
        "id": "2Uz-7Xa1jzmX",
        "colab_type": "code",
        "colab": {}
      },
      "source": [
        "#Read the csv file and store it in the variable \"myData\". Note: this file is hostes in a GitHub repository.\n",
        "myData=pd.read_csv(filepath_or_buffer=\"https://raw.githubusercontent.com/bachmannpatrick/Python-Class/master/data/transactions.csv\", sep=\",\")\n",
        "# Adjust the format of column \"TransDate\" to datetime\n",
        "myData[\"TransDate\"]  = pd.to_datetime(myData[\"TransDate\"])"
      ],
      "execution_count": null,
      "outputs": []
    },
    {
      "cell_type": "code",
      "metadata": {
        "id": "hq7a5BFwj7cR",
        "colab_type": "code",
        "colab": {}
      },
      "source": [
        "#use copy() to prevent by reference modfications!\n",
        "myData_modified = myData.copy()"
      ],
      "execution_count": null,
      "outputs": []
    },
    {
      "cell_type": "markdown",
      "metadata": {
        "id": "-3NUDaPdj_ZW",
        "colab_type": "text"
      },
      "source": [
        "### Remove a single column from a DataFrame"
      ]
    },
    {
      "cell_type": "code",
      "metadata": {
        "id": "Ar2mUEpxkB8i",
        "colab_type": "code",
        "colab": {}
      },
      "source": [
        "del myData[\"Quantity\"]"
      ],
      "execution_count": null,
      "outputs": []
    },
    {
      "cell_type": "markdown",
      "metadata": {
        "id": "L3Hk1ftUkEg-",
        "colab_type": "text"
      },
      "source": [
        "### Remove multiple columns at the same time"
      ]
    },
    {
      "cell_type": "code",
      "metadata": {
        "id": "3OhgtCTqkEDx",
        "colab_type": "code",
        "colab": {}
      },
      "source": [
        "myData.drop([\"Quantity\", \"Cost\"], axis=1)\n",
        "#Column-wise deletion. \n",
        "#axis = 0 would delete rows labelled Quantity & Cost"
      ],
      "execution_count": null,
      "outputs": []
    },
    {
      "cell_type": "markdown",
      "metadata": {
        "id": "k_QLwCY7kNaz",
        "colab_type": "text"
      },
      "source": [
        "### Change the names of a variable in a DataFrame"
      ]
    },
    {
      "cell_type": "code",
      "metadata": {
        "id": "TPK7tyJqkQbK",
        "colab_type": "code",
        "colab": {}
      },
      "source": [
        "myData.rename(columns = {\"PurchAmount\":\"TransValue\"}, inplace=True)\n",
        "print(myData)"
      ],
      "execution_count": null,
      "outputs": []
    },
    {
      "cell_type": "markdown",
      "metadata": {
        "id": "eavVfzvykYAc",
        "colab_type": "text"
      },
      "source": [
        " ### Remove rows from a DataFrame"
      ]
    },
    {
      "cell_type": "code",
      "metadata": {
        "id": "_iXwXIG_kaWO",
        "colab_type": "code",
        "colab": {}
      },
      "source": [
        "myData.drop(myData.index[0:3], inplace=True) #inplace=True=No extra assignment necessary"
      ],
      "execution_count": null,
      "outputs": []
    },
    {
      "cell_type": "markdown",
      "metadata": {
        "id": "VhLwRh-tkjBr",
        "colab_type": "text"
      },
      "source": [
        "## Exercises "
      ]
    },
    {
      "cell_type": "markdown",
      "metadata": {
        "id": "9Qha5mRQkmpf",
        "colab_type": "text"
      },
      "source": [
        "Preparation"
      ]
    },
    {
      "cell_type": "code",
      "metadata": {
        "id": "ue1w6xRokl8_",
        "colab_type": "code",
        "colab": {}
      },
      "source": [
        "#%% Import relevant modules\n",
        "import pandas as pd\n",
        "import numpy as np\n",
        "# Read in data\n",
        "myData=pd.read_csv(\"https://raw.githubusercontent.com/bachmannpatrick/Python-Class/master/data/transactions.csv\")\n",
        "#fix the Date format\n",
        "myData[\"TransDate\"]  = pd.to_datetime(myData[\"TransDate\"])"
      ],
      "execution_count": null,
      "outputs": []
    },
    {
      "cell_type": "markdown",
      "metadata": {
        "id": "th2nX-yakyOb",
        "colab_type": "text"
      },
      "source": [
        "### Creating advanced plots"
      ]
    },
    {
      "cell_type": "markdown",
      "metadata": {
        "id": "vyUgK8fWk1ru",
        "colab_type": "text"
      },
      "source": [
        "### Select rows 10 to 20 (inlcuding 20) from the myData DataFrame. Hint: Please have a careful look at the terminology. The row number of the first line is 1, the row index of the first line is 0."
      ]
    },
    {
      "cell_type": "code",
      "metadata": {
        "id": "eJmlB0JHk8bH",
        "colab_type": "code",
        "colab": {}
      },
      "source": [
        "myData.iloc[9:20,]"
      ],
      "execution_count": null,
      "outputs": []
    },
    {
      "cell_type": "markdown",
      "metadata": {
        "id": "BKWQzwHYlihy",
        "colab_type": "text"
      },
      "source": [
        "###Select all purchases from 2010 from the myData DataFrame."
      ]
    },
    {
      "cell_type": "code",
      "metadata": {
        "id": "018l6M34llKd",
        "colab_type": "code",
        "colab": {}
      },
      "source": [
        "myData.loc[(myData[\"TransDate\"]>pd.to_datetime(\"2009-12-31\")) & (myData[\"TransDate\"]<=pd.to_datetime(\"2010-12-31\")), ]"
      ],
      "execution_count": null,
      "outputs": []
    },
    {
      "cell_type": "markdown",
      "metadata": {
        "id": "wOg7v9bPluCz",
        "colab_type": "text"
      },
      "source": [
        "###Select purchases made on 19.12.2010 or on 21.12.2010 from the myData DataFrame. Hint: Make sure the date variable is in the correct format."
      ]
    },
    {
      "cell_type": "code",
      "metadata": {
        "id": "0OAM-3Hclzbi",
        "colab_type": "code",
        "colab": {}
      },
      "source": [
        "myData.loc[(myData[\"TransDate\"]==pd.to_datetime(\"2010-12-19\")) | (myData[\"TransDate\"]==pd.to_datetime(\"2010-12-21\"))]"
      ],
      "execution_count": null,
      "outputs": []
    },
    {
      "cell_type": "markdown",
      "metadata": {
        "id": "DAi1rMuHl8Wl",
        "colab_type": "text"
      },
      "source": [
        "Alternative solution"
      ]
    },
    {
      "cell_type": "code",
      "metadata": {
        "id": "_RRkSAPkl-aV",
        "colab_type": "code",
        "colab": {}
      },
      "source": [
        "myData.loc[myData[\"TransDate\"].isin([pd.to_datetime(\"2010-12-19\"), pd.to_datetime(\"2010-12-21\")]),]"
      ],
      "execution_count": null,
      "outputs": []
    },
    {
      "cell_type": "markdown",
      "metadata": {
        "id": "1iNY2fIdmEbV",
        "colab_type": "text"
      },
      "source": [
        "### Select all purchases with quantities between 2 and 5 (including 2 and 5) from the myData DataFrame."
      ]
    },
    {
      "cell_type": "code",
      "metadata": {
        "id": "Z9WSPUccmJjE",
        "colab_type": "code",
        "colab": {}
      },
      "source": [
        "myData.loc[(myData[\"Quantity\"]>=2) & (myData[\"Quantity\"]<=5),]"
      ],
      "execution_count": null,
      "outputs": []
    },
    {
      "cell_type": "markdown",
      "metadata": {
        "id": "A_Y43vGXmPlj",
        "colab_type": "text"
      },
      "source": [
        "### Select all purchases with purchase amount greater than 100 which were made from 01.01.2009 onwards from the myData DataFrame."
      ]
    },
    {
      "cell_type": "code",
      "metadata": {
        "id": "TEU6JZh4mQ5_",
        "colab_type": "code",
        "colab": {}
      },
      "source": [
        "myData.loc[(myData[\"TransDate\"]>pd.to_datetime(\"2009-01-01\")) & (myData[\"PurchAmount\"]>100), ]"
      ],
      "execution_count": null,
      "outputs": []
    },
    {
      "cell_type": "markdown",
      "metadata": {
        "id": "qTXWOHCZmeXm",
        "colab_type": "text"
      },
      "source": [
        "#### Exercise Selecting columns"
      ]
    },
    {
      "cell_type": "markdown",
      "metadata": {
        "id": "cRioJZv6mhUi",
        "colab_type": "text"
      },
      "source": [
        "### First, select rows 1 to 100 and save the subset in your working environment."
      ]
    },
    {
      "cell_type": "code",
      "metadata": {
        "id": "bu04bdwrmlY_",
        "colab_type": "code",
        "colab": {}
      },
      "source": [
        "myData1=myData.iloc[0:100, ]\n",
        "myData1"
      ],
      "execution_count": null,
      "outputs": []
    },
    {
      "cell_type": "markdown",
      "metadata": {
        "id": "FYh7UL_Ymoji",
        "colab_type": "text"
      },
      "source": [
        "### From this, select the following columns: Customer, TransDate, and Quantity."
      ]
    },
    {
      "cell_type": "code",
      "metadata": {
        "id": "bZwZDmkPmryN",
        "colab_type": "code",
        "colab": {}
      },
      "source": [
        "myData[[\"Customer\",\"TransDate\", \"Quantity\"]].iloc[0:100,]"
      ],
      "execution_count": null,
      "outputs": []
    },
    {
      "cell_type": "markdown",
      "metadata": {
        "id": "GuYVHactmxp6",
        "colab_type": "text"
      },
      "source": [
        "or "
      ]
    },
    {
      "cell_type": "code",
      "metadata": {
        "id": "_PQHJVqAmyVl",
        "colab_type": "code",
        "colab": {}
      },
      "source": [
        "myData.iloc[0:100][[\"Customer\",\"TransDate\", \"Quantity\"]]"
      ],
      "execution_count": null,
      "outputs": []
    },
    {
      "cell_type": "markdown",
      "metadata": {
        "id": "eSYUbsEkm4f2",
        "colab_type": "text"
      },
      "source": [
        "### Select the columns Customer and Cost from all rows with a purchase amount between 100 and 200."
      ]
    },
    {
      "cell_type": "code",
      "metadata": {
        "id": "jWSDMUzUm8ZT",
        "colab_type": "code",
        "colab": {}
      },
      "source": [
        "myData.loc[(myData[\"PurchAmount\"]>100)&(myData[\"PurchAmount\"]<200)][[\"Customer\",\"Cost\"]]"
      ],
      "execution_count": null,
      "outputs": []
    },
    {
      "cell_type": "markdown",
      "metadata": {
        "id": "_H8WDpk9nEkO",
        "colab_type": "text"
      },
      "source": [
        "###Appending and updating rows and columns"
      ]
    },
    {
      "cell_type": "markdown",
      "metadata": {
        "id": "UKt3EGV7nGuk",
        "colab_type": "text"
      },
      "source": [
        "### Create a new column calculating the difference between PurchAmount and Cost. Call it Profit."
      ]
    },
    {
      "cell_type": "code",
      "metadata": {
        "id": "P36wgHrInLFa",
        "colab_type": "code",
        "colab": {}
      },
      "source": [
        "myData[\"Profit\"] = myData[\"PurchAmount\"]-myData[\"Cost\"]\n",
        "print(myData)"
      ],
      "execution_count": null,
      "outputs": []
    },
    {
      "cell_type": "markdown",
      "metadata": {
        "id": "CRdhPRcZnPgO",
        "colab_type": "text"
      },
      "source": [
        "### Rename Profit to ProfitChange."
      ]
    },
    {
      "cell_type": "code",
      "metadata": {
        "id": "P15cfYZdnS4f",
        "colab_type": "code",
        "colab": {}
      },
      "source": [
        "myData=myData.rename(columns = {\"Profit\":\"ProfitChange\"})\n",
        "print(myData)"
      ],
      "execution_count": null,
      "outputs": []
    },
    {
      "cell_type": "markdown",
      "metadata": {
        "id": "CAGqQzk5nW0Q",
        "colab_type": "text"
      },
      "source": [
        "or"
      ]
    },
    {
      "cell_type": "code",
      "metadata": {
        "id": "mz4_9nTPnXUv",
        "colab_type": "code",
        "colab": {}
      },
      "source": [
        "myData.rename(columns = {\"Profit\":\"ProfitChange\"},inplace=True)\n",
        "print(myData)"
      ],
      "execution_count": null,
      "outputs": []
    },
    {
      "cell_type": "markdown",
      "metadata": {
        "id": "RgK5O-mWncQ_",
        "colab_type": "text"
      },
      "source": [
        "###Delete ProfitChange again"
      ]
    },
    {
      "cell_type": "code",
      "metadata": {
        "id": "z1gs5-HnniLB",
        "colab_type": "code",
        "colab": {}
      },
      "source": [
        "del myData[\"ProfitChange\"]"
      ],
      "execution_count": null,
      "outputs": []
    },
    {
      "cell_type": "markdown",
      "metadata": {
        "id": "EeB7O5wmnkWj",
        "colab_type": "text"
      },
      "source": [
        "###Create a copy of myData and name it mydata_toppurchases. In the new DataFrame delete all transactions with a PurchAmount smaller than 100."
      ]
    },
    {
      "cell_type": "code",
      "metadata": {
        "id": "2KV9ANAGnr2t",
        "colab_type": "code",
        "colab": {}
      },
      "source": [
        "#Create a copy of myData name and it \"mydata.toppurchases\".  \n",
        "myData_toppurchases=myData.copy()\n",
        "#In the new DataFrame delete all customers with a PurchAmount smaller than 100.\n",
        "myData_toppurchases=myData_toppurchases.loc[myData_toppurchases[\"PurchAmount\"]>100, ]\n",
        "# Check whether there are no cases smaller than 100\n",
        "myData_toppurchases[\"PurchAmount\"].min()"
      ],
      "execution_count": null,
      "outputs": []
    },
    {
      "cell_type": "markdown",
      "metadata": {
        "id": "sWd1X-rgn-Iw",
        "colab_type": "text"
      },
      "source": [
        "# Unit 5 Aggregate Operations in Python"
      ]
    },
    {
      "cell_type": "markdown",
      "metadata": {
        "id": "ejttGirgoE8D",
        "colab_type": "text"
      },
      "source": [
        "Preparation"
      ]
    },
    {
      "cell_type": "code",
      "metadata": {
        "id": "DmZ_KRiDoKzj",
        "colab_type": "code",
        "colab": {}
      },
      "source": [
        "#load the Pandas package\n",
        "import pandas as pd\n",
        "#Read the csv file and store it in the variable \"myData\". Note: this file is hostes in a GitHub repository.\n",
        "myData=pd.read_csv(filepath_or_buffer=\"https://raw.githubusercontent.com/bachmannpatrick/Python-Class/master/data/transactions.csv\", sep=\",\")\n",
        "#Adjust the format of column \"TransDate\" to datetime\n",
        "myData[\"TransDate\"]  = pd.to_datetime(myData[\"TransDate\"], dayfirst=True)"
      ],
      "execution_count": null,
      "outputs": []
    },
    {
      "cell_type": "markdown",
      "metadata": {
        "id": "Rcsnv_ddoNFt",
        "colab_type": "text"
      },
      "source": [
        "##Basic techniques for aggregating observations"
      ]
    },
    {
      "cell_type": "markdown",
      "metadata": {
        "id": "vSJrTGjKoPjk",
        "colab_type": "text"
      },
      "source": [
        "### Apply an aggregating function to a variable by an aggregating dimension "
      ]
    },
    {
      "cell_type": "code",
      "metadata": {
        "id": "CeMuN8qNoSol",
        "colab_type": "code",
        "colab": {
          "base_uri": "https://localhost:8080/",
          "height": 391
        },
        "outputId": "070e0cc1-2d83-459b-c79b-4c190e164772"
      },
      "source": [
        "myData.groupby(\"Customer\", as_index=False)[\"PurchAmount\"].sum()\n",
        "#as_index : Result is a Multiindex by default, use 3 option as_index to stick to single index."
      ],
      "execution_count": null,
      "outputs": [
        {
          "output_type": "execute_result",
          "data": {
            "text/html": [
              "<div>\n",
              "<style scoped>\n",
              "    .dataframe tbody tr th:only-of-type {\n",
              "        vertical-align: middle;\n",
              "    }\n",
              "\n",
              "    .dataframe tbody tr th {\n",
              "        vertical-align: top;\n",
              "    }\n",
              "\n",
              "    .dataframe thead th {\n",
              "        text-align: right;\n",
              "    }\n",
              "</style>\n",
              "<table border=\"1\" class=\"dataframe\">\n",
              "  <thead>\n",
              "    <tr style=\"text-align: right;\">\n",
              "      <th></th>\n",
              "      <th>Customer</th>\n",
              "      <th>PurchAmount</th>\n",
              "    </tr>\n",
              "  </thead>\n",
              "  <tbody>\n",
              "    <tr>\n",
              "      <th>0</th>\n",
              "      <td>100001</td>\n",
              "      <td>279.90</td>\n",
              "    </tr>\n",
              "    <tr>\n",
              "      <th>1</th>\n",
              "      <td>100002</td>\n",
              "      <td>499.95</td>\n",
              "    </tr>\n",
              "    <tr>\n",
              "      <th>2</th>\n",
              "      <td>100003</td>\n",
              "      <td>379.90</td>\n",
              "    </tr>\n",
              "    <tr>\n",
              "      <th>3</th>\n",
              "      <td>100004</td>\n",
              "      <td>499.95</td>\n",
              "    </tr>\n",
              "    <tr>\n",
              "      <th>4</th>\n",
              "      <td>100005</td>\n",
              "      <td>309.80</td>\n",
              "    </tr>\n",
              "    <tr>\n",
              "      <th>...</th>\n",
              "      <td>...</td>\n",
              "      <td>...</td>\n",
              "    </tr>\n",
              "    <tr>\n",
              "      <th>98775</th>\n",
              "      <td>199995</td>\n",
              "      <td>89.85</td>\n",
              "    </tr>\n",
              "    <tr>\n",
              "      <th>98776</th>\n",
              "      <td>199996</td>\n",
              "      <td>179.95</td>\n",
              "    </tr>\n",
              "    <tr>\n",
              "      <th>98777</th>\n",
              "      <td>199997</td>\n",
              "      <td>179.70</td>\n",
              "    </tr>\n",
              "    <tr>\n",
              "      <th>98778</th>\n",
              "      <td>199998</td>\n",
              "      <td>29.95</td>\n",
              "    </tr>\n",
              "    <tr>\n",
              "      <th>98779</th>\n",
              "      <td>199999</td>\n",
              "      <td>179.95</td>\n",
              "    </tr>\n",
              "  </tbody>\n",
              "</table>\n",
              "<p>98780 rows × 2 columns</p>\n",
              "</div>"
            ],
            "text/plain": [
              "       Customer  PurchAmount\n",
              "0        100001       279.90\n",
              "1        100002       499.95\n",
              "2        100003       379.90\n",
              "3        100004       499.95\n",
              "4        100005       309.80\n",
              "...         ...          ...\n",
              "98775    199995        89.85\n",
              "98776    199996       179.95\n",
              "98777    199997       179.70\n",
              "98778    199998        29.95\n",
              "98779    199999       179.95\n",
              "\n",
              "[98780 rows x 2 columns]"
            ]
          },
          "metadata": {
            "tags": []
          },
          "execution_count": 4
        }
      ]
    },
    {
      "cell_type": "code",
      "metadata": {
        "id": "KsWYqlSJoXqg",
        "colab_type": "code",
        "colab": {}
      },
      "source": [
        "myData.groupby(\"Customer\", as_index=False)[\"PurchAmount\"].agg([\"sum\"]).rename(columns={\"PurchAmount\":\"AggPurch\"})"
      ],
      "execution_count": null,
      "outputs": []
    },
    {
      "cell_type": "markdown",
      "metadata": {
        "id": "D8N0ZUywojtp",
        "colab_type": "text"
      },
      "source": [
        "###Apply an aggregating function to multiple variables by an aggregating dimension"
      ]
    },
    {
      "cell_type": "code",
      "metadata": {
        "id": "i3Z5CK55omIN",
        "colab_type": "code",
        "colab": {}
      },
      "source": [
        "myData.groupby(\"Customer\").agg({\"PurchAmount\":[\"max\", \"sum\"],\"Quantity\":\"sum\"})"
      ],
      "execution_count": null,
      "outputs": []
    },
    {
      "cell_type": "markdown",
      "metadata": {
        "id": "o9fgtFDnotF3",
        "colab_type": "text"
      },
      "source": [
        "### Apply multiple aggregating functions to a variable by an aggregating dimension"
      ]
    },
    {
      "cell_type": "code",
      "metadata": {
        "id": "2cTafUjeo1aD",
        "colab_type": "code",
        "colab": {}
      },
      "source": [
        "myData.groupby(\"Customer\", as_index=False)[\"PurchAmount\"].agg({\"AggPurch\": \"sum\", \"Purch_max\": \"max\"})"
      ],
      "execution_count": null,
      "outputs": []
    },
    {
      "cell_type": "code",
      "metadata": {
        "id": "dOBNWjxgpBV8",
        "colab_type": "code",
        "colab": {}
      },
      "source": [
        "myData.groupby([\"Customer\",\"TransDate\"])[\"PurchAmount\"].sum()"
      ],
      "execution_count": null,
      "outputs": []
    },
    {
      "cell_type": "markdown",
      "metadata": {
        "id": "NCJ7l-MdpF2Y",
        "colab_type": "text"
      },
      "source": [
        "### Apply an aggregating function to a variable by an aggregating dimension to a selection of rows"
      ]
    },
    {
      "cell_type": "code",
      "metadata": {
        "id": "m0AMCwp2pKrK",
        "colab_type": "code",
        "colab": {}
      },
      "source": [
        "# select rows\n",
        "myData.iloc[1:6].groupby(\"Customer\", as_index=False)[\"PurchAmount\"].sum()"
      ],
      "execution_count": null,
      "outputs": []
    },
    {
      "cell_type": "markdown",
      "metadata": {
        "id": "BJWgWmRypOvs",
        "colab_type": "text"
      },
      "source": [
        "### Apply an aggregating function to the whole dataset"
      ]
    },
    {
      "cell_type": "code",
      "metadata": {
        "id": "W-yw5ehQpRYu",
        "colab_type": "code",
        "colab": {}
      },
      "source": [
        "myData[\"PurchAmount\"].sum()"
      ],
      "execution_count": null,
      "outputs": []
    },
    {
      "cell_type": "markdown",
      "metadata": {
        "id": "y9WW9Me6pTpX",
        "colab_type": "text"
      },
      "source": [
        "### Sidenote: Create new columns in the original DataFrame with the transform()function"
      ]
    },
    {
      "cell_type": "code",
      "metadata": {
        "id": "wv_2UGS-pWqT",
        "colab_type": "code",
        "colab": {}
      },
      "source": [
        "myData[\"AggPurch\"]= myData.groupby(\"Customer\")[\"PurchAmount\"].transform(sum)\n",
        "print(myData)"
      ],
      "execution_count": null,
      "outputs": []
    },
    {
      "cell_type": "markdown",
      "metadata": {
        "id": "4N1Lesl_pcSk",
        "colab_type": "text"
      },
      "source": [
        "## Advanced techniques for \u000baggregating observations"
      ]
    },
    {
      "cell_type": "markdown",
      "metadata": {
        "id": "Hg-W6-pxpfLy",
        "colab_type": "text"
      },
      "source": [
        "### Aggregate a variable by a transformed aggregating dimension"
      ]
    },
    {
      "cell_type": "code",
      "metadata": {
        "id": "4fO8mz0zpi_l",
        "colab_type": "code",
        "colab": {}
      },
      "source": [
        "myData.groupby(myData[\"TransDate\"].dt.to_period(\"M\"))[\"PurchAmount\"].sum()"
      ],
      "execution_count": null,
      "outputs": []
    },
    {
      "cell_type": "markdown",
      "metadata": {
        "id": "bGFZRjphpl93",
        "colab_type": "text"
      },
      "source": [
        "### Chaining saves memory and is faster"
      ]
    },
    {
      "cell_type": "code",
      "metadata": {
        "id": "xyvXpZDDpodw",
        "colab_type": "code",
        "colab": {}
      },
      "source": [
        "myData.groupby(\"Customer\")[\"PurchAmount\"].sum()[lambda x: x >= 100]"
      ],
      "execution_count": null,
      "outputs": []
    },
    {
      "cell_type": "code",
      "metadata": {
        "id": "1TCxGwneprlc",
        "colab_type": "code",
        "colab": {}
      },
      "source": [
        "#This is the same:\n",
        "myData_agg = myData.groupby(\"Customer\")[\"PurchAmount\"].sum()\n",
        "myData_agg.loc[myData_agg>=100,]"
      ],
      "execution_count": null,
      "outputs": []
    },
    {
      "cell_type": "markdown",
      "metadata": {
        "id": "OT0gq7OPpuHq",
        "colab_type": "text"
      },
      "source": [
        "### Pay attention to operation sequences"
      ]
    },
    {
      "cell_type": "code",
      "metadata": {
        "id": "cEdvjsgKpwSb",
        "colab_type": "code",
        "colab": {}
      },
      "source": [
        "myData.groupby(\"Customer\")[\"PurchAmount\"].sum()[lambda x: x >= 100]"
      ],
      "execution_count": null,
      "outputs": []
    },
    {
      "cell_type": "code",
      "metadata": {
        "id": "3BldfLbtpzO1",
        "colab_type": "code",
        "colab": {}
      },
      "source": [
        "#not (!) identical to:\n",
        "myData.loc[myData[\"PurchAmount\"]>100,].groupby(\"Customer\")[\"PurchAmount\"].sum()"
      ],
      "execution_count": null,
      "outputs": []
    },
    {
      "cell_type": "markdown",
      "metadata": {
        "id": "GCYBeuJ1p3AK",
        "colab_type": "text"
      },
      "source": [
        "## 5-3 - Combining select and aggregate operations"
      ]
    },
    {
      "cell_type": "markdown",
      "metadata": {
        "id": "rLKEA3v3p5z-",
        "colab_type": "text"
      },
      "source": [
        " ### Select the first 3 purchases of each customer"
      ]
    },
    {
      "cell_type": "code",
      "metadata": {
        "id": "np1VeZF1p9iV",
        "colab_type": "code",
        "colab": {}
      },
      "source": [
        "myData.sort_values(\"TransDate\").groupby(\"Customer\").head(3)"
      ],
      "execution_count": null,
      "outputs": []
    },
    {
      "cell_type": "markdown",
      "metadata": {
        "id": "qFS5blogqBYR",
        "colab_type": "text"
      },
      "source": [
        "### Select the last purchase of each customer"
      ]
    },
    {
      "cell_type": "code",
      "metadata": {
        "id": "CRa-dppkqEu5",
        "colab_type": "code",
        "colab": {}
      },
      "source": [
        "myData.sort_values(\"TransDate\").groupby(\"Customer\").tail(1)"
      ],
      "execution_count": null,
      "outputs": []
    },
    {
      "cell_type": "markdown",
      "metadata": {
        "id": "38oodXYwqNCs",
        "colab_type": "text"
      },
      "source": [
        "###Updating columns using an aggregating dimension "
      ]
    },
    {
      "cell_type": "code",
      "metadata": {
        "id": "kqxZp6luqP2W",
        "colab_type": "code",
        "colab": {}
      },
      "source": [
        "myData[\"Count\"]=myData.groupby(\"Customer\")[\"Customer\"].transform(\"count\")\n",
        "print(myData)"
      ],
      "execution_count": null,
      "outputs": []
    },
    {
      "cell_type": "code",
      "metadata": {
        "id": "okF4KIaLqXKR",
        "colab_type": "code",
        "colab": {}
      },
      "source": [
        "myData[\"RelDate\"]=myData.groupby(\"Customer\").cumcount()+1\n",
        "print(myData)"
      ],
      "execution_count": null,
      "outputs": []
    },
    {
      "cell_type": "markdown",
      "metadata": {
        "id": "bVoSUFSZqbS_",
        "colab_type": "text"
      },
      "source": [
        "###Creating a lagged variable"
      ]
    },
    {
      "cell_type": "code",
      "metadata": {
        "id": "pFOhSX1qqdZx",
        "colab_type": "code",
        "colab": {}
      },
      "source": [
        "myData[\"CostLag\"]=myData.groupby(\"Customer\")[\"Cost\"].shift(periods=1)\n",
        "print(myData)"
      ],
      "execution_count": null,
      "outputs": []
    },
    {
      "cell_type": "code",
      "metadata": {
        "id": "ZBp3Npw8qjnn",
        "colab_type": "code",
        "colab": {}
      },
      "source": [
        "myData.iloc[1:6].groupby(\"Customer\", as_index=False) [\"PurchAmount\"].sum()"
      ],
      "execution_count": null,
      "outputs": []
    },
    {
      "cell_type": "markdown",
      "metadata": {
        "id": "yLD9_D3E16HA",
        "colab_type": "text"
      },
      "source": [
        "### Cumulating varibles"
      ]
    },
    {
      "cell_type": "code",
      "metadata": {
        "id": "cf--KtB413VG",
        "colab_type": "code",
        "colab": {
          "base_uri": "https://localhost:8080/",
          "height": 245
        },
        "outputId": "72a171e0-07c8-4462-98da-60bf3cff336e"
      },
      "source": [
        "myData[\"totSpend\"] = myData.groupby(\"Customer\")[\"Cost\"].cumsum()\n",
        "print(myData)"
      ],
      "execution_count": null,
      "outputs": [
        {
          "output_type": "stream",
          "text": [
            "        Customer  TransDate  Quantity  PurchAmount    Cost    TransID  totSpend\n",
            "0         149332 2005-11-15         1       199.95  107.00  127998739    107.00\n",
            "1         172951 2008-08-29         1       199.95  108.00  128888288    108.00\n",
            "2         120621 2007-10-19         1        99.95   49.00  125375247     49.00\n",
            "3         149236 2005-11-14         1        39.95   18.95  127996226     18.95\n",
            "4         149236 2007-06-12         1        79.95   35.00  128670302     53.95\n",
            "...          ...        ...       ...          ...     ...        ...       ...\n",
            "223186    199997 2012-09-17         1        29.95   13.80  132481149     69.00\n",
            "223187    199997 2012-09-17         1        29.95   13.80  132481149     82.80\n",
            "223188    199998 2012-09-17         1        29.95   13.80  132481154     13.80\n",
            "223189    199999 2012-09-17         1       179.95  109.99  132481165    109.99\n",
            "223190    199542 2012-09-17         1        39.95   10.50  131973368     10.50\n",
            "\n",
            "[223191 rows x 7 columns]\n"
          ],
          "name": "stdout"
        }
      ]
    },
    {
      "cell_type": "markdown",
      "metadata": {
        "id": "K0Di7BVTq7Ph",
        "colab_type": "text"
      },
      "source": [
        "## Exercise Solutions"
      ]
    },
    {
      "cell_type": "code",
      "metadata": {
        "id": "zdDaVfLVrAvb",
        "colab_type": "code",
        "colab": {}
      },
      "source": [
        "#Preparation\n",
        "#%% Import relevant modules\n",
        "import pandas as pd\n",
        "import numpy as np\n",
        "# Read in data\n",
        "myData=pd.read_csv(\"https://raw.githubusercontent.com/bachmannpatrick/Python-Class/master/data/transactions.csv\")\n",
        "#fix the Date format\n",
        "myData[\"TransDate\"]  = pd.to_datetime(myData[\"TransDate\"])"
      ],
      "execution_count": null,
      "outputs": []
    },
    {
      "cell_type": "markdown",
      "metadata": {
        "id": "sh897Mmuq-1A",
        "colab_type": "text"
      },
      "source": [
        "###5-1 - Basic techniques for aggregating observations\n"
      ]
    },
    {
      "cell_type": "markdown",
      "metadata": {
        "id": "2092-PNLrHhm",
        "colab_type": "text"
      },
      "source": [
        "###Sum PurchAmount by Customer and TransDate."
      ]
    },
    {
      "cell_type": "code",
      "metadata": {
        "id": "6uYgBlCvrJ2G",
        "colab_type": "code",
        "colab": {}
      },
      "source": [
        "myData.groupby([\"Customer\",\"TransDate\"])[\"PurchAmount\"].sum()"
      ],
      "execution_count": null,
      "outputs": []
    },
    {
      "cell_type": "markdown",
      "metadata": {
        "id": "aTUPgsBwrLXZ",
        "colab_type": "text"
      },
      "source": [
        "### Count number of transactions by Customer."
      ]
    },
    {
      "cell_type": "code",
      "metadata": {
        "id": "MGZ5vgnMrNrp",
        "colab_type": "code",
        "colab": {}
      },
      "source": [
        "myData.groupby([\"Customer\"]).size()"
      ],
      "execution_count": null,
      "outputs": []
    },
    {
      "cell_type": "markdown",
      "metadata": {
        "id": "h4EDQKa-rQdu",
        "colab_type": "text"
      },
      "source": [
        "### 5-2 Advanced techniques for aggregating observations"
      ]
    },
    {
      "cell_type": "markdown",
      "metadata": {
        "id": "qm_KeJECrT5V",
        "colab_type": "text"
      },
      "source": [
        "### Aggregate the purchase amount (sum) of all transactions per customer on a yearly basis for year 2007 and 2008."
      ]
    },
    {
      "cell_type": "code",
      "metadata": {
        "id": "8SPwIZW0rcxa",
        "colab_type": "code",
        "colab": {}
      },
      "source": [
        "myData.loc[(myData[\"TransDate\"].dt.year==2008) | (myData[\"TransDate\"].dt.year ==2007),].groupby([myData[\"TransDate\"].dt.year, \"Customer\"])[\"PurchAmount\"].sum()"
      ],
      "execution_count": null,
      "outputs": []
    },
    {
      "cell_type": "markdown",
      "metadata": {
        "id": "XvV3TDgXrjr7",
        "colab_type": "text"
      },
      "source": [
        "### How many customers purchased for more than 50$ in total between 2008 and 2009?"
      ]
    },
    {
      "cell_type": "code",
      "metadata": {
        "id": "EZU5SxUDrk92",
        "colab_type": "code",
        "colab": {}
      },
      "source": [
        "(myData.loc[(myData[\"TransDate\"].dt.year==2008) | (myData[\"TransDate\"].dt.year==2009)].groupby(\"Customer\")[\"PurchAmount\"].sum()[lambda x:x >50]).count() "
      ],
      "execution_count": null,
      "outputs": []
    },
    {
      "cell_type": "markdown",
      "metadata": {
        "id": "f_sCntVCrtZw",
        "colab_type": "text"
      },
      "source": [
        "### 5-3 - Appending and updating rows and columns"
      ]
    },
    {
      "cell_type": "markdown",
      "metadata": {
        "id": "ZODhLCAArwO1",
        "colab_type": "text"
      },
      "source": [
        "### Add a column to myData with the total number of purchases per customer."
      ]
    },
    {
      "cell_type": "code",
      "metadata": {
        "id": "SRuEolurrz2W",
        "colab_type": "code",
        "colab": {}
      },
      "source": [
        "myData[\"Count\"]= myData.groupby(\"Customer\")[\"Customer\"].transform(\"size\")\n",
        "print(myData)"
      ],
      "execution_count": null,
      "outputs": []
    },
    {
      "cell_type": "markdown",
      "metadata": {
        "id": "3QvEnfMXr4Gi",
        "colab_type": "text"
      },
      "source": [
        "### Create a lead shifted variable for TransDate (by one period) by customer."
      ]
    },
    {
      "cell_type": "code",
      "metadata": {
        "id": "5laOYfxHr6jV",
        "colab_type": "code",
        "colab": {}
      },
      "source": [
        "myData[\"TransDateLag\"]=myData.groupby(\"Customer\")[\"TransDate\"].shift(periods=-1)\n",
        "print(myData)"
      ],
      "execution_count": null,
      "outputs": []
    },
    {
      "cell_type": "markdown",
      "metadata": {
        "id": "CjYMAfz8fOSs",
        "colab_type": "text"
      },
      "source": [
        "## Unit 6 Merge Operations in Python "
      ]
    },
    {
      "cell_type": "markdown",
      "metadata": {
        "id": "M98ndxO9fXR2",
        "colab_type": "text"
      },
      "source": [
        "Preparation"
      ]
    },
    {
      "cell_type": "code",
      "metadata": {
        "id": "auyBXhZbfYnI",
        "colab_type": "code",
        "colab": {}
      },
      "source": [
        "#load the numpy package\n",
        "import numpy as np\n",
        "#load the Pandas package\n",
        "import pandas as pd\n",
        "#Read the csv file and store it in the variable \"myData\". Note: this file is hostes in a GitHub repository.\n",
        "myData=pd.read_csv(filepath_or_buffer=\"https://raw.githubusercontent.com/bachmannpatrick/Python-Class/master/data/transactions.csv\", sep=\",\")\n",
        "#Adjust the format of column \"TransDate\" to datetime\n",
        "myData[\"TransDate\"]  = pd.to_datetime(myData[\"TransDate\"], dayfirst=True)\n",
        "\n",
        "#Read the demographics csv file and store it in the variable \"CustData\". Note: this file is hostes in a GitHub repos\n",
        "CustData=pd.read_csv(\"https://raw.githubusercontent.com/bachmannpatrick/Python-Class/master/data/demographics.csv\", sep=\",\")\n",
        "# Adjust the format of column \"Birthdate\" to datetime\n",
        "CustData[\"Birthdate\"]  = pd.to_datetime(CustData[\"Birthdate\"], dayfirst=True)\n",
        "CustData[\"JoinDate\"]  = pd.to_datetime(CustData[\"JoinDate\"], dayfirst=True) "
      ],
      "execution_count": null,
      "outputs": []
    },
    {
      "cell_type": "markdown",
      "metadata": {
        "id": "Mx8o4EOlfeNm",
        "colab_type": "text"
      },
      "source": [
        "###  Inner joins and full outer joins"
      ]
    },
    {
      "cell_type": "markdown",
      "metadata": {
        "id": "0gLDihQkfjRu",
        "colab_type": "text"
      },
      "source": [
        "### Inner join"
      ]
    },
    {
      "cell_type": "markdown",
      "metadata": {
        "id": "AHqs0vIg2rhA",
        "colab_type": "text"
      },
      "source": [
        " Inner joins return only the observations available in both datasets"
      ]
    },
    {
      "cell_type": "code",
      "metadata": {
        "id": "9EhXyWJ0fgvK",
        "colab_type": "code",
        "colab": {}
      },
      "source": [
        "#1\n",
        "#Check first the custome demographic data\n",
        "CustData.head(n=3)"
      ],
      "execution_count": null,
      "outputs": []
    },
    {
      "cell_type": "code",
      "metadata": {
        "id": "7Y80OUbVf7nK",
        "colab_type": "code",
        "colab": {}
      },
      "source": [
        "#2\n",
        "#Then check the transactions data\n",
        "myData.head(n=3)\n",
        "#Is there a common indentifier?"
      ],
      "execution_count": null,
      "outputs": []
    },
    {
      "cell_type": "code",
      "metadata": {
        "id": "_gSbTro8fxpg",
        "colab_type": "code",
        "colab": {}
      },
      "source": [
        "myData.merge(CustData, how=\"inner\", on=\"Customer\") "
      ],
      "execution_count": null,
      "outputs": []
    },
    {
      "cell_type": "markdown",
      "metadata": {
        "id": "wi3-hf_c23ME",
        "colab_type": "text"
      },
      "source": [
        "**NaN**: Not a number **NaT**: Not a time"
      ]
    },
    {
      "cell_type": "markdown",
      "metadata": {
        "id": "aDta4ws1f80H",
        "colab_type": "text"
      },
      "source": [
        "###Full outer join merges on all common identifiers of both DataFrames"
      ]
    },
    {
      "cell_type": "code",
      "metadata": {
        "id": "tQP2zXcDgAk2",
        "colab_type": "code",
        "colab": {}
      },
      "source": [
        "myData.merge(CustData, how=\"outer\", on=\"Customer\")"
      ],
      "execution_count": null,
      "outputs": []
    },
    {
      "cell_type": "markdown",
      "metadata": {
        "id": "Xq2JkMw5gFE3",
        "colab_type": "text"
      },
      "source": [
        "### Selecting missing and non-missing values in a DataFrame"
      ]
    },
    {
      "cell_type": "code",
      "metadata": {
        "id": "IeKMZA5NgHyc",
        "colab_type": "code",
        "colab": {}
      },
      "source": [
        "#Select missing values\n",
        "myData.loc[pd.isnull(myData[\"PurchAmount\"]), ]\n",
        "#note there are none, therefore output is empty."
      ],
      "execution_count": null,
      "outputs": []
    },
    {
      "cell_type": "code",
      "metadata": {
        "id": "qNo2BWVogM5-",
        "colab_type": "code",
        "colab": {}
      },
      "source": [
        "#Select non-missing values\n",
        "\u000bmyData.loc[ ~ pd.isnull(myData[\"PurchAmount\"]), ]"
      ],
      "execution_count": null,
      "outputs": []
    },
    {
      "cell_type": "code",
      "metadata": {
        "id": "_wQPmNV3gQVn",
        "colab_type": "code",
        "colab": {}
      },
      "source": [
        "#Select rows with no missing values\n",
        "\u000bmyData.dropna()"
      ],
      "execution_count": null,
      "outputs": []
    },
    {
      "cell_type": "markdown",
      "metadata": {
        "id": "pQhRRC0p3rVL",
        "colab_type": "text"
      },
      "source": [
        "### To sum up missings .isnull.sum()\n"
      ]
    },
    {
      "cell_type": "code",
      "metadata": {
        "id": "lTpuw9vm3sT-",
        "colab_type": "code",
        "colab": {}
      },
      "source": [
        "rightjoin.isnull().sum()"
      ],
      "execution_count": null,
      "outputs": []
    },
    {
      "cell_type": "markdown",
      "metadata": {
        "id": "DTxQbWoagS4m",
        "colab_type": "text"
      },
      "source": [
        "### Aggregating with missing values"
      ]
    },
    {
      "cell_type": "code",
      "metadata": {
        "id": "aYfiCwk4gVsr",
        "colab_type": "code",
        "colab": {}
      },
      "source": [
        "np.mean([1 ,2, np.nan, 3])\n",
        "#output should be nan"
      ],
      "execution_count": null,
      "outputs": []
    },
    {
      "cell_type": "code",
      "metadata": {
        "id": "3l-VbViEgYJr",
        "colab_type": "code",
        "colab": {}
      },
      "source": [
        "np.nanmean([1,2,np.nan,3])\n",
        "# -> 2 "
      ],
      "execution_count": null,
      "outputs": []
    },
    {
      "cell_type": "code",
      "metadata": {
        "id": "cjufAeiEgZ8-",
        "colab_type": "code",
        "colab": {}
      },
      "source": [
        "myData.groupby(\"Customer\")[\"PurchAmount\"].mean()\n",
        "#does not include nan automatically"
      ],
      "execution_count": null,
      "outputs": []
    },
    {
      "cell_type": "markdown",
      "metadata": {
        "id": "TkC6b8tSgdHI",
        "colab_type": "text"
      },
      "source": [
        "### Build the cartesian products of DataFrames"
      ]
    },
    {
      "cell_type": "code",
      "metadata": {
        "id": "9Ug2esL9g058",
        "colab_type": "code",
        "colab": {}
      },
      "source": [
        "pd.merge(myData, CustData, on=\"Customer\")"
      ],
      "execution_count": null,
      "outputs": []
    },
    {
      "cell_type": "markdown",
      "metadata": {
        "id": "zlwwi6XBhZpg",
        "colab_type": "text"
      },
      "source": [
        "### Left and right outer joins"
      ]
    },
    {
      "cell_type": "markdown",
      "metadata": {
        "id": "g8mt9sCehgRp",
        "colab_type": "text"
      },
      "source": [
        "Left join merges on all of the common identifiers in the left specified table"
      ]
    },
    {
      "cell_type": "code",
      "metadata": {
        "id": "oRyYg0Uxhlnv",
        "colab_type": "code",
        "colab": {}
      },
      "source": [
        "myData.merge(CustData, how=\"left\", on=\"Customer\")"
      ],
      "execution_count": null,
      "outputs": []
    },
    {
      "cell_type": "markdown",
      "metadata": {
        "id": "ixj_qmLnhn79",
        "colab_type": "text"
      },
      "source": [
        "### Right join merges on all of the common identifiers in the table specified on the right side"
      ]
    },
    {
      "cell_type": "code",
      "metadata": {
        "id": "lqguVqFlhsWa",
        "colab_type": "code",
        "colab": {}
      },
      "source": [
        "myData.merge(CustData, how=\"right\", on=\"Customer\")"
      ],
      "execution_count": null,
      "outputs": []
    },
    {
      "cell_type": "markdown",
      "metadata": {
        "id": "V98ujCIX5abh",
        "colab_type": "text"
      },
      "source": [
        "We want all the data for all customers who made a transaction (left outer). ▪ We want all the data for all the customers in our DataFrame (right outer)."
      ]
    },
    {
      "cell_type": "markdown",
      "metadata": {
        "id": "bhE7dmVEh2Db",
        "colab_type": "text"
      },
      "source": [
        "### Illustration of an inner join merged by multiple IDs"
      ]
    },
    {
      "cell_type": "code",
      "metadata": {
        "id": "hjRM-QnDh5Lq",
        "colab_type": "code",
        "colab": {}
      },
      "source": [
        "myData.merge(CustData, how=\"inner\", left_on=[\"Customer\",\"TransDate\"], right_on=[\"Customer\", \"JoinDate\"])"
      ],
      "execution_count": null,
      "outputs": []
    },
    {
      "cell_type": "markdown",
      "metadata": {
        "id": "Mdg1YTZfiGyx",
        "colab_type": "text"
      },
      "source": [
        "## Unit 6 Exercise"
      ]
    },
    {
      "cell_type": "markdown",
      "metadata": {
        "id": "0QO8vCMTiL8S",
        "colab_type": "text"
      },
      "source": [
        "Preparation"
      ]
    },
    {
      "cell_type": "code",
      "metadata": {
        "id": "UCEUIOnhiOaM",
        "colab_type": "code",
        "colab": {}
      },
      "source": [
        "#load the numpy package\n",
        "import numpy as np\n",
        "#load the Pandas package\n",
        "import pandas as pd\n",
        "#Read the csv file and store it in the variable \"myData\". Note: this file is hostes in a GitHub repository.\n",
        "myData=pd.read_csv(filepath_or_buffer=\"https://raw.githubusercontent.com/bachmannpatrick/Python-Class/master/data/transactions.csv\", sep=\",\")\n",
        "#Adjust the format of column \"TransDate\" to datetime\n",
        "myData[\"TransDate\"]  = pd.to_datetime(myData[\"TransDate\"], dayfirst=True)\n",
        "\n",
        "#Read the demographics csv file and store it in the variable \"CustData\". Note: this file is hostes in a GitHub repos\n",
        "CustData=pd.read_csv(\"https://raw.githubusercontent.com/bachmannpatrick/Python-Class/master/data/demographics.csv\", sep=\",\")\n",
        "# Adjust the format of column \"Birthdate\" to datetime\n",
        "CustData[\"Birthdate\"]  = pd.to_datetime(CustData[\"Birthdate\"], dayfirst=True)\n",
        "CustData[\"JoinDate\"]  = pd.to_datetime(CustData[\"JoinDate\"], dayfirst=True) "
      ],
      "execution_count": null,
      "outputs": []
    },
    {
      "cell_type": "markdown",
      "metadata": {
        "id": "ePyyzjMGiRDS",
        "colab_type": "text"
      },
      "source": [
        "### Inner joins and full outer joins"
      ]
    },
    {
      "cell_type": "markdown",
      "metadata": {
        "id": "5DakhPdpiUKb",
        "colab_type": "text"
      },
      "source": [
        "Merge transactions and demographics by Customer using an inner join for customers born after 1980. Hint: Check that the date is formatted correctly."
      ]
    },
    {
      "cell_type": "code",
      "metadata": {
        "id": "bGv0Hj0KiWp5",
        "colab_type": "code",
        "colab": {}
      },
      "source": [
        "myData.merge(CustData.loc[CustData[\"Birthdate\"].dt.year>1980], how=\"inner\", on=\"Customer\")"
      ],
      "execution_count": null,
      "outputs": []
    },
    {
      "cell_type": "code",
      "metadata": {
        "id": "p0dQg0jjihMo",
        "colab_type": "code",
        "colab": {}
      },
      "source": [
        "#%% Alternative: Merge first and filter in a second step\n",
        "merge = myData.merge(CustData, how=\"inner\", on=\"Customer\")\n",
        "merge1980_2=merge.loc[merge[\"Birthdate\"].dt.year>1980]\n",
        "print(merge1980_2)"
      ],
      "execution_count": null,
      "outputs": []
    },
    {
      "cell_type": "markdown",
      "metadata": {
        "id": "hcyzqZ6Wij4k",
        "colab_type": "text"
      },
      "source": [
        "Merge transactions and demographics by Customer using an outer join for customers that purchased in 2008."
      ]
    },
    {
      "cell_type": "code",
      "metadata": {
        "id": "nU9rrBq5inzB",
        "colab_type": "code",
        "colab": {}
      },
      "source": [
        "myData.loc[myData[\"TransDate\"].dt.year==2008, ].merge(CustData, how=\"outer\", on=\"Customer\")"
      ],
      "execution_count": null,
      "outputs": []
    },
    {
      "cell_type": "code",
      "metadata": {
        "id": "mzVgTjUGis4V",
        "colab_type": "code",
        "colab": {}
      },
      "source": [
        "#Aternative\n",
        "myData2008=myData.loc[myData[\"TransDate\"].dt.year==2008, ]\n",
        "myData2008.merge(CustData, how=\"outer\", on=\"Customer\")"
      ],
      "execution_count": null,
      "outputs": []
    },
    {
      "cell_type": "markdown",
      "metadata": {
        "id": "t8oTc-reix8s",
        "colab_type": "text"
      },
      "source": [
        "### Left and right outer joins"
      ]
    },
    {
      "cell_type": "markdown",
      "metadata": {
        "id": "qpkdHUOAi01E",
        "colab_type": "text"
      },
      "source": [
        "Merge transaction and demographics by Customer using an outer left join."
      ]
    },
    {
      "cell_type": "code",
      "metadata": {
        "id": "h37NJU_Wi3lQ",
        "colab_type": "code",
        "colab": {}
      },
      "source": [
        "myData.merge(CustData, how=\"left\", on=\"Customer\")"
      ],
      "execution_count": null,
      "outputs": []
    },
    {
      "cell_type": "markdown",
      "metadata": {
        "id": "byShWl6zi6TG",
        "colab_type": "text"
      },
      "source": [
        "Merge transaction and demographics by Customer using an outer right join."
      ]
    },
    {
      "cell_type": "code",
      "metadata": {
        "id": "0SfuDh_ti9Bp",
        "colab_type": "code",
        "colab": {}
      },
      "source": [
        "myData.merge(CustData, how=\"right\", on=\"Customer\")"
      ],
      "execution_count": null,
      "outputs": []
    },
    {
      "cell_type": "markdown",
      "metadata": {
        "id": "M1oK3FbqjAG9",
        "colab_type": "text"
      },
      "source": [
        "### Overview of advanced techniques for \u000bmerging datasets"
      ]
    },
    {
      "cell_type": "markdown",
      "metadata": {
        "id": "6aabSjb7jC3T",
        "colab_type": "text"
      },
      "source": [
        "Merge transaction and demographics by Customer and by TransDate resp. JoinDate using an inner join."
      ]
    },
    {
      "cell_type": "code",
      "metadata": {
        "id": "IGH1LEbtjH3V",
        "colab_type": "code",
        "colab": {}
      },
      "source": [
        "myData.merge(CustData, how=\"inner\", left_on=[\"Customer\", \"TransDate\"], right_on=[\"Customer\", \"JoinDate\"])"
      ],
      "execution_count": null,
      "outputs": []
    },
    {
      "cell_type": "markdown",
      "metadata": {
        "id": "fn1oadZjjanG",
        "colab_type": "text"
      },
      "source": [
        "## Excursus"
      ]
    },
    {
      "cell_type": "markdown",
      "metadata": {
        "id": "s9wbgobPjiv4",
        "colab_type": "text"
      },
      "source": [
        "Preparation"
      ]
    },
    {
      "cell_type": "code",
      "metadata": {
        "id": "biD8Z02JjnYD",
        "colab_type": "code",
        "colab": {}
      },
      "source": [
        "#load the numpy package\n",
        "import numpy as np\n",
        "#load the Pandas package\n",
        "import pandas as pd\n",
        "#install names package\n",
        "!pip install names\n",
        "\n",
        "#Read the csv file and store it in the variable \"myData\". Note: this file is hostes in a GitHub repository.\n",
        "myData=pd.read_csv(filepath_or_buffer=\"https://raw.githubusercontent.com/bachmannpatrick/Python-Class/master/data/transactions.csv\", sep=\",\")\n",
        "#Adjust the format of column \"TransDate\" to datetime\n",
        "myData[\"TransDate\"]  = pd.to_datetime(myData[\"TransDate\"], dayfirst=True)"
      ],
      "execution_count": null,
      "outputs": []
    },
    {
      "cell_type": "markdown",
      "metadata": {
        "id": "a11szD3HjrEh",
        "colab_type": "text"
      },
      "source": [
        "### Creating sequences automatically"
      ]
    },
    {
      "cell_type": "markdown",
      "metadata": {
        "id": "0sVrYGIpjt-F",
        "colab_type": "text"
      },
      "source": [
        "Sequences for equal spacing "
      ]
    },
    {
      "cell_type": "code",
      "metadata": {
        "id": "eViCfVJJjvvX",
        "colab_type": "code",
        "colab": {
          "base_uri": "https://localhost:8080/",
          "height": 33
        },
        "outputId": "a51e39e3-ccff-4cc5-a912-83040e55d7e6"
      },
      "source": [
        "#basic sequences\n",
        "range(2,13)\u000b"
      ],
      "execution_count": null,
      "outputs": [
        {
          "output_type": "execute_result",
          "data": {
            "text/plain": [
              "range(2, 13)"
            ]
          },
          "metadata": {
            "tags": []
          },
          "execution_count": 7
        }
      ]
    },
    {
      "cell_type": "code",
      "metadata": {
        "id": "9YUpM24q9wRU",
        "colab_type": "code",
        "colab": {
          "base_uri": "https://localhost:8080/",
          "height": 33
        },
        "outputId": "10535684-c95b-42aa-87a9-245e6b858fe8"
      },
      "source": [
        "print(*range(2,13))"
      ],
      "execution_count": null,
      "outputs": [
        {
          "output_type": "stream",
          "text": [
            "2 3 4 5 6 7 8 9 10 11 12\n"
          ],
          "name": "stdout"
        }
      ]
    },
    {
      "cell_type": "code",
      "metadata": {
        "id": "Gdm4eq89j-Qe",
        "colab_type": "code",
        "colab": {}
      },
      "source": [
        "#arrays\n",
        "np.arange(start=1, stop=12, step=3)\u000b"
      ],
      "execution_count": null,
      "outputs": []
    },
    {
      "cell_type": "code",
      "metadata": {
        "id": "J4z3xxG8kA_f",
        "colab_type": "code",
        "colab": {}
      },
      "source": [
        "np.arange(start=1.25, stop=6.25, step=0.25)\u000b"
      ],
      "execution_count": null,
      "outputs": []
    },
    {
      "cell_type": "markdown",
      "metadata": {
        "id": "k6gduEakkDG9",
        "colab_type": "text"
      },
      "source": [
        "Unnamed arguments"
      ]
    },
    {
      "cell_type": "code",
      "metadata": {
        "id": "Rja6VXCKkE_v",
        "colab_type": "code",
        "colab": {}
      },
      "source": [
        "np.arange(start=1, stop=12, step=3"
      ],
      "execution_count": null,
      "outputs": []
    },
    {
      "cell_type": "code",
      "metadata": {
        "id": "y-BjsE1qkJGx",
        "colab_type": "code",
        "colab": {}
      },
      "source": [
        "np.arange(1,12,3)"
      ],
      "execution_count": null,
      "outputs": []
    },
    {
      "cell_type": "code",
      "metadata": {
        "id": "A8tvoUbBkLQ5",
        "colab_type": "code",
        "colab": {}
      },
      "source": [
        "#use argument names!\n",
        "np.arange(start=1, step=3, stop=12)"
      ],
      "execution_count": null,
      "outputs": []
    },
    {
      "cell_type": "markdown",
      "metadata": {
        "id": "phr6AmJMkOB3",
        "colab_type": "text"
      },
      "source": [
        "### Characters "
      ]
    },
    {
      "cell_type": "code",
      "metadata": {
        "id": "3Ab0v4mnkNfn",
        "colab_type": "code",
        "colab": {}
      },
      "source": [
        "#Characters\n",
        "import string\u000b\n",
        "list(string.ascii_lowercase)[0:5]\u000b"
      ],
      "execution_count": null,
      "outputs": []
    },
    {
      "cell_type": "code",
      "metadata": {
        "id": "4YxxzE_k-d22",
        "colab_type": "code",
        "colab": {
          "base_uri": "https://localhost:8080/",
          "height": 33
        },
        "outputId": "73d6ec0d-c3b5-44ad-809f-c10202bf067c"
      },
      "source": [
        "import string\u000b\n",
        "list(string.ascii_uppercase)[0:5]\u000b"
      ],
      "execution_count": null,
      "outputs": [
        {
          "output_type": "execute_result",
          "data": {
            "text/plain": [
              "['A', 'B', 'C', 'D', 'E']"
            ]
          },
          "metadata": {
            "tags": []
          },
          "execution_count": 10
        }
      ]
    },
    {
      "cell_type": "code",
      "metadata": {
        "id": "JjB3tGIdkVTL",
        "colab_type": "code",
        "colab": {}
      },
      "source": [
        "#Dates\u000b\n",
        "pd.date_range(start='1/1/2011',end='03/31/2011', \u000bfreq=\"MS\")"
      ],
      "execution_count": null,
      "outputs": []
    },
    {
      "cell_type": "markdown",
      "metadata": {
        "id": "UYmk9E9n-nqr",
        "colab_type": "text"
      },
      "source": [
        "Monthly frequency (M) and first day (=start) of the month (S). Default frequency is \"D\"=Day. Default with only \"M\" is last day of the month."
      ]
    },
    {
      "cell_type": "markdown",
      "metadata": {
        "id": "q8B1Uma1kZ0t",
        "colab_type": "text"
      },
      "source": [
        "### Replicate a number or vector"
      ]
    },
    {
      "cell_type": "code",
      "metadata": {
        "id": "gstAVhrDkbzP",
        "colab_type": "code",
        "colab": {}
      },
      "source": [
        "#Continuous replications\n",
        "np.tile(range(1,13), reps=3)"
      ],
      "execution_count": null,
      "outputs": []
    },
    {
      "cell_type": "code",
      "metadata": {
        "id": "qteVvN2Kkhmd",
        "colab_type": "code",
        "colab": {}
      },
      "source": [
        "#Consecutive repetitions\n",
        "np.repeat(range(1,13), repeats=3)\u000b"
      ],
      "execution_count": null,
      "outputs": []
    },
    {
      "cell_type": "code",
      "metadata": {
        "id": "gtGPi80Gkjno",
        "colab_type": "code",
        "colab": {}
      },
      "source": [
        "np.repeat((\"a\"),repeats=16)"
      ],
      "execution_count": null,
      "outputs": []
    },
    {
      "cell_type": "markdown",
      "metadata": {
        "id": "dGQgGSPikzmL",
        "colab_type": "text"
      },
      "source": [
        "### Create a table with all possible permutations of the given variables"
      ]
    },
    {
      "cell_type": "code",
      "metadata": {
        "id": "GcoZuWPWk3uf",
        "colab_type": "code",
        "colab": {
          "base_uri": "https://localhost:8080/",
          "height": 33
        },
        "outputId": "5dd4b92e-52b1-4a1f-8505-e7037645a715"
      },
      "source": [
        "import itertools\n",
        "list(itertools.product(range(165,168), [\"1\", \"2\"]))\n",
        "#The module itertools forms all combinations of the supplied vectors"
      ],
      "execution_count": null,
      "outputs": [
        {
          "output_type": "execute_result",
          "data": {
            "text/plain": [
              "[(165, '1'), (165, '2'), (166, '1'), (166, '2'), (167, '1'), (167, '2')]"
            ]
          },
          "metadata": {
            "tags": []
          },
          "execution_count": 30
        }
      ]
    },
    {
      "cell_type": "code",
      "metadata": {
        "id": "x2l_STyCk9nP",
        "colab_type": "code",
        "colab": {
          "base_uri": "https://localhost:8080/",
          "height": 220
        },
        "outputId": "d07026f2-592c-4e70-d3a7-d1da280c5c14"
      },
      "source": [
        "#An example\n",
        "CustId = range(165,168)\n",
        "Store= [\"A\",\"B\"]\n",
        "CustData= pd.DataFrame(list(itertools.product(CustId, Store)))\n",
        "CustData.columns = [\"CustId\", \"Store\"]\n",
        "CustData"
      ],
      "execution_count": null,
      "outputs": [
        {
          "output_type": "execute_result",
          "data": {
            "text/html": [
              "<div>\n",
              "<style scoped>\n",
              "    .dataframe tbody tr th:only-of-type {\n",
              "        vertical-align: middle;\n",
              "    }\n",
              "\n",
              "    .dataframe tbody tr th {\n",
              "        vertical-align: top;\n",
              "    }\n",
              "\n",
              "    .dataframe thead th {\n",
              "        text-align: right;\n",
              "    }\n",
              "</style>\n",
              "<table border=\"1\" class=\"dataframe\">\n",
              "  <thead>\n",
              "    <tr style=\"text-align: right;\">\n",
              "      <th></th>\n",
              "      <th>CustId</th>\n",
              "      <th>Store</th>\n",
              "    </tr>\n",
              "  </thead>\n",
              "  <tbody>\n",
              "    <tr>\n",
              "      <th>0</th>\n",
              "      <td>165</td>\n",
              "      <td>A</td>\n",
              "    </tr>\n",
              "    <tr>\n",
              "      <th>1</th>\n",
              "      <td>165</td>\n",
              "      <td>B</td>\n",
              "    </tr>\n",
              "    <tr>\n",
              "      <th>2</th>\n",
              "      <td>166</td>\n",
              "      <td>A</td>\n",
              "    </tr>\n",
              "    <tr>\n",
              "      <th>3</th>\n",
              "      <td>166</td>\n",
              "      <td>B</td>\n",
              "    </tr>\n",
              "    <tr>\n",
              "      <th>4</th>\n",
              "      <td>167</td>\n",
              "      <td>A</td>\n",
              "    </tr>\n",
              "    <tr>\n",
              "      <th>5</th>\n",
              "      <td>167</td>\n",
              "      <td>B</td>\n",
              "    </tr>\n",
              "  </tbody>\n",
              "</table>\n",
              "</div>"
            ],
            "text/plain": [
              "   CustId Store\n",
              "0     165     A\n",
              "1     165     B\n",
              "2     166     A\n",
              "3     166     B\n",
              "4     167     A\n",
              "5     167     B"
            ]
          },
          "metadata": {
            "tags": []
          },
          "execution_count": 31
        }
      ]
    },
    {
      "cell_type": "markdown",
      "metadata": {
        "id": "_smktpVflEmf",
        "colab_type": "text"
      },
      "source": [
        "### Concatenate strings"
      ]
    },
    {
      "cell_type": "code",
      "metadata": {
        "id": "LDbZ6tz1lO44",
        "colab_type": "code",
        "colab": {
          "base_uri": "https://localhost:8080/",
          "height": 133
        },
        "outputId": "485b52fb-e726-46e3-e400-9b98b6e3d02f"
      },
      "source": [
        "CustData.head(n=3)\n",
        "CustData.dtypes\n",
        "CustData[\"Store_Cust\"] = CustData[\"CustId\"].astype(str) + \"_\" + CustData[\"Store\"].astype(str) \n",
        "CustData.head(n=3)"
      ],
      "execution_count": null,
      "outputs": [
        {
          "output_type": "execute_result",
          "data": {
            "text/html": [
              "<div>\n",
              "<style scoped>\n",
              "    .dataframe tbody tr th:only-of-type {\n",
              "        vertical-align: middle;\n",
              "    }\n",
              "\n",
              "    .dataframe tbody tr th {\n",
              "        vertical-align: top;\n",
              "    }\n",
              "\n",
              "    .dataframe thead th {\n",
              "        text-align: right;\n",
              "    }\n",
              "</style>\n",
              "<table border=\"1\" class=\"dataframe\">\n",
              "  <thead>\n",
              "    <tr style=\"text-align: right;\">\n",
              "      <th></th>\n",
              "      <th>CustId</th>\n",
              "      <th>Store</th>\n",
              "      <th>Store_Cust</th>\n",
              "    </tr>\n",
              "  </thead>\n",
              "  <tbody>\n",
              "    <tr>\n",
              "      <th>0</th>\n",
              "      <td>165</td>\n",
              "      <td>A</td>\n",
              "      <td>165_A</td>\n",
              "    </tr>\n",
              "    <tr>\n",
              "      <th>1</th>\n",
              "      <td>165</td>\n",
              "      <td>B</td>\n",
              "      <td>165_B</td>\n",
              "    </tr>\n",
              "    <tr>\n",
              "      <th>2</th>\n",
              "      <td>166</td>\n",
              "      <td>A</td>\n",
              "      <td>166_A</td>\n",
              "    </tr>\n",
              "  </tbody>\n",
              "</table>\n",
              "</div>"
            ],
            "text/plain": [
              "   CustId Store Store_Cust\n",
              "0     165     A      165_A\n",
              "1     165     B      165_B\n",
              "2     166     A      166_A"
            ]
          },
          "metadata": {
            "tags": []
          },
          "execution_count": 32
        }
      ]
    },
    {
      "cell_type": "markdown",
      "metadata": {
        "id": "97KZXY64lSvy",
        "colab_type": "text"
      },
      "source": [
        "Finding unique elements"
      ]
    },
    {
      "cell_type": "code",
      "metadata": {
        "id": "xoBiJpcNlbHH",
        "colab_type": "code",
        "colab": {
          "base_uri": "https://localhost:8080/",
          "height": 220
        },
        "outputId": "fcf42692-d37c-43ee-c478-2a4f1f86a1d8"
      },
      "source": [
        "#Return the unique entries of a DataFrame\u000b\n",
        "CustData.drop_duplicates()"
      ],
      "execution_count": null,
      "outputs": [
        {
          "output_type": "execute_result",
          "data": {
            "text/html": [
              "<div>\n",
              "<style scoped>\n",
              "    .dataframe tbody tr th:only-of-type {\n",
              "        vertical-align: middle;\n",
              "    }\n",
              "\n",
              "    .dataframe tbody tr th {\n",
              "        vertical-align: top;\n",
              "    }\n",
              "\n",
              "    .dataframe thead th {\n",
              "        text-align: right;\n",
              "    }\n",
              "</style>\n",
              "<table border=\"1\" class=\"dataframe\">\n",
              "  <thead>\n",
              "    <tr style=\"text-align: right;\">\n",
              "      <th></th>\n",
              "      <th>CustId</th>\n",
              "      <th>Store</th>\n",
              "      <th>Store_Cust</th>\n",
              "    </tr>\n",
              "  </thead>\n",
              "  <tbody>\n",
              "    <tr>\n",
              "      <th>0</th>\n",
              "      <td>165</td>\n",
              "      <td>A</td>\n",
              "      <td>165_A</td>\n",
              "    </tr>\n",
              "    <tr>\n",
              "      <th>1</th>\n",
              "      <td>165</td>\n",
              "      <td>B</td>\n",
              "      <td>165_B</td>\n",
              "    </tr>\n",
              "    <tr>\n",
              "      <th>2</th>\n",
              "      <td>166</td>\n",
              "      <td>A</td>\n",
              "      <td>166_A</td>\n",
              "    </tr>\n",
              "    <tr>\n",
              "      <th>3</th>\n",
              "      <td>166</td>\n",
              "      <td>B</td>\n",
              "      <td>166_B</td>\n",
              "    </tr>\n",
              "    <tr>\n",
              "      <th>4</th>\n",
              "      <td>167</td>\n",
              "      <td>A</td>\n",
              "      <td>167_A</td>\n",
              "    </tr>\n",
              "    <tr>\n",
              "      <th>5</th>\n",
              "      <td>167</td>\n",
              "      <td>B</td>\n",
              "      <td>167_B</td>\n",
              "    </tr>\n",
              "  </tbody>\n",
              "</table>\n",
              "</div>"
            ],
            "text/plain": [
              "   CustId Store Store_Cust\n",
              "0     165     A      165_A\n",
              "1     165     B      165_B\n",
              "2     166     A      166_A\n",
              "3     166     B      166_B\n",
              "4     167     A      167_A\n",
              "5     167     B      167_B"
            ]
          },
          "metadata": {
            "tags": []
          },
          "execution_count": 33
        }
      ]
    },
    {
      "cell_type": "code",
      "metadata": {
        "id": "NRBFGQBkledk",
        "colab_type": "code",
        "colab": {
          "base_uri": "https://localhost:8080/",
          "height": 33
        },
        "outputId": "c02f0fba-68da-44da-87ad-6a3365b3ec0a"
      },
      "source": [
        "#Return the unique elements of a vector\n",
        "\u000bpd.unique(CustData[\"Store\"])"
      ],
      "execution_count": null,
      "outputs": [
        {
          "output_type": "execute_result",
          "data": {
            "text/plain": [
              "array(['A', 'B'], dtype=object)"
            ]
          },
          "metadata": {
            "tags": []
          },
          "execution_count": 34
        }
      ]
    },
    {
      "cell_type": "markdown",
      "metadata": {
        "id": "k1akLjhGli4i",
        "colab_type": "text"
      },
      "source": [
        "### Simulating and manipulating strings"
      ]
    },
    {
      "cell_type": "markdown",
      "metadata": {
        "id": "Hqh9LgDAlzeJ",
        "colab_type": "text"
      },
      "source": [
        "### Random name sampling with names()"
      ]
    },
    {
      "cell_type": "code",
      "metadata": {
        "id": "DDCVFk9o2S0V",
        "colab_type": "code",
        "colab": {
          "base_uri": "https://localhost:8080/",
          "height": 180
        },
        "outputId": "d480b662-164b-444f-dda1-031d83c31824"
      },
      "source": [
        "!pip install names"
      ],
      "execution_count": null,
      "outputs": [
        {
          "output_type": "stream",
          "text": [
            "Collecting names\n",
            "\u001b[?25l  Downloading https://files.pythonhosted.org/packages/44/4e/f9cb7ef2df0250f4ba3334fbdabaa94f9c88097089763d8e85ada8092f84/names-0.3.0.tar.gz (789kB)\n",
            "\r\u001b[K     |▍                               | 10kB 7.2MB/s eta 0:00:01\r\u001b[K     |▉                               | 20kB 4.0MB/s eta 0:00:01\r\u001b[K     |█▎                              | 30kB 5.2MB/s eta 0:00:01\r\u001b[K     |█▋                              | 40kB 4.7MB/s eta 0:00:01\r\u001b[K     |██                              | 51kB 5.7MB/s eta 0:00:01\r\u001b[K     |██▌                             | 61kB 6.5MB/s eta 0:00:01\r\u001b[K     |███                             | 71kB 6.9MB/s eta 0:00:01\r\u001b[K     |███▎                            | 81kB 6.7MB/s eta 0:00:01\r\u001b[K     |███▊                            | 92kB 7.3MB/s eta 0:00:01\r\u001b[K     |████▏                           | 102kB 7.4MB/s eta 0:00:01\r\u001b[K     |████▋                           | 112kB 7.4MB/s eta 0:00:01\r\u001b[K     |█████                           | 122kB 7.4MB/s eta 0:00:01\r\u001b[K     |█████▍                          | 133kB 7.4MB/s eta 0:00:01\r\u001b[K     |█████▉                          | 143kB 7.4MB/s eta 0:00:01\r\u001b[K     |██████▎                         | 153kB 7.4MB/s eta 0:00:01\r\u001b[K     |██████▋                         | 163kB 7.4MB/s eta 0:00:01\r\u001b[K     |███████                         | 174kB 7.4MB/s eta 0:00:01\r\u001b[K     |███████▌                        | 184kB 7.4MB/s eta 0:00:01\r\u001b[K     |████████                        | 194kB 7.4MB/s eta 0:00:01\r\u001b[K     |████████▎                       | 204kB 7.4MB/s eta 0:00:01\r\u001b[K     |████████▊                       | 215kB 7.4MB/s eta 0:00:01\r\u001b[K     |█████████▏                      | 225kB 7.4MB/s eta 0:00:01\r\u001b[K     |█████████▌                      | 235kB 7.4MB/s eta 0:00:01\r\u001b[K     |██████████                      | 245kB 7.4MB/s eta 0:00:01\r\u001b[K     |██████████▍                     | 256kB 7.4MB/s eta 0:00:01\r\u001b[K     |██████████▉                     | 266kB 7.4MB/s eta 0:00:01\r\u001b[K     |███████████▏                    | 276kB 7.4MB/s eta 0:00:01\r\u001b[K     |███████████▋                    | 286kB 7.4MB/s eta 0:00:01\r\u001b[K     |████████████                    | 296kB 7.4MB/s eta 0:00:01\r\u001b[K     |████████████▌                   | 307kB 7.4MB/s eta 0:00:01\r\u001b[K     |████████████▉                   | 317kB 7.4MB/s eta 0:00:01\r\u001b[K     |█████████████▎                  | 327kB 7.4MB/s eta 0:00:01\r\u001b[K     |█████████████▊                  | 337kB 7.4MB/s eta 0:00:01\r\u001b[K     |██████████████▏                 | 348kB 7.4MB/s eta 0:00:01\r\u001b[K     |██████████████▌                 | 358kB 7.4MB/s eta 0:00:01\r\u001b[K     |███████████████                 | 368kB 7.4MB/s eta 0:00:01\r\u001b[K     |███████████████▍                | 378kB 7.4MB/s eta 0:00:01\r\u001b[K     |███████████████▉                | 389kB 7.4MB/s eta 0:00:01\r\u001b[K     |████████████████▏               | 399kB 7.4MB/s eta 0:00:01\r\u001b[K     |████████████████▋               | 409kB 7.4MB/s eta 0:00:01\r\u001b[K     |█████████████████               | 419kB 7.4MB/s eta 0:00:01\r\u001b[K     |█████████████████▍              | 430kB 7.4MB/s eta 0:00:01\r\u001b[K     |█████████████████▉              | 440kB 7.4MB/s eta 0:00:01\r\u001b[K     |██████████████████▎             | 450kB 7.4MB/s eta 0:00:01\r\u001b[K     |██████████████████▊             | 460kB 7.4MB/s eta 0:00:01\r\u001b[K     |███████████████████             | 471kB 7.4MB/s eta 0:00:01\r\u001b[K     |███████████████████▌            | 481kB 7.4MB/s eta 0:00:01\r\u001b[K     |████████████████████            | 491kB 7.4MB/s eta 0:00:01\r\u001b[K     |████████████████████▍           | 501kB 7.4MB/s eta 0:00:01\r\u001b[K     |████████████████████▊           | 512kB 7.4MB/s eta 0:00:01\r\u001b[K     |█████████████████████▏          | 522kB 7.4MB/s eta 0:00:01\r\u001b[K     |█████████████████████▋          | 532kB 7.4MB/s eta 0:00:01\r\u001b[K     |██████████████████████          | 542kB 7.4MB/s eta 0:00:01\r\u001b[K     |██████████████████████▍         | 552kB 7.4MB/s eta 0:00:01\r\u001b[K     |██████████████████████▉         | 563kB 7.4MB/s eta 0:00:01\r\u001b[K     |███████████████████████▎        | 573kB 7.4MB/s eta 0:00:01\r\u001b[K     |███████████████████████▊        | 583kB 7.4MB/s eta 0:00:01\r\u001b[K     |████████████████████████        | 593kB 7.4MB/s eta 0:00:01\r\u001b[K     |████████████████████████▌       | 604kB 7.4MB/s eta 0:00:01\r\u001b[K     |█████████████████████████       | 614kB 7.4MB/s eta 0:00:01\r\u001b[K     |█████████████████████████▎      | 624kB 7.4MB/s eta 0:00:01\r\u001b[K     |█████████████████████████▊      | 634kB 7.4MB/s eta 0:00:01\r\u001b[K     |██████████████████████████▏     | 645kB 7.4MB/s eta 0:00:01\r\u001b[K     |██████████████████████████▋     | 655kB 7.4MB/s eta 0:00:01\r\u001b[K     |███████████████████████████     | 665kB 7.4MB/s eta 0:00:01\r\u001b[K     |███████████████████████████▍    | 675kB 7.4MB/s eta 0:00:01\r\u001b[K     |███████████████████████████▉    | 686kB 7.4MB/s eta 0:00:01\r\u001b[K     |████████████████████████████▎   | 696kB 7.4MB/s eta 0:00:01\r\u001b[K     |████████████████████████████▋   | 706kB 7.4MB/s eta 0:00:01\r\u001b[K     |█████████████████████████████   | 716kB 7.4MB/s eta 0:00:01\r\u001b[K     |█████████████████████████████▌  | 727kB 7.4MB/s eta 0:00:01\r\u001b[K     |██████████████████████████████  | 737kB 7.4MB/s eta 0:00:01\r\u001b[K     |██████████████████████████████▎ | 747kB 7.4MB/s eta 0:00:01\r\u001b[K     |██████████████████████████████▊ | 757kB 7.4MB/s eta 0:00:01\r\u001b[K     |███████████████████████████████▏| 768kB 7.4MB/s eta 0:00:01\r\u001b[K     |███████████████████████████████▋| 778kB 7.4MB/s eta 0:00:01\r\u001b[K     |████████████████████████████████| 788kB 7.4MB/s eta 0:00:01\r\u001b[K     |████████████████████████████████| 798kB 7.4MB/s \n",
            "\u001b[?25hBuilding wheels for collected packages: names\n",
            "  Building wheel for names (setup.py) ... \u001b[?25l\u001b[?25hdone\n",
            "  Created wheel for names: filename=names-0.3.0-cp36-none-any.whl size=803689 sha256=3e33d75c301a6406adc7d71c5ebb9a9f1fd7f0e4896aa98a2bc0dba3e1d5dbe3\n",
            "  Stored in directory: /root/.cache/pip/wheels/f9/a5/e1/be3e0aaa6fa285575078fa2aafd9959b45bdbc8de8a6803aeb\n",
            "Successfully built names\n",
            "Installing collected packages: names\n",
            "Successfully installed names-0.3.0\n"
          ],
          "name": "stdout"
        }
      ]
    },
    {
      "cell_type": "code",
      "metadata": {
        "id": "YFbE9lTsl2WY",
        "colab_type": "code",
        "colab": {
          "base_uri": "https://localhost:8080/",
          "height": 33
        },
        "outputId": "8fff2ef9-0da9-4489-f976-9258ec2ea8e7"
      },
      "source": [
        "\n",
        "import names\n",
        "randnames=[]\n",
        "for i in range(3):    \n",
        "  randnames.append(names.get_full_name(gender=\"female\"))\n",
        "print (randnames)"
      ],
      "execution_count": null,
      "outputs": [
        {
          "output_type": "stream",
          "text": [
            "['Sherry Crump', 'Michelle Goss', 'Maria Eversole']\n"
          ],
          "name": "stdout"
        }
      ]
    },
    {
      "cell_type": "code",
      "metadata": {
        "id": "m__lfmIfmE-z",
        "colab_type": "code",
        "colab": {}
      },
      "source": [
        "#Firstnames:\n",
        "names.get_first_name(gender=\"female\")"
      ],
      "execution_count": null,
      "outputs": []
    },
    {
      "cell_type": "code",
      "metadata": {
        "id": "heA0YPz6mH1Y",
        "colab_type": "code",
        "colab": {}
      },
      "source": [
        "#Lastnames:\n",
        "names.get_last_name()"
      ],
      "execution_count": null,
      "outputs": []
    },
    {
      "cell_type": "markdown",
      "metadata": {
        "id": "IeF1jjytmKr4",
        "colab_type": "text"
      },
      "source": [
        "### Manipulate strings in Python"
      ]
    },
    {
      "cell_type": "code",
      "metadata": {
        "id": "7ZjoIxf_mQqN",
        "colab_type": "code",
        "colab": {}
      },
      "source": [
        "#Trim leading and trailing whitespaces\n",
        "\"   this is a      test   \".strip()"
      ],
      "execution_count": null,
      "outputs": []
    },
    {
      "cell_type": "code",
      "metadata": {
        "id": "zECUjvSJmVtr",
        "colab_type": "code",
        "colab": {}
      },
      "source": [
        "#Pad strings with zeros to create strings of equal width\n",
        "ids = [1,12,123,1234]\n",
        "[str(item).zfill(4) for item in ids]"
      ],
      "execution_count": null,
      "outputs": []
    },
    {
      "cell_type": "code",
      "metadata": {
        "id": "7TJ6WCJ0mcVF",
        "colab_type": "code",
        "colab": {}
      },
      "source": [
        "#Search for strings in a vector\n",
        "friends = ['Nicholas', 'Thomas', 'Kayla']\n",
        "[\"Nicholas\" in item for item in friends]"
      ],
      "execution_count": null,
      "outputs": []
    },
    {
      "cell_type": "code",
      "metadata": {
        "id": "8yrimnMkmhRN",
        "colab_type": "code",
        "colab": {}
      },
      "source": [
        "#Observe, that list comprehension provides a vectorized output in contrast to:\n",
        "\"Nicholas\" in friends"
      ],
      "execution_count": null,
      "outputs": []
    },
    {
      "cell_type": "code",
      "metadata": {
        "id": "SIMoWwFAmkz9",
        "colab_type": "code",
        "colab": {}
      },
      "source": [
        "#Replace string in a vector\n",
        "[item.replace(\"Nicholas\", \"Nicki\") for item in friends]"
      ],
      "execution_count": null,
      "outputs": []
    },
    {
      "cell_type": "code",
      "metadata": {
        "id": "cXjhdpEImz3i",
        "colab_type": "code",
        "colab": {}
      },
      "source": [
        "#Transform strings to lower case\n",
        "[item.lower() for item in friends]"
      ],
      "execution_count": null,
      "outputs": []
    },
    {
      "cell_type": "code",
      "metadata": {
        "id": "bW0jnSwkm2I1",
        "colab_type": "code",
        "colab": {}
      },
      "source": [
        "#Transform strings to upper case\n",
        "[item.upper() for item in friends]"
      ],
      "execution_count": null,
      "outputs": []
    },
    {
      "cell_type": "markdown",
      "metadata": {
        "id": "ha59cv--m5tD",
        "colab_type": "text"
      },
      "source": [
        "### Advanced string manipulation:\u000bUse the split()-function"
      ]
    },
    {
      "cell_type": "code",
      "metadata": {
        "id": "aKHSXpg4m8Y5",
        "colab_type": "code",
        "colab": {}
      },
      "source": [
        "#Split strings\n",
        "firstname=randnames[0]\n",
        "print(firstname)\n",
        "print(firstname.split(\" \",1))\n",
        "print(firstname.split(\" \",1)[0])"
      ],
      "execution_count": null,
      "outputs": []
    },
    {
      "cell_type": "code",
      "metadata": {
        "id": "1w0AszoCnIdk",
        "colab_type": "code",
        "colab": {
          "base_uri": "https://localhost:8080/",
          "height": 50
        },
        "outputId": "ac9243f6-7409-42ee-d519-4cdf8cfc0037"
      },
      "source": [
        "#Split lists of strings\n",
        "print(randnames)\n",
        "print([i.split(\" \",1)[0] for i in randnames])"
      ],
      "execution_count": null,
      "outputs": [
        {
          "output_type": "stream",
          "text": [
            "['Sherry Crump', 'Michelle Goss', 'Maria Eversole']\n",
            "['Sherry', 'Michelle', 'Maria']\n"
          ],
          "name": "stdout"
        }
      ]
    },
    {
      "cell_type": "code",
      "metadata": {
        "id": "TrYg3rZ8nO54",
        "colab_type": "code",
        "colab": {}
      },
      "source": [
        "list(map(hash, CustData[\"CustId\"]))"
      ],
      "execution_count": null,
      "outputs": []
    },
    {
      "cell_type": "markdown",
      "metadata": {
        "id": "kmL4fPjTncBB",
        "colab_type": "text"
      },
      "source": [
        " ### Simulating variables by using distributions"
      ]
    },
    {
      "cell_type": "code",
      "metadata": {
        "id": "r9Q3FHsxniks",
        "colab_type": "code",
        "colab": {}
      },
      "source": [
        "#without replacement\n",
        "np.random.choice(10, size=5, replace=False)"
      ],
      "execution_count": null,
      "outputs": []
    },
    {
      "cell_type": "code",
      "metadata": {
        "id": "oK_SoeF9nmjP",
        "colab_type": "code",
        "colab": {}
      },
      "source": [
        "#with replacement\n",
        "np.random.choice(10, size=5, replace=True)"
      ],
      "execution_count": null,
      "outputs": []
    },
    {
      "cell_type": "markdown",
      "metadata": {
        "id": "CQxKuoiVnqTH",
        "colab_type": "text"
      },
      "source": [
        "### Continuous distribution simulation in Python"
      ]
    },
    {
      "cell_type": "code",
      "metadata": {
        "id": "Rp9IposW2aId",
        "colab_type": "code",
        "colab": {
          "base_uri": "https://localhost:8080/",
          "height": 212
        },
        "outputId": "7ec7b432-fa1a-4303-f638-07aa39512f84"
      },
      "source": [
        "!pip install numPy as np"
      ],
      "execution_count": null,
      "outputs": [
        {
          "output_type": "stream",
          "text": [
            "Requirement already satisfied: numPy in /usr/local/lib/python3.6/dist-packages (1.18.5)\n",
            "Collecting as\n",
            "  Downloading https://files.pythonhosted.org/packages/b4/08/226c133ec497d25a63edb38527c02db093c7d89e6d4cdc91078834486a5d/as-0.1-py3-none-any.whl\n",
            "Collecting np\n",
            "  Downloading https://files.pythonhosted.org/packages/40/7d/749666e5a9976dcbc4d16d487bbe571efc6bbf4cdf3f4620c0ccc52b57ef/np-1.0.2.tar.gz\n",
            "Building wheels for collected packages: np\n",
            "  Building wheel for np (setup.py) ... \u001b[?25l\u001b[?25hdone\n",
            "  Created wheel for np: filename=np-1.0.2-cp36-none-any.whl size=13651 sha256=5240de2ab6307b264050cc67308de7bb448fe7b5c4d1c0ec1d51ce35a2362be4\n",
            "  Stored in directory: /root/.cache/pip/wheels/2b/df/57/f40bef951382112d9c644b3ec6d713ceb200ea7c15c074de42\n",
            "Successfully built np\n",
            "Installing collected packages: as, np\n",
            "Successfully installed as-0.1 np-1.0.2\n"
          ],
          "name": "stdout"
        }
      ]
    },
    {
      "cell_type": "code",
      "metadata": {
        "id": "Badg6j0wnv_p",
        "colab_type": "code",
        "colab": {
          "base_uri": "https://localhost:8080/",
          "height": 1000
        },
        "outputId": "3ec8e4cf-18fd-4edc-9360-d77a596f598b"
      },
      "source": [
        "import np\n",
        "np.random.normal(loc=5.0, scale=1.0, size=500)"
      ],
      "execution_count": null,
      "outputs": [
        {
          "output_type": "execute_result",
          "data": {
            "text/plain": [
              "array([6.04297536, 7.07395408, 4.69580098, 5.43421797, 6.39496522,\n",
              "       6.39268743, 3.74997158, 4.53944517, 4.3970101 , 6.17751432,\n",
              "       5.99580521, 4.63511188, 4.94948915, 3.69650907, 5.9243775 ,\n",
              "       4.97628162, 6.03837698, 4.56080142, 5.26623331, 5.01317606,\n",
              "       4.37201424, 4.85243002, 5.27876242, 3.43460586, 4.95822319,\n",
              "       3.87013513, 4.30318461, 5.5395008 , 5.91255702, 4.37233638,\n",
              "       7.32112444, 5.83383471, 6.75550352, 3.91426246, 5.31482303,\n",
              "       5.30544653, 5.47234081, 2.68619597, 5.59293117, 7.28715499,\n",
              "       4.38638365, 4.01613721, 5.91066779, 4.50336894, 4.23156643,\n",
              "       4.38025046, 3.94400079, 3.70977355, 5.01093236, 4.88385394,\n",
              "       5.92530354, 4.72425234, 5.3185904 , 4.23883347, 4.19255844,\n",
              "       6.50065576, 7.08982592, 4.15278796, 5.87147086, 3.79176102,\n",
              "       4.12727254, 4.71524413, 6.66263289, 6.45275845, 5.59788287,\n",
              "       4.29790844, 4.46672663, 5.43205395, 2.7824892 , 3.6468022 ,\n",
              "       5.32257427, 5.53397957, 5.50051813, 4.29893003, 3.47103659,\n",
              "       5.15089463, 5.75989989, 4.2959527 , 4.29908929, 4.39392007,\n",
              "       5.37445799, 3.39193527, 5.68352675, 6.66922089, 5.49546407,\n",
              "       5.86144132, 5.82065779, 5.44595086, 4.08621391, 6.14579785,\n",
              "       4.7533258 , 5.48681767, 2.81546765, 6.21116699, 5.79856776,\n",
              "       5.78902697, 4.35658685, 5.34950097, 6.17077749, 5.81884219,\n",
              "       2.84395648, 6.34781568, 4.84331305, 5.85172331, 4.81520172,\n",
              "       6.51220243, 6.00754774, 6.44912952, 4.4773023 , 5.6094605 ,\n",
              "       5.6433071 , 6.37503645, 4.76289799, 4.56171068, 4.90635258,\n",
              "       3.71008354, 4.07504071, 5.85660697, 6.4283295 , 5.53197858,\n",
              "       4.72184706, 5.20783206, 5.21849276, 5.38382724, 5.10806821,\n",
              "       4.85106997, 6.48833749, 5.09628437, 5.30640268, 2.61210536,\n",
              "       4.05229408, 6.78958236, 6.1911382 , 2.69408548, 4.96359671,\n",
              "       4.52175684, 5.69563877, 4.42642413, 4.75383046, 4.02380005,\n",
              "       5.62619312, 3.44368557, 5.66120246, 5.11550437, 4.38052229,\n",
              "       4.90425083, 6.3952584 , 5.84352065, 4.64121421, 4.89241   ,\n",
              "       5.68110811, 4.85981288, 5.20925537, 6.44749695, 3.35993936,\n",
              "       3.99510974, 6.13448979, 3.21495612, 4.27690267, 4.41146186,\n",
              "       5.70319926, 5.09474799, 4.70246445, 4.32741244, 5.44308254,\n",
              "       6.33342882, 4.60068854, 5.1439898 , 6.70630796, 3.87405622,\n",
              "       4.40073511, 5.48829803, 6.08451325, 5.12623074, 6.66293204,\n",
              "       5.65153392, 4.67791214, 4.51959409, 5.89896537, 6.92517481,\n",
              "       5.58239966, 5.46869673, 5.20643928, 3.61289725, 4.84710477,\n",
              "       2.93352813, 5.50406967, 6.12381162, 6.15251716, 4.57664009,\n",
              "       4.33423772, 3.42766899, 5.144032  , 4.44460792, 5.9983712 ,\n",
              "       5.51947451, 4.58699815, 6.01856826, 4.33994409, 6.19573926,\n",
              "       5.78900584, 4.10028105, 6.44998701, 5.15106389, 3.92473619,\n",
              "       3.0863647 , 5.78985773, 5.84527732, 3.85685514, 5.89986892,\n",
              "       4.84249113, 3.17295216, 3.57729982, 5.99234034, 7.09566095,\n",
              "       4.92451912, 6.18641234, 5.05210343, 5.60860452, 5.86166162,\n",
              "       7.11167399, 4.05902792, 6.53695853, 4.33132708, 2.79938176,\n",
              "       5.11561628, 5.59736916, 4.97477222, 5.42378671, 4.91395729,\n",
              "       3.31535721, 3.14253539, 4.67349303, 5.50814957, 3.43506957,\n",
              "       2.94564674, 3.92123415, 4.25862036, 6.12296482, 6.29544053,\n",
              "       4.84159458, 4.88178107, 5.98830899, 4.95215364, 4.604059  ,\n",
              "       7.47828137, 5.50546291, 5.86231689, 6.02424929, 4.78909274,\n",
              "       5.79167851, 4.96425333, 5.89320314, 6.42061638, 6.18069497,\n",
              "       4.26723033, 3.3699432 , 3.95772109, 6.10973675, 4.22511379,\n",
              "       5.28162319, 5.61536452, 5.78477245, 4.40757673, 3.09194691,\n",
              "       5.6223908 , 6.08844939, 3.81522329, 5.41569947, 5.63858835,\n",
              "       5.37550923, 6.95301177, 5.55890149, 4.09148645, 3.69349805,\n",
              "       3.97033673, 4.54552999, 5.569877  , 6.00883059, 4.7691274 ,\n",
              "       3.78556305, 6.75003252, 7.74097023, 4.56473329, 6.03653779,\n",
              "       5.09263913, 4.39726107, 4.61113404, 3.80628789, 5.44816887,\n",
              "       2.81648931, 5.33127312, 4.04709413, 5.49226104, 5.27749407,\n",
              "       5.25182442, 5.6901658 , 5.75995944, 4.25211589, 4.49116089,\n",
              "       2.44191711, 6.29111855, 5.75346638, 2.93030372, 4.1191853 ,\n",
              "       3.76655309, 4.79462179, 5.58012974, 5.43006576, 4.57723817,\n",
              "       6.83117021, 5.23981011, 4.97073033, 5.2735374 , 5.39456048,\n",
              "       5.00412354, 6.16239923, 5.73402631, 4.69861394, 5.47021038,\n",
              "       4.2291547 , 5.1183073 , 4.5473066 , 5.16715601, 3.64916482,\n",
              "       4.58910925, 5.0945334 , 3.5723329 , 4.51558087, 4.64674737,\n",
              "       3.41124547, 5.86593434, 5.6541464 , 5.26517658, 4.72781444,\n",
              "       4.09094367, 5.48135847, 3.28025701, 5.49323289, 6.79215183,\n",
              "       4.03774918, 4.36585133, 5.1212621 , 4.80003255, 4.0641274 ,\n",
              "       4.51282501, 3.86964223, 6.52424844, 5.81641241, 3.26201726,\n",
              "       5.24750753, 7.77202213, 5.74384815, 3.9608272 , 5.66898265,\n",
              "       4.67846289, 4.78208236, 4.34636443, 5.23141627, 6.00767289,\n",
              "       6.17155913, 4.8831004 , 4.13680479, 4.24937466, 5.77120547,\n",
              "       2.90173052, 6.03419223, 5.09192331, 5.23129768, 4.03249399,\n",
              "       5.15309787, 5.58989919, 4.6765799 , 3.82798447, 3.80188375,\n",
              "       6.2240681 , 5.72614546, 4.28799376, 5.65359599, 5.20208152,\n",
              "       5.82776134, 5.60181748, 5.67172198, 5.27737741, 4.25168738,\n",
              "       2.40900654, 3.90925023, 4.00510675, 5.85250505, 3.22080631,\n",
              "       4.84804177, 3.36611608, 3.56511631, 7.76665857, 3.68050393,\n",
              "       6.51804646, 3.83650418, 5.51550957, 6.9402182 , 4.02605572,\n",
              "       5.83506348, 4.92978443, 6.41210923, 4.19114375, 5.50213445,\n",
              "       3.19797962, 5.3260382 , 4.60206779, 5.99428021, 4.11116984,\n",
              "       2.46068939, 7.47891699, 4.04041173, 4.97901692, 4.02439841,\n",
              "       5.68190056, 5.62759918, 4.88159737, 5.47021082, 4.16465759,\n",
              "       5.15979756, 4.13418819, 6.07561352, 4.1892893 , 5.63355074,\n",
              "       4.04670291, 4.10224017, 5.57166333, 4.06549474, 6.41873496,\n",
              "       3.47923058, 3.4825202 , 5.28995812, 5.36234137, 4.59958035,\n",
              "       6.29192292, 4.9225101 , 6.69962121, 5.62266967, 4.15495523,\n",
              "       5.50881302, 4.91593211, 4.24935878, 4.69955809, 4.19669735,\n",
              "       3.50779096, 3.81508589, 8.11362399, 6.25622878, 4.61007457,\n",
              "       6.26934159, 5.15834662, 3.95327224, 5.01648222, 3.77568513,\n",
              "       5.65217613, 4.08303391, 6.60224813, 6.2565293 , 6.10447222,\n",
              "       6.06164279, 3.54401921, 4.20369224, 3.07990958, 4.51592618,\n",
              "       4.45768326, 5.22746911, 4.81329607, 6.0675904 , 4.86033552,\n",
              "       5.12557168, 5.28179968, 5.06062652, 3.40834674, 7.59540775,\n",
              "       4.8652006 , 6.3260254 , 4.31829101, 5.157634  , 5.6383193 ,\n",
              "       6.24522989, 6.26819638, 6.16641822, 4.36273085, 5.75022085,\n",
              "       5.38578477, 4.10071778, 4.89332013, 4.1759079 , 5.17944752,\n",
              "       3.78383997, 3.78825121, 5.95786373, 5.22557786, 5.77960845,\n",
              "       7.44125237, 4.81582853, 5.69959313, 4.96690353, 6.6056246 ])"
            ]
          },
          "metadata": {
            "tags": []
          },
          "execution_count": 22
        }
      ]
    },
    {
      "cell_type": "markdown",
      "metadata": {
        "id": "jnXv4N7Qnzzp",
        "colab_type": "text"
      },
      "source": [
        "### Setting seeds to recreate the same numbers"
      ]
    },
    {
      "cell_type": "code",
      "metadata": {
        "id": "Y5sj5_h-n2qi",
        "colab_type": "code",
        "colab": {}
      },
      "source": [
        "print(np.random.normal(size=5))\n",
        "print(np.random.normal(size=5))"
      ],
      "execution_count": null,
      "outputs": []
    },
    {
      "cell_type": "code",
      "metadata": {
        "id": "r2lrW1VKn7W7",
        "colab_type": "code",
        "colab": {}
      },
      "source": [
        "#with seed\n",
        "np.random.seed(1)\n",
        "print(np.random.normal(size=5))\n",
        "\n",
        "np.random.seed(1)\n",
        "print(np.random.normal(size=5))\n",
        "#Caution: you have to set the seed everytime (!)"
      ],
      "execution_count": null,
      "outputs": []
    },
    {
      "cell_type": "markdown",
      "metadata": {
        "id": "aOhQQ6U5oM_Q",
        "colab_type": "text"
      },
      "source": [
        "### Simulating Exercise"
      ]
    },
    {
      "cell_type": "markdown",
      "metadata": {
        "id": "ftlxgTndoRSv",
        "colab_type": "text"
      },
      "source": [
        "Preparation"
      ]
    },
    {
      "cell_type": "code",
      "metadata": {
        "id": "vEvBNTuooTXH",
        "colab_type": "code",
        "colab": {}
      },
      "source": [
        "#load the numpy package\n",
        "import numpy as np\n",
        "#load the Pandas package\n",
        "import pandas as pd\n",
        "#load the itertools package\n",
        "import itertools\n",
        "#install names package\n",
        "!pip install names\n",
        "\n",
        "#Read the csv file and store it in the variable \"myData\". Note: this file is hostes in a GitHub repository.\n",
        "myData=pd.read_csv(filepath_or_buffer=\"https://raw.githubusercontent.com/bachmannpatrick/Python-Class/master/data/transactions.csv\", sep=\",\")\n",
        "#Adjust the format of column \"TransDate\" to datetime\n",
        "myData[\"TransDate\"]  = pd.to_datetime(myData[\"TransDate\"], dayfirst=True)\n",
        "\n",
        "#Read the demographics csv file and store it in the variable \"CustData\". Note: this file is hostes in a GitHub repos\n",
        "CustData=pd.read_csv(\"https://raw.githubusercontent.com/bachmannpatrick/Python-Class/master/data/demographics.csv\", sep=\",\")\n",
        "# Adjust the format of column \"Birthdate\" to datetime\n",
        "CustData[\"Birthdate\"]  = pd.to_datetime(CustData[\"Birthdate\"], dayfirst=True)\n",
        "CustData[\"JoinDate\"]  = pd.to_datetime(CustData[\"JoinDate\"], dayfirst=True)"
      ],
      "execution_count": null,
      "outputs": []
    },
    {
      "cell_type": "markdown",
      "metadata": {
        "id": "dYy8tKXBoVjp",
        "colab_type": "text"
      },
      "source": [
        "### Creating sequences automatically"
      ]
    },
    {
      "cell_type": "markdown",
      "metadata": {
        "id": "4y1geNeToYdH",
        "colab_type": "text"
      },
      "source": [
        "Simulate a dataset with 100 customers. The ID column should include customer IDs from a1 to a100. Further, this dataset should include a second column indicating the months of 2016 for every customer. Months should be of the format \"2016-01-01\"(\"YYYY-MM-DD\"). The final table should have one record per customer per month."
      ]
    },
    {
      "cell_type": "code",
      "metadata": {
        "id": "IP1QCChLofiN",
        "colab_type": "code",
        "colab": {}
      },
      "source": [
        "n_cust=100\n",
        "CustData=pd.DataFrame({\"CustId\":range(1,n_cust+1)})"
      ],
      "execution_count": null,
      "outputs": []
    },
    {
      "cell_type": "code",
      "metadata": {
        "id": "e8-TrsOBooKg",
        "colab_type": "code",
        "colab": {}
      },
      "source": [
        "CustData[\"CustId\"] = \"a\" + CustData[\"CustId\"].astype(str)\n",
        "CustData.head(n=3)"
      ],
      "execution_count": null,
      "outputs": []
    },
    {
      "cell_type": "code",
      "metadata": {
        "id": "2SuvLGVNozpY",
        "colab_type": "code",
        "colab": {}
      },
      "source": [
        "import itertools\n",
        "monthly_dates=pd.date_range(start='1/1/2016',end='12/31/2016', freq=\"MS\")\n",
        "CustData=pd.DataFrame((list(itertools.product(CustData[\"CustId\"], monthly_dates))))\n",
        "CustData.head()"
      ],
      "execution_count": null,
      "outputs": []
    },
    {
      "cell_type": "code",
      "metadata": {
        "id": "d9VNSiTTo6nq",
        "colab_type": "code",
        "colab": {}
      },
      "source": [
        "import itertools\n",
        "CustData.columns = [\"CustId\", \"Months\"]\n",
        "CustData.head()"
      ],
      "execution_count": null,
      "outputs": []
    },
    {
      "cell_type": "markdown",
      "metadata": {
        "id": "-ZAMeO2wpy2v",
        "colab_type": "text"
      },
      "source": [
        "### Simulating and manipulating strings"
      ]
    },
    {
      "cell_type": "markdown",
      "metadata": {
        "id": "LUWYlvAZp4M9",
        "colab_type": "text"
      },
      "source": [
        "Generate a) a female full name b) a male first name."
      ]
    },
    {
      "cell_type": "code",
      "metadata": {
        "id": "-w3RIq28p0RT",
        "colab_type": "code",
        "colab": {}
      },
      "source": [
        "#a)\n",
        "names.get_full_name(gender=\"female\")"
      ],
      "execution_count": null,
      "outputs": []
    },
    {
      "cell_type": "code",
      "metadata": {
        "id": "kx4IzpISp-EA",
        "colab_type": "code",
        "colab": {}
      },
      "source": [
        "#b)\n",
        "names.get_first_name(gender=\"male\")"
      ],
      "execution_count": null,
      "outputs": []
    },
    {
      "cell_type": "code",
      "metadata": {
        "id": "e0tZhIQfp_hc",
        "colab_type": "code",
        "colab": {}
      },
      "source": [
        "#c)\n",
        "names.get_last_name()"
      ],
      "execution_count": null,
      "outputs": []
    },
    {
      "cell_type": "markdown",
      "metadata": {
        "id": "__MjU4VFt-8P",
        "colab_type": "text"
      },
      "source": [
        "## Unit 7 \"Conditional statements & loops\""
      ]
    },
    {
      "cell_type": "markdown",
      "metadata": {
        "id": "5SshnYku-em4",
        "colab_type": "text"
      },
      "source": [
        "## If else statements"
      ]
    },
    {
      "cell_type": "code",
      "metadata": {
        "id": "WA0DgxS-FjtS",
        "colab_type": "code",
        "colab": {}
      },
      "source": [
        "#Be aware of the extra indent for the code that follows after the if statement. \n",
        "x= -3\n",
        "if x<0:\n",
        "  print(\"x is a negative number\")"
      ],
      "execution_count": null,
      "outputs": []
    },
    {
      "cell_type": "markdown",
      "metadata": {
        "id": "BOusRnPIGB4X",
        "colab_type": "text"
      },
      "source": [
        "### else statement: Only execute some code if a condition is not met"
      ]
    },
    {
      "cell_type": "code",
      "metadata": {
        "id": "W99GgQyIGDbA",
        "colab_type": "code",
        "colab": {
          "base_uri": "https://localhost:8080/",
          "height": 33
        },
        "outputId": "243ed226-afba-4962-9741-7e0f84f87b94"
      },
      "source": [
        "x = -3\n",
        "if x < 0:\n",
        "   print(\"x is a negative number\")\n",
        "else:\n",
        "\tprint(\"x is either a positive number or zero\")"
      ],
      "execution_count": null,
      "outputs": [
        {
          "output_type": "stream",
          "text": [
            "x is a negative number\n"
          ],
          "name": "stdout"
        }
      ]
    },
    {
      "cell_type": "markdown",
      "metadata": {
        "id": "Js31JFziGRzJ",
        "colab_type": "text"
      },
      "source": [
        "### else if statement: Add an other case"
      ]
    },
    {
      "cell_type": "code",
      "metadata": {
        "id": "MZqj_A0LGTOb",
        "colab_type": "code",
        "colab": {
          "base_uri": "https://localhost:8080/",
          "height": 33
        },
        "outputId": "0baea31c-4769-4df1-f2ce-4fd8aae117cf"
      },
      "source": [
        "x = -3\n",
        "if x < 0:\n",
        "   print(\"x is a negative number\")\n",
        "elif x==0:\n",
        "\tprint(\"x is zero\")\n",
        "else: \n",
        "\tprint(\"x is a positive number\")"
      ],
      "execution_count": null,
      "outputs": [
        {
          "output_type": "stream",
          "text": [
            "x is a negative number\n"
          ],
          "name": "stdout"
        }
      ]
    },
    {
      "cell_type": "code",
      "metadata": {
        "id": "1Ttmh9bxuVge",
        "colab_type": "code",
        "colab": {}
      },
      "source": [
        "### 7-2 Basic looping techniques"
      ],
      "execution_count": null,
      "outputs": []
    },
    {
      "cell_type": "markdown",
      "metadata": {
        "id": "hWU-e06S-lC6",
        "colab_type": "text"
      },
      "source": [
        "### while loop: Only execute some code if a condition is met"
      ]
    },
    {
      "cell_type": "code",
      "metadata": {
        "id": "o0Lr-9Y3urIB",
        "colab_type": "code",
        "colab": {}
      },
      "source": [
        "x = 1\n",
        "while x <= 7:\n",
        "    print(\"x is set to \" + str(x))\n",
        "    x = x + 1"
      ],
      "execution_count": null,
      "outputs": []
    },
    {
      "cell_type": "markdown",
      "metadata": {
        "id": "DgOJc6-ru3cA",
        "colab_type": "text"
      },
      "source": [
        "convert numerical values into strings and use \"+\" to combine characters and string"
      ]
    },
    {
      "cell_type": "code",
      "metadata": {
        "id": "k9d7b2Tiu4O0",
        "colab_type": "code",
        "colab": {}
      },
      "source": [
        "x=0.52\n",
        "print(\"The proportion of men is \" + str(x) + \" %.\")"
      ],
      "execution_count": null,
      "outputs": []
    },
    {
      "cell_type": "markdown",
      "metadata": {
        "id": "hn1bkFPD2b9m",
        "colab_type": "text"
      },
      "source": [
        "### for loop: Repeat something as it belongs to a sequence"
      ]
    },
    {
      "cell_type": "code",
      "metadata": {
        "id": "rdSb6n9t2eYW",
        "colab_type": "code",
        "colab": {}
      },
      "source": [
        "cities = [\"New York\", \"Paris\", \"London\", \"Tokyo\", \"Cape Town\"]\n",
        "for city in cities:\n",
        "  print(city)"
      ],
      "execution_count": null,
      "outputs": []
    },
    {
      "cell_type": "markdown",
      "metadata": {
        "id": "wDoI_mO22h4Z",
        "colab_type": "text"
      },
      "source": [
        "### for loop: Take a break"
      ]
    },
    {
      "cell_type": "code",
      "metadata": {
        "id": "Ax1kA_3G2klE",
        "colab_type": "code",
        "colab": {}
      },
      "source": [
        "cities = [\"New York\", \"Paris\", \"London\", \"Tokyo\", \"Cape Town\"]\n",
        "for city in cities:\n",
        "    if city ==\"London\":\n",
        "        break\n",
        "    print(city)"
      ],
      "execution_count": null,
      "outputs": []
    },
    {
      "cell_type": "markdown",
      "metadata": {
        "id": "MkKOnmMk2nKn",
        "colab_type": "text"
      },
      "source": [
        "### for loop: Skip with continue"
      ]
    },
    {
      "cell_type": "code",
      "metadata": {
        "id": "YOHSEs9w2p0L",
        "colab_type": "code",
        "colab": {}
      },
      "source": [
        "cities = [\"New York\", \"Paris\", \"London\", \"Tokyo\", \"Cape Town\"]\n",
        "for city in cities:\n",
        "    if city ==\"London\":\n",
        "        continue\n",
        "    print(city)"
      ],
      "execution_count": null,
      "outputs": []
    },
    {
      "cell_type": "markdown",
      "metadata": {
        "id": "_vP3eTCa2vJ3",
        "colab_type": "text"
      },
      "source": [
        " ## for loop: Loop over numeric indices"
      ]
    },
    {
      "cell_type": "code",
      "metadata": {
        "id": "_-S-Jd6j2xpO",
        "colab_type": "code",
        "colab": {}
      },
      "source": [
        "cities = [\"New York\", \"Paris\", \"London\", \"Tokyo\", \"Cape Town\"]\n",
        "for i in range(len(cities)):\n",
        "    print(cities[i])"
      ],
      "execution_count": null,
      "outputs": []
    },
    {
      "cell_type": "markdown",
      "metadata": {
        "id": "sILpYEC927k3",
        "colab_type": "text"
      },
      "source": [
        "### 7-3 - Advanced looping techniques"
      ]
    },
    {
      "cell_type": "markdown",
      "metadata": {
        "id": "VLEKj7fq3A9g",
        "colab_type": "text"
      },
      "source": [
        "### Store results of a loop in a list"
      ]
    },
    {
      "cell_type": "code",
      "metadata": {
        "id": "0Oyo7Z5H3D7n",
        "colab_type": "code",
        "colab": {}
      },
      "source": [
        "cities = [\"New York\", \"Paris\", \"London\", \"Tokyo\", \"Cape Town\"]\n",
        "wordLength=[]\n",
        "for i in range(len(cities)):\n",
        "     wordLength.append(len(cities[i])) #append adds a passed object to a vector \n",
        "print(wordLength)"
      ],
      "execution_count": null,
      "outputs": []
    },
    {
      "cell_type": "markdown",
      "metadata": {
        "id": "bvJj4G7H3H32",
        "colab_type": "text"
      },
      "source": [
        "### Substitute loops with the map()-function"
      ]
    },
    {
      "cell_type": "code",
      "metadata": {
        "id": "a75gkJM23MiV",
        "colab_type": "code",
        "colab": {}
      },
      "source": [
        "cities = [\"New York\", \"Paris\", \"London\", \"Tokyo\", \"Cape Town\"]\n",
        "list(map(len,cities))"
      ],
      "execution_count": null,
      "outputs": []
    },
    {
      "cell_type": "markdown",
      "metadata": {
        "id": "PU0ICLBL3xnF",
        "colab_type": "text"
      },
      "source": [
        "### Substitute loops with vectorization"
      ]
    },
    {
      "cell_type": "markdown",
      "metadata": {
        "id": "Rp5s2W1j30ll",
        "colab_type": "text"
      },
      "source": [
        "#load the numpy package\n",
        "import numpy as np\n",
        "\n",
        "a=[1,2,3]\n",
        "a+a\n",
        "a*10\n",
        "#%%\n",
        "a=np.array([1,2,3])\n",
        "a+a"
      ]
    },
    {
      "cell_type": "markdown",
      "metadata": {
        "id": "fLqSZ91s4PNR",
        "colab_type": "text"
      },
      "source": [
        "## Unit7 Exercises"
      ]
    },
    {
      "cell_type": "markdown",
      "metadata": {
        "id": "gS_-ynY25d-b",
        "colab_type": "text"
      },
      "source": [
        "Preparation"
      ]
    },
    {
      "cell_type": "code",
      "metadata": {
        "id": "GKsEcK5H5bZc",
        "colab_type": "code",
        "colab": {}
      },
      "source": [
        "#load the numpy package\n",
        "import numpy as np\n",
        "#load the Pandas package\n",
        "import pandas as pd\n",
        "#Read the csv file and store it in the variable \"myData\". Note: this file is hostes in a GitHub repository.\n",
        "myData=pd.read_csv(filepath_or_buffer=\"https://raw.githubusercontent.com/bachmannpatrick/Python-Class/master/data/transactions.csv\", sep=\",\")\n",
        "#Adjust the format of column \"TransDate\" to datetime\n",
        "myData[\"TransDate\"]  = pd.to_datetime(myData[\"TransDate\"], dayfirst=True)\n",
        "\n",
        "#Read the demographics csv file and store it in the variable \"CustData\". Note: this file is hostes in a GitHub repos\n",
        "CustData=pd.read_csv(\"https://raw.githubusercontent.com/bachmannpatrick/Python-Class/master/data/demographics.csv\", sep=\",\")\n",
        "# Adjust the format of column \"Birthdate\" to datetime\n",
        "CustData[\"Birthdate\"]  = pd.to_datetime(CustData[\"Birthdate\"], dayfirst=True)\n",
        "CustData[\"JoinDate\"]  = pd.to_datetime(CustData[\"JoinDate\"], dayfirst=True) "
      ],
      "execution_count": null,
      "outputs": []
    },
    {
      "cell_type": "markdown",
      "metadata": {
        "id": "u5P5qtLS4aV7",
        "colab_type": "text"
      },
      "source": [
        "###7-1 - If else statements"
      ]
    },
    {
      "cell_type": "markdown",
      "metadata": {
        "id": "o7D5R2Wk4Xos",
        "colab_type": "text"
      },
      "source": [
        "Write an if-statement that prints \"x is a character\" if the variable x is a character and \"x is a postive integer\" if x is a positiv interger. Hint: use the commands .isalpha() and is.digit()."
      ]
    },
    {
      "cell_type": "code",
      "metadata": {
        "id": "-Uy4fI-x42iD",
        "colab_type": "code",
        "colab": {}
      },
      "source": [
        "x= \"a\"\n",
        "if x.isalpha():\n",
        "  print(\"x is a character\")\n",
        "elif x.isdigit():\n",
        "  print(\"x is a postive intger\")"
      ],
      "execution_count": null,
      "outputs": []
    },
    {
      "cell_type": "markdown",
      "metadata": {
        "id": "m6qC1ZbU44hQ",
        "colab_type": "text"
      },
      "source": [
        "###7-2 - Basic loop techniques"
      ]
    },
    {
      "cell_type": "markdown",
      "metadata": {
        "id": "U5W2Y24e46xx",
        "colab_type": "text"
      },
      "source": [
        "Create a loop that prints a countdown from 10 by a) using a for-loop, and b) using a while-loop."
      ]
    },
    {
      "cell_type": "code",
      "metadata": {
        "id": "tr_yX-Us491V",
        "colab_type": "code",
        "colab": {}
      },
      "source": [
        "#a)\n",
        "for i in reversed(range(0,11)):\n",
        "    print(i)"
      ],
      "execution_count": null,
      "outputs": []
    },
    {
      "cell_type": "code",
      "metadata": {
        "id": "xwBsAoEl5Arr",
        "colab_type": "code",
        "colab": {}
      },
      "source": [
        "#a) Alternative\n",
        "for i in range(10,0,-1):\n",
        "    print(i)"
      ],
      "execution_count": null,
      "outputs": []
    },
    {
      "cell_type": "code",
      "metadata": {
        "id": "SOk8-owc5EYQ",
        "colab_type": "code",
        "colab": {}
      },
      "source": [
        "#b)\n",
        "i = 10\n",
        "while i >=0:\n",
        "    print(i)\n",
        "    i =i-1"
      ],
      "execution_count": null,
      "outputs": []
    },
    {
      "cell_type": "markdown",
      "metadata": {
        "id": "AEfd5IqP5MB7",
        "colab_type": "text"
      },
      "source": [
        "### Use the myData DataFrame. Use a loop to go over all transactions and sum up the transaction's purchase amount one by one. Stop as soon as you reach a purchase amount of 1 million. At which date did the store reach this mark?"
      ]
    },
    {
      "cell_type": "code",
      "metadata": {
        "id": "-rbjfW1Z5P1z",
        "colab_type": "code",
        "colab": {
          "base_uri": "https://localhost:8080/",
          "height": 245
        },
        "outputId": "09de5f15-0437-4515-9cb5-1b28aedb792b"
      },
      "source": [
        "#make sure the data is sorted corectly\n",
        "myData=myData.sort_values(\"TransDate\")\n",
        "print(myData)"
      ],
      "execution_count": null,
      "outputs": [
        {
          "output_type": "stream",
          "text": [
            "        Customer  TransDate  Quantity  PurchAmount   Cost    TransID\n",
            "30414     144488 2004-12-16         1        24.95  11.25  127833616\n",
            "13430     144484 2004-12-16         1        99.95  38.89  127833544\n",
            "30410     144488 2004-12-16         1         9.95   4.50  127833616\n",
            "11237     144478 2004-12-16         1        59.95  24.50  127833251\n",
            "2023      148475 2004-12-16         1        49.95  22.50  129864383\n",
            "...          ...        ...       ...          ...    ...        ...\n",
            "223045    186284 2012-12-09         1        29.95  10.40  129591908\n",
            "223044    186284 2012-12-09         1        59.95  30.00  129591908\n",
            "220233    199516 2012-12-09         1        59.95  25.00  131970040\n",
            "223053    186289 2012-12-09         1        69.95  29.70  129592368\n",
            "223069    186297 2012-12-09         1        14.95   5.48  129592754\n",
            "\n",
            "[223191 rows x 6 columns]\n"
          ],
          "name": "stdout"
        }
      ]
    },
    {
      "cell_type": "code",
      "metadata": {
        "id": "PEWy0lNq5sE7",
        "colab_type": "code",
        "colab": {
          "base_uri": "https://localhost:8080/",
          "height": 245
        },
        "outputId": "6b2ef588-84e4-4952-c42a-784c05fe3952"
      },
      "source": [
        "#descending way \n",
        "myData=myData.sort_values(\"TransDate\", ascending=False)\n",
        "print(myData)"
      ],
      "execution_count": null,
      "outputs": [
        {
          "output_type": "stream",
          "text": [
            "        Customer  TransDate  Quantity  PurchAmount   Cost    TransID\n",
            "223069    186297 2012-12-09         1        14.95   5.48  129592754\n",
            "223047    186285 2012-12-09         1       129.95  42.78  129592133\n",
            "101290    121226 2012-12-09         1        19.95   9.50  131969793\n",
            "223053    186289 2012-12-09         1        69.95  29.70  129592368\n",
            "220233    199516 2012-12-09         1        59.95  25.00  131970040\n",
            "...          ...        ...       ...          ...    ...        ...\n",
            "30417     144488 2004-12-16         1        14.95   4.80  127834194\n",
            "30416     144488 2004-12-16         1        14.95   4.80  127834194\n",
            "11237     144478 2004-12-16         1        59.95  24.50  127833251\n",
            "30410     144488 2004-12-16         1         9.95   4.50  127833616\n",
            "30414     144488 2004-12-16         1        24.95  11.25  127833616\n",
            "\n",
            "[223191 rows x 6 columns]\n"
          ],
          "name": "stdout"
        }
      ]
    },
    {
      "cell_type": "code",
      "metadata": {
        "id": "ryfdvQnL5VKF",
        "colab_type": "code",
        "colab": {}
      },
      "source": [
        "spending = 0\n",
        "i = 0\n",
        "while spending<1000000:\n",
        "    spending = spending + myData.loc[i, \"PurchAmount\"]\n",
        "    i = i+1\n",
        "print(\"Transaction number when sum of total spending > 1.000.000 is: \" + str(i) + \". The corresponding Transaction Date is: \" + str(myData.loc[i-1, \"TransDate\"]))"
      ],
      "execution_count": null,
      "outputs": []
    },
    {
      "cell_type": "markdown",
      "metadata": {
        "id": "tLuyZvHv59qC",
        "colab_type": "text"
      },
      "source": [
        "### 7-3 - Advanced looping techniques"
      ]
    },
    {
      "cell_type": "markdown",
      "metadata": {
        "id": "9PQEPyK86Bmt",
        "colab_type": "text"
      },
      "source": [
        "Use a for loop to sum the first 10.000 transactions. Then use the vectorized np.sum() command to do the same. Compare the time used by both methods. Hint: Use time.time() of the time-module to obtain the current time as a floating point number expressed in seconds since the epoch before and after running your code of interest."
      ]
    },
    {
      "cell_type": "code",
      "metadata": {
        "id": "OiGBCPAt57uf",
        "colab_type": "code",
        "colab": {}
      },
      "source": [
        "import time\n",
        "# for loop\n",
        "spending = 0\n",
        "t0 = time.time()\n",
        "for i in range(10000):\n",
        "    spending=spending+myData.loc[i, \"PurchAmount\"]\n",
        "t1 = time.time()\n",
        "t_for_loop=t1-t0"
      ],
      "execution_count": null,
      "outputs": []
    },
    {
      "cell_type": "code",
      "metadata": {
        "id": "j6fUuj7k6HCn",
        "colab_type": "code",
        "colab": {}
      },
      "source": [
        "# np.sum\n",
        "spending = 0\n",
        "t0 = time.time()\n",
        "spending=np.sum(myData.loc[range(10000), \"PurchAmount\"])\n",
        "t1 = time.time()"
      ],
      "execution_count": null,
      "outputs": []
    },
    {
      "cell_type": "code",
      "metadata": {
        "id": "MUKjYpN96I7u",
        "colab_type": "code",
        "colab": {}
      },
      "source": [
        "# Compare performance\n",
        "if t_npsum<=t_for_loop:\n",
        "    print(\"np.sum is \"+ str(round(t_for_loop-t_npsum,3))+ \" seconds faster\");\n",
        "else:\n",
        "    print(\"np.sum is \"+ str(round(t_npsum-t_for_loop, 3))+ \" seconds slower\");"
      ],
      "execution_count": null,
      "outputs": []
    },
    {
      "cell_type": "markdown",
      "metadata": {
        "id": "414CO4Tl6T6O",
        "colab_type": "text"
      },
      "source": [
        "## Unit *8* \"Automate routines with functions\""
      ]
    },
    {
      "cell_type": "markdown",
      "metadata": {
        "id": "NB2ASxp06bZJ",
        "colab_type": "text"
      },
      "source": [
        "Preparation"
      ]
    },
    {
      "cell_type": "code",
      "metadata": {
        "id": "0LA4HR7G6XDl",
        "colab_type": "code",
        "colab": {}
      },
      "source": [
        "#load the Pandas package\n",
        "import pandas as pd\n",
        "#load the numpy package\n",
        "import numpy as np\n",
        "\n",
        "#Read the csv file and store it in the variable \"myData\". Note: this file is hostes in a GitHub repository.\n",
        "myData=pd.read_csv(filepath_or_buffer=\"https://raw.githubusercontent.com/bachmannpatrick/Python-Class/master/data/transactions.csv\", sep=\",\")\n",
        "#Adjust the format of column \"TransDate\" to datetime\n",
        "myData[\"TransDate\"]  = pd.to_datetime(myData[\"TransDate\"], dayfirst=True)"
      ],
      "execution_count": null,
      "outputs": []
    },
    {
      "cell_type": "markdown",
      "metadata": {
        "id": "1qmEw8me6elA",
        "colab_type": "text"
      },
      "source": [
        "## 8-1 - Basic techniques for creating functions"
      ]
    },
    {
      "cell_type": "markdown",
      "metadata": {
        "id": "WiXrJWhu6ieB",
        "colab_type": "text"
      },
      "source": [
        "A simple example: \u000bCreating a function to add two variables"
      ]
    },
    {
      "cell_type": "code",
      "metadata": {
        "id": "3_H02Y476l3k",
        "colab_type": "code",
        "colab": {}
      },
      "source": [
        "#define the function\n",
        "def add(x,y=1):\n",
        "    result=x+y\n",
        "    return result\n",
        "#not output expected!"
      ],
      "execution_count": null,
      "outputs": []
    },
    {
      "cell_type": "code",
      "metadata": {
        "id": "ovxNgOwK6oN4",
        "colab_type": "code",
        "colab": {}
      },
      "source": [
        "add(4)"
      ],
      "execution_count": null,
      "outputs": []
    },
    {
      "cell_type": "code",
      "metadata": {
        "id": "KscGK6-o6p0s",
        "colab_type": "code",
        "colab": {}
      },
      "source": [
        "#call the function\n",
        "add(4,5)"
      ],
      "execution_count": null,
      "outputs": []
    },
    {
      "cell_type": "markdown",
      "metadata": {
        "id": "W9cpgp2S6sj0",
        "colab_type": "text"
      },
      "source": [
        "## 8-2 - How to write a function"
      ]
    },
    {
      "cell_type": "markdown",
      "metadata": {
        "id": "Vmqx7_Si6vrh",
        "colab_type": "text"
      },
      "source": [
        "Start with a simple problem - Use toy data"
      ]
    },
    {
      "cell_type": "code",
      "metadata": {
        "id": "hN_ecAX-6xxs",
        "colab_type": "code",
        "colab": {}
      },
      "source": [
        "import pandas as pd\n",
        "\n",
        "d = {'PurchAmount': range(3,8), 'Cost': range(1,6)}\n",
        "df = pd.DataFrame(data=d)\n",
        "print(df)"
      ],
      "execution_count": null,
      "outputs": []
    },
    {
      "cell_type": "markdown",
      "metadata": {
        "id": "r58r-b5G65kE",
        "colab_type": "text"
      },
      "source": [
        "Get some working code"
      ]
    },
    {
      "cell_type": "code",
      "metadata": {
        "id": "guM9F9Gb63nR",
        "colab_type": "code",
        "colab": {}
      },
      "source": [
        "(sum(df[\"PurchAmount\"]) - sum(df[\"Cost\"]))/sum(df[\"PurchAmount\"]) * 100"
      ],
      "execution_count": null,
      "outputs": []
    },
    {
      "cell_type": "markdown",
      "metadata": {
        "id": "2N5Ui_sA6_R7",
        "colab_type": "text"
      },
      "source": [
        "Rewrite the code using temporary variables"
      ]
    },
    {
      "cell_type": "code",
      "metadata": {
        "id": "yaep99127BgM",
        "colab_type": "code",
        "colab": {}
      },
      "source": [
        "x = df\n",
        "r = \"PurchAmount\"\n",
        "c = \"Cost\"\n",
        "\n",
        "(sum(x[r]) - sum(x[c])) / sum(x[r]) * 100\n"
      ],
      "execution_count": null,
      "outputs": []
    },
    {
      "cell_type": "markdown",
      "metadata": {
        "id": "phiuMG6_7D6v",
        "colab_type": "text"
      },
      "source": [
        "###Turn your code into a function"
      ]
    },
    {
      "cell_type": "code",
      "metadata": {
        "id": "3XMDGPdK7F5v",
        "colab_type": "code",
        "colab": {}
      },
      "source": [
        "def ROI(x,r,c):\n",
        "  roi = (sum(x[r]) - sum(x[c])) / sum(x[r]) * 100\n",
        "  return roi"
      ],
      "execution_count": null,
      "outputs": []
    },
    {
      "cell_type": "code",
      "metadata": {
        "id": "h9TA6SLU7H-z",
        "colab_type": "code",
        "colab": {}
      },
      "source": [
        "ROI(df, \"PurchAmount\", \"Cost\")"
      ],
      "execution_count": null,
      "outputs": []
    },
    {
      "cell_type": "markdown",
      "metadata": {
        "id": "IDHeaFQb7JxM",
        "colab_type": "text"
      },
      "source": [
        "### Apply your function"
      ]
    },
    {
      "cell_type": "code",
      "metadata": {
        "id": "LBjbwfB47OIb",
        "colab_type": "code",
        "colab": {
          "base_uri": "https://localhost:8080/",
          "height": 33
        },
        "outputId": "e45691b0-8632-4673-e955-6bb2d6533825"
      },
      "source": [
        "ROI_1 = ROI(myData,\"PurchAmount\",\"Cost\")\n",
        "print(ROI_1)"
      ],
      "execution_count": null,
      "outputs": [
        {
          "output_type": "stream",
          "text": [
            "53.646440903210326\n"
          ],
          "name": "stdout"
        }
      ]
    },
    {
      "cell_type": "markdown",
      "metadata": {
        "id": "GZoYrTsz7UuX",
        "colab_type": "text"
      },
      "source": [
        "##8-3 - Advanced techniques for creating functions"
      ]
    },
    {
      "cell_type": "markdown",
      "metadata": {
        "id": "UpfXLSPZ7Yvd",
        "colab_type": "text"
      },
      "source": [
        "### Advanced option: Return multiple objects"
      ]
    },
    {
      "cell_type": "code",
      "metadata": {
        "id": "okfBR4Gd7b0C",
        "colab_type": "code",
        "colab": {}
      },
      "source": [
        "def KPIs(x,r,c):\n",
        "  x = pd.DataFrame(x)\n",
        "  profit = sum(x[r]) - sum(x[c])\n",
        "  roi = profit/sum(x[r]) *100\n",
        "  return[profit, roi]"
      ],
      "execution_count": null,
      "outputs": []
    },
    {
      "cell_type": "code",
      "metadata": {
        "id": "vWIdw75p7eGj",
        "colab_type": "code",
        "colab": {}
      },
      "source": [
        "KPIs(myData, \"PurchAmount\", \"Cost\")"
      ],
      "execution_count": null,
      "outputs": []
    },
    {
      "cell_type": "markdown",
      "metadata": {
        "id": "kSt4_YqS7g95",
        "colab_type": "text"
      },
      "source": [
        "### Substitute loops with the map()-function"
      ]
    },
    {
      "cell_type": "code",
      "metadata": {
        "id": "ycCTNP-57jJk",
        "colab_type": "code",
        "colab": {
          "base_uri": "https://localhost:8080/",
          "height": 33
        },
        "outputId": "dcff2b16-4b30-405d-d77e-671066a453f2"
      },
      "source": [
        "cities = [\"New York\", \"Paris\", \"London\", \"Tokyo\", \"Cape Town\"]\n",
        "list(map(len,cities))"
      ],
      "execution_count": null,
      "outputs": [
        {
          "output_type": "execute_result",
          "data": {
            "text/plain": [
              "[8, 5, 6, 5, 9]"
            ]
          },
          "metadata": {
            "tags": []
          },
          "execution_count": 11
        }
      ]
    },
    {
      "cell_type": "markdown",
      "metadata": {
        "id": "zg3MzELs7oG7",
        "colab_type": "text"
      },
      "source": [
        "### Extract components from lists"
      ]
    },
    {
      "cell_type": "code",
      "metadata": {
        "id": "JyK3J1Si7qGC",
        "colab_type": "code",
        "colab": {}
      },
      "source": [
        "#Call the function which provides a list as output\n",
        "KPI_result = KPIs(myData,\"PurchAmount\",\"Cost\")\n",
        "#get the second element\n",
        "KPI_result[0]"
      ],
      "execution_count": null,
      "outputs": []
    },
    {
      "cell_type": "code",
      "metadata": {
        "id": "3OyMhl7B7sKd",
        "colab_type": "code",
        "colab": {}
      },
      "source": [
        "#get the second element\n",
        "KPI_result[1]"
      ],
      "execution_count": null,
      "outputs": []
    },
    {
      "cell_type": "markdown",
      "metadata": {
        "id": "Zo8LtYzO8Dsw",
        "colab_type": "text"
      },
      "source": [
        "## Unit 8 Exercises "
      ]
    },
    {
      "cell_type": "markdown",
      "metadata": {
        "id": "QD_FQvso8JEZ",
        "colab_type": "text"
      },
      "source": [
        "preparation"
      ]
    },
    {
      "cell_type": "code",
      "metadata": {
        "id": "KrHNUIiA8DQ6",
        "colab_type": "code",
        "colab": {}
      },
      "source": [
        "#load the numpy package\n",
        "import numpy as np\n",
        "#load the Pandas package\n",
        "import pandas as pd\n",
        "#Read the csv file and store it in the variable \"myData\". Note: this file is hostes in a GitHub repository.\n",
        "myData=pd.read_csv(filepath_or_buffer=\"https://raw.githubusercontent.com/bachmannpatrick/Python-Class/master/data/transactions.csv\", sep=\",\")\n",
        "#Adjust the format of column \"TransDate\" to datetime\n",
        "myData[\"TransDate\"]  = pd.to_datetime(myData[\"TransDate\"], dayfirst=True)\n",
        "\n",
        "#Read the demographics csv file and store it in the variable \"CustData\". Note: this file is hostes in a GitHub repos\n",
        "CustData=pd.read_csv(\"https://raw.githubusercontent.com/bachmannpatrick/Python-Class/master/data/demographics.csv\", sep=\",\")\n",
        "# Adjust the format of column \"Birthdate\" to datetime\n",
        "CustData[\"Birthdate\"]  = pd.to_datetime(CustData[\"Birthdate\"], dayfirst=True)\n",
        "CustData[\"JoinDate\"]  = pd.to_datetime(CustData[\"JoinDate\"], dayfirst=True) "
      ],
      "execution_count": null,
      "outputs": []
    },
    {
      "cell_type": "markdown",
      "metadata": {
        "id": "alHKD6Nl8OT4",
        "colab_type": "text"
      },
      "source": [
        "##8-1 - Basic techniques for creating functions"
      ]
    },
    {
      "cell_type": "markdown",
      "metadata": {
        "id": "p9OMZ9Jk8RzM",
        "colab_type": "text"
      },
      "source": [
        "Create a function that takes two input arguments: variable A and variable B. Create a function that divides variable A by variable B."
      ]
    },
    {
      "cell_type": "code",
      "metadata": {
        "id": "ai3Qv15g8RMo",
        "colab_type": "code",
        "colab": {}
      },
      "source": [
        "def divide(x,y):\n",
        "    #result=x/y #try what happens if you substitute the code with this line\n",
        "    result= float(x)/float(y) # float() to be able to input x,y as strings\n",
        "    return result"
      ],
      "execution_count": null,
      "outputs": []
    },
    {
      "cell_type": "code",
      "metadata": {
        "id": "L3kjM5Gm8aSd",
        "colab_type": "code",
        "colab": {
          "base_uri": "https://localhost:8080/",
          "height": 33
        },
        "outputId": "3aa694c1-003c-4075-8876-137f820ff723"
      },
      "source": [
        "#Call the function\n",
        "divide(1,9)"
      ],
      "execution_count": null,
      "outputs": [
        {
          "output_type": "execute_result",
          "data": {
            "text/plain": [
              "0.1111111111111111"
            ]
          },
          "metadata": {
            "tags": []
          },
          "execution_count": 17
        }
      ]
    },
    {
      "cell_type": "code",
      "metadata": {
        "id": "4t2xhxzn8cwT",
        "colab_type": "code",
        "colab": {}
      },
      "source": [
        "def divide(x,y):\n",
        "    result=x/y\n",
        "    return result"
      ],
      "execution_count": null,
      "outputs": []
    },
    {
      "cell_type": "code",
      "metadata": {
        "id": "pKipGd208hWm",
        "colab_type": "code",
        "colab": {
          "base_uri": "https://localhost:8080/",
          "height": 33
        },
        "outputId": "7c86616d-519a-4b24-bc32-7d15f9d9d65a"
      },
      "source": [
        "#Call the function\n",
        "divide(1,9)"
      ],
      "execution_count": null,
      "outputs": [
        {
          "output_type": "execute_result",
          "data": {
            "text/plain": [
              "0.1111111111111111"
            ]
          },
          "metadata": {
            "tags": []
          },
          "execution_count": 19
        }
      ]
    },
    {
      "cell_type": "markdown",
      "metadata": {
        "id": "ZrpGiUn39dBS",
        "colab_type": "text"
      },
      "source": [
        "### 8-2 - How to write a function"
      ]
    },
    {
      "cell_type": "markdown",
      "metadata": {
        "id": "KXpWtz9M9g2T",
        "colab_type": "text"
      },
      "source": [
        "Create a function that randomly selects a name form a list. The function should have two arguments: the participants list (as array) and the number of students to pick."
      ]
    },
    {
      "cell_type": "code",
      "metadata": {
        "id": "-VvDCpaT9jed",
        "colab_type": "code",
        "colab": {}
      },
      "source": [
        "#Hint: The code to draw a function is given by\n",
        "names=(\"Debora\", \"Markus\", \"Patrick\", \"Reto\", \"Leif\")\n",
        "sampled_name=np.random.choice(names,size=1)\n",
        "print(sampled_name)"
      ],
      "execution_count": null,
      "outputs": []
    },
    {
      "cell_type": "code",
      "metadata": {
        "id": "H5D47zqp9m0v",
        "colab_type": "code",
        "colab": {}
      },
      "source": [
        "#Solution\n",
        "import numpy as np\n",
        "\n",
        "def NameSampler(x):\n",
        "    sampled_name=np.random.choice(x,size=1)\n",
        "    return sampled_name"
      ],
      "execution_count": null,
      "outputs": []
    },
    {
      "cell_type": "code",
      "metadata": {
        "id": "VEger_OK9sFp",
        "colab_type": "code",
        "colab": {}
      },
      "source": [
        "#call the function\n",
        "print(NameSampler(names))"
      ],
      "execution_count": null,
      "outputs": []
    },
    {
      "cell_type": "markdown",
      "metadata": {
        "id": "fCe_h-tQ9viW",
        "colab_type": "text"
      },
      "source": [
        "## 8-3 - Advanced techniques for creating functions"
      ]
    },
    {
      "cell_type": "markdown",
      "metadata": {
        "id": "G-FFH6sJ9xjF",
        "colab_type": "text"
      },
      "source": [
        "Extend the function which samples the names. Add another argument to specify the number of names being drawn. Set a default for this argument, i.e. if not specified 2 names should be returned."
      ]
    },
    {
      "cell_type": "code",
      "metadata": {
        "id": "SkhTvrKP9z3p",
        "colab_type": "code",
        "colab": {}
      },
      "source": [
        "#Solution\n",
        "import numpy as np\n",
        "\n",
        "def NameSampler(x, n=2):\n",
        "    sampled_name=np.random.choice(x,size=n)\n",
        "    return sampled_name"
      ],
      "execution_count": null,
      "outputs": []
    },
    {
      "cell_type": "code",
      "metadata": {
        "id": "9oFKTqTy92y8",
        "colab_type": "code",
        "colab": {}
      },
      "source": [
        "call the function\n",
        "print(NameSampler(names, n=3))"
      ],
      "execution_count": null,
      "outputs": []
    },
    {
      "cell_type": "code",
      "metadata": {
        "id": "6hs2ylss-YN-",
        "colab_type": "code",
        "colab": {
          "base_uri": "https://localhost:8080/",
          "height": 245
        },
        "outputId": "c3d4dc3b-faec-49d6-f8be-e2a27501b5f0"
      },
      "source": [
        "print(myData)"
      ],
      "execution_count": null,
      "outputs": [
        {
          "output_type": "stream",
          "text": [
            "        Customer  TransDate  Quantity  PurchAmount   Cost    TransID\n",
            "223069    186297 2012-12-09         1        14.95   5.48  129592754\n",
            "223047    186285 2012-12-09         1       129.95  42.78  129592133\n",
            "101290    121226 2012-12-09         1        19.95   9.50  131969793\n",
            "223053    186289 2012-12-09         1        69.95  29.70  129592368\n",
            "220233    199516 2012-12-09         1        59.95  25.00  131970040\n",
            "...          ...        ...       ...          ...    ...        ...\n",
            "30417     144488 2004-12-16         1        14.95   4.80  127834194\n",
            "30416     144488 2004-12-16         1        14.95   4.80  127834194\n",
            "11237     144478 2004-12-16         1        59.95  24.50  127833251\n",
            "30410     144488 2004-12-16         1         9.95   4.50  127833616\n",
            "30414     144488 2004-12-16         1        24.95  11.25  127833616\n",
            "\n",
            "[223191 rows x 6 columns]\n"
          ],
          "name": "stdout"
        }
      ]
    },
    {
      "cell_type": "code",
      "metadata": {
        "id": "3n5rLTRh-T9i",
        "colab_type": "code",
        "colab": {
          "base_uri": "https://localhost:8080/",
          "height": 33
        },
        "outputId": "f237bde3-dcdc-4062-9bd9-1b5222afc0f4"
      },
      "source": [
        "myData.sort_values(\"Customer\")\n",
        "myData.loc[1, \"TransDate\"]"
      ],
      "execution_count": null,
      "outputs": [
        {
          "output_type": "execute_result",
          "data": {
            "text/plain": [
              "Timestamp('2008-08-29 00:00:00')"
            ]
          },
          "metadata": {
            "tags": []
          },
          "execution_count": 21
        }
      ]
    }
  ]
}